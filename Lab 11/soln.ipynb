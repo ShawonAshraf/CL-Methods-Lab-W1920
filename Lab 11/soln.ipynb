{
 "nbformat": 4,
 "nbformat_minor": 2,
 "metadata": {
  "language_info": {
   "name": "python",
   "codemirror_mode": {
    "name": "ipython",
    "version": 3
   },
   "version": "3.6.2"
  },
  "orig_nbformat": 2,
  "file_extension": ".py",
  "mimetype": "text/x-python",
  "name": "python",
  "npconvert_exporter": "python",
  "pygments_lexer": "ipython3",
  "version": 3
 },
 "cells": [
  {
   "cell_type": "markdown",
   "metadata": {},
   "outputs": [],
   "source": [
    "# Lab 11 - Distributional Semantics"
   ]
  },
  {
   "cell_type": "markdown",
   "metadata": {},
   "outputs": [],
   "source": [
    "## Task 2"
   ]
  },
  {
   "cell_type": "markdown",
   "execution_count": null,
   "metadata": {},
   "outputs": [],
   "source": [
    "### Prepare Corpus"
   ]
  },
  {
   "cell_type": "code",
   "execution_count": 1,
   "metadata": {},
   "outputs": [],
   "source": [
    "targets = ['batman', 'wayne', 'joker']"
   ]
  },
  {
   "cell_type": "code",
   "execution_count": 2,
   "metadata": {},
   "outputs": [],
   "source": [
    "text = 'Batman is an American superhero. The secret identity of Batman is Bruce Wayne, an American billionaire from Gotham City. The Joker is a supervillain that embodies the ideas of anarchy and chaos. The Joker and Batman fight the battle for Gotham’s soul.'"
   ]
  },
  {
   "cell_type": "code",
   "execution_count": 3,
   "metadata": {},
   "outputs": [
    {
     "data": {
      "text/plain": "'batman is an american superhero. the secret identity of batman is bruce wayne, an american billionaire from gotham city. the joker is a supervillain that embodies the ideas of anarchy and chaos. the joker and batman fight the battle for gotham’s soul.'"
     },
     "execution_count": 3,
     "metadata": {},
     "output_type": "execute_result"
    }
   ],
   "source": [
    "corpus = text.lower()\n",
    "corpus"
   ]
  },
  {
   "cell_type": "markdown",
   "execution_count": null,
   "metadata": {},
   "outputs": [],
   "source": [
    "### Init NLTK"
   ]
  },
  {
   "cell_type": "code",
   "execution_count": 4,
   "metadata": {},
   "outputs": [
    {
     "name": "stderr",
     "output_type": "stream",
     "text": "[nltk_data] Downloading package wordnet to /Users/shawon/nltk_data...\n[nltk_data]   Package wordnet is already up-to-date!\n[nltk_data] Downloading package punkt to /Users/shawon/nltk_data...\n[nltk_data]   Package punkt is already up-to-date!\n[nltk_data] Downloading package averaged_perceptron_tagger to\n[nltk_data]     /Users/shawon/nltk_data...\n[nltk_data]   Package averaged_perceptron_tagger is already up-to-\n[nltk_data]       date!\n"
    }
   ],
   "source": [
    "import nltk\n",
    "\n",
    "try:\n",
    "    nltk.download('wordnet')\n",
    "    nltk.download('punkt')\n",
    "    nltk.download('averaged_perceptron_tagger')\n",
    "except:\n",
    "    pass"
   ]
  },
  {
   "cell_type": "code",
   "execution_count": 5,
   "metadata": {},
   "outputs": [],
   "source": [
    "from nltk.stem import WordNetLemmatizer\n",
    "from nltk import word_tokenize, pos_tag"
   ]
  },
  {
   "cell_type": "markdown",
   "metadata": {},
   "outputs": [],
   "source": [
    "### Lemmatize"
   ]
  },
  {
   "cell_type": "code",
   "execution_count": 6,
   "metadata": {},
   "outputs": [],
   "source": [
    "lemmatizer = WordNetLemmatizer()"
   ]
  },
  {
   "cell_type": "code",
   "execution_count": 7,
   "metadata": {},
   "outputs": [],
   "source": [
    "def lemmatize_sentence(sentence):\n",
    "    tagged = pos_tag(word_tokenize(sentence))\n",
    "    lemmas = []\n",
    "\n",
    "    for word, tag in tagged:\n",
    "        wntag = tag[0].lower()\n",
    "        wntag = wntag if wntag in ['a', 'n', 'v', 'r'] else None\n",
    "        if not wntag:\n",
    "            lemmas.append(word)\n",
    "        else:\n",
    "            lemmas.append(lemmatizer.lemmatize(word, wntag))\n",
    "\n",
    "    return ' '.join(lemmas)"
   ]
  },
  {
   "cell_type": "code",
   "execution_count": 8,
   "metadata": {},
   "outputs": [
    {
     "data": {
      "text/plain": "['batman is an american superhero',\n ' the secret identity of batman is bruce wayne, an american billionaire from gotham city',\n ' the joker is a supervillain that embodies the ideas of anarchy and chaos',\n ' the joker and batman fight the battle for gotham’s soul',\n '']"
     },
     "execution_count": 8,
     "metadata": {},
     "output_type": "execute_result"
    }
   ],
   "source": [
    "sentences = corpus.split('.')\n",
    "sentences"
   ]
  },
  {
   "cell_type": "code",
   "execution_count": 9,
   "metadata": {},
   "outputs": [],
   "source": [
    "lemmatized_sentences = []\n",
    "\n",
    "for sentence in sentences:\n",
    "    lemmatized_sentences.append(lemmatize_sentence(sentence))"
   ]
  },
  {
   "cell_type": "code",
   "execution_count": 10,
   "metadata": {},
   "outputs": [
    {
     "data": {
      "text/plain": "['batman be an american superhero',\n 'the secret identity of batman be bruce wayne , an american billionaire from gotham city',\n 'the joker be a supervillain that embody the idea of anarchy and chaos',\n 'the joker and batman fight the battle for gotham ’ s soul',\n '']"
     },
     "execution_count": 10,
     "metadata": {},
     "output_type": "execute_result"
    }
   ],
   "source": [
    "lemmatized_sentences"
   ]
  },
  {
   "cell_type": "markdown",
   "metadata": {},
   "outputs": [],
   "source": [
    "### Target by context matrix"
   ]
  },
  {
   "cell_type": "code",
   "execution_count": 11,
   "metadata": {},
   "outputs": [
    {
     "data": {
      "text/plain": "{'batman': [], 'wayne': [], 'joker': []}"
     },
     "execution_count": 11,
     "metadata": {},
     "output_type": "execute_result"
    }
   ],
   "source": [
    "target_v_context = {}\n",
    "for target in targets:\n",
    "    target_v_context[target] = []\n",
    "\n",
    "target_v_context"
   ]
  },
  {
   "cell_type": "markdown",
   "metadata": {},
   "outputs": [],
   "source": [
    "Create context words list"
   ]
  },
  {
   "cell_type": "code",
   "execution_count": 12,
   "metadata": {},
   "outputs": [],
   "source": [
    "# build pos tag dictionary\n",
    "tag_dict = {}\n",
    "for sentence in lemmatized_sentences:\n",
    "    tagged = pos_tag(word_tokenize(sentence))\n",
    "\n",
    "    for word, tag in tagged:\n",
    "        tag_dict[word] = tag"
   ]
  },
  {
   "cell_type": "code",
   "execution_count": 13,
   "metadata": {},
   "outputs": [
    {
     "data": {
      "text/plain": "{'batman': 'NN',\n 'be': 'VB',\n 'an': 'DT',\n 'american': 'JJ',\n 'superhero': 'NN',\n 'the': 'DT',\n 'secret': 'JJ',\n 'identity': 'NN',\n 'of': 'IN',\n 'bruce': 'VBN',\n 'wayne': 'NN',\n ',': ',',\n 'billionaire': 'NN',\n 'from': 'IN',\n 'gotham': 'JJ',\n 'city': 'NN',\n 'joker': 'NN',\n 'a': 'DT',\n 'supervillain': 'NN',\n 'that': 'WDT',\n 'embody': 'VBP',\n 'idea': 'NN',\n 'anarchy': 'NN',\n 'and': 'CC',\n 'chaos': 'NN',\n 'fight': 'VBD',\n 'battle': 'NN',\n 'for': 'IN',\n '’': 'NNP',\n 's': 'NN',\n 'soul': 'NN'}"
     },
     "execution_count": 13,
     "metadata": {},
     "output_type": "execute_result"
    }
   ],
   "source": [
    "tag_dict"
   ]
  },
  {
   "cell_type": "code",
   "execution_count": 14,
   "metadata": {},
   "outputs": [
    {
     "data": {
      "text/plain": "['batman be an american superhero',\n 'the secret identity of batman be bruce wayne , an american billionaire from gotham city',\n 'the joker be a supervillain that embody the idea of anarchy and chaos',\n 'the joker and batman fight the battle for gotham ’ s soul',\n '']"
     },
     "execution_count": 14,
     "metadata": {},
     "output_type": "execute_result"
    }
   ],
   "source": [
    "lemmatized_sentences"
   ]
  },
  {
   "cell_type": "code",
   "execution_count": 15,
   "metadata": {},
   "outputs": [],
   "source": [
    "def valid_context_word(word):\n",
    "    return tag_dict[word].lower()[0] in ['j', 'n', 'v']"
   ]
  },
  {
   "cell_type": "code",
   "execution_count": 16,
   "metadata": {},
   "outputs": [],
   "source": [
    "def process_token_subarray(sub, window_limit):\n",
    "    ret = []\n",
    "    i = 0\n",
    "    for s in sub:\n",
    "        if valid_context_word(s) and i <= window_limit:\n",
    "            ret.append(s)\n",
    "            i = i + 1\n",
    "    return ret"
   ]
  },
  {
   "cell_type": "code",
   "execution_count": 17,
   "metadata": {},
   "outputs": [],
   "source": [
    "def process_list(word_list):\n",
    "    for word in word_list:\n",
    "        context_words.add(word)"
   ]
  },
  {
   "cell_type": "code",
   "execution_count": 18,
   "metadata": {},
   "outputs": [
    {
     "name": "stdout",
     "output_type": "stream",
     "text": "\n# i: 0\nSentence: batman be an american superhero\nTarget: batman\nCaptured context words : ['batman', 'be', 'american', 'superhero']\n\n# i: 1\nSentence: the secret identity of batman be bruce wayne , an american billionaire from gotham city\nTarget: batman\nCaptured context words : ['secret', 'identity', 'batman', 'be', 'bruce', 'wayne']\nTarget: wayne\nCaptured context words : ['secret', 'identity', 'batman', 'be', 'wayne', 'american', 'billionaire', 'gotham']\n\n# i: 2\nSentence: the joker be a supervillain that embody the idea of anarchy and chaos\nTarget: joker\nCaptured context words : ['joker', 'be', 'supervillain', 'embody']\n\n# i: 3\nSentence: the joker and batman fight the battle for gotham ’ s soul\nTarget: joker\nCaptured context words : ['joker', 'batman', 'fight', 'battle']\nTarget: batman\nCaptured context words : ['joker', 'batman', 'fight', 'battle', 'gotham']\n"
    }
   ],
   "source": [
    "word_window = 3\n",
    "context_words = set()\n",
    "\n",
    "for sentence in lemmatized_sentences:\n",
    "    if sentence != '':\n",
    "        print('\\n# i: {}\\nSentence: {}'.format(lemmatized_sentences.index(sentence), sentence))\n",
    "\n",
    "    tokens = sentence.split(' ')\n",
    "    for token in tokens:\n",
    "        if token in targets:\n",
    "            print('Target: {}'.format(token))\n",
    "            context_words.add(token)\n",
    "\n",
    "            i = tokens.index(token)\n",
    "\n",
    "            # split the list into left and right and then process them\n",
    "            left = tokens[:i]\n",
    "            right = tokens[i:]\n",
    "\n",
    "            processed_left = process_token_subarray(left, word_window)\n",
    "            processed_right = process_token_subarray(right, word_window)\n",
    "\n",
    "            process_list(processed_left + processed_right)\n",
    "\n",
    "            print('Captured context words : {}'.format(processed_left + processed_right))\n",
    "            # update the vector\n",
    "            target_v_context[token] = target_v_context[token] + processed_left + processed_right"
   ]
  },
  {
   "cell_type": "code",
   "execution_count": 19,
   "metadata": {},
   "outputs": [
    {
     "data": {
      "text/plain": "{'american',\n 'batman',\n 'battle',\n 'be',\n 'billionaire',\n 'bruce',\n 'embody',\n 'fight',\n 'gotham',\n 'identity',\n 'joker',\n 'secret',\n 'superhero',\n 'supervillain',\n 'wayne'}"
     },
     "execution_count": 19,
     "metadata": {},
     "output_type": "execute_result"
    }
   ],
   "source": [
    "context_words"
   ]
  },
  {
   "cell_type": "code",
   "execution_count": 20,
   "metadata": {},
   "outputs": [
    {
     "data": {
      "text/plain": "15"
     },
     "execution_count": 20,
     "metadata": {},
     "output_type": "execute_result"
    }
   ],
   "source": [
    "len(context_words)"
   ]
  },
  {
   "cell_type": "code",
   "execution_count": 21,
   "metadata": {},
   "outputs": [
    {
     "data": {
      "text/plain": "{'batman': ['batman',\n  'be',\n  'american',\n  'superhero',\n  'secret',\n  'identity',\n  'batman',\n  'be',\n  'bruce',\n  'wayne',\n  'joker',\n  'batman',\n  'fight',\n  'battle',\n  'gotham'],\n 'wayne': ['secret',\n  'identity',\n  'batman',\n  'be',\n  'wayne',\n  'american',\n  'billionaire',\n  'gotham'],\n 'joker': ['joker',\n  'be',\n  'supervillain',\n  'embody',\n  'joker',\n  'batman',\n  'fight',\n  'battle']}"
     },
     "execution_count": 21,
     "metadata": {},
     "output_type": "execute_result"
    }
   ],
   "source": [
    "target_v_context"
   ]
  },
  {
   "cell_type": "markdown",
   "execution_count": null,
   "metadata": {},
   "outputs": [],
   "source": [
    "Set target to target matches as 0, for example `batman-batman` : 0"
   ]
  },
  {
   "cell_type": "code",
   "execution_count": 22,
   "metadata": {},
   "outputs": [
    {
     "data": {
      "text/plain": "{'batman': ['be',\n  'american',\n  'superhero',\n  'secret',\n  'identity',\n  'be',\n  'bruce',\n  'wayne',\n  'joker',\n  'fight',\n  'battle',\n  'gotham'],\n 'wayne': ['secret',\n  'identity',\n  'batman',\n  'be',\n  'american',\n  'billionaire',\n  'gotham'],\n 'joker': ['be', 'supervillain', 'embody', 'batman', 'fight', 'battle']}"
     },
     "execution_count": 22,
     "metadata": {},
     "output_type": "execute_result"
    }
   ],
   "source": [
    "for target in target_v_context.keys():\n",
    "    for cw in target_v_context[target]:\n",
    "        if cw == target:\n",
    "            i = target_v_context[target].index(cw)\n",
    "            target_v_context[target].pop(i)\n",
    "\n",
    "target_v_context"
   ]
  },
  {
   "cell_type": "markdown",
   "execution_count": 50,
   "metadata": {},
   "outputs": [
    {
     "ename": "ValueError",
     "evalue": "too many values to unpack (expected 2)",
     "output_type": "error",
     "traceback": [
      "\u001b[0;31m---------------------------------------------------------------------------\u001b[0m",
      "\u001b[0;31mValueError\u001b[0m                                Traceback (most recent call last)",
      "\u001b[0;32m<ipython-input-50-e669106d5d60>\u001b[0m in \u001b[0;36m<module>\u001b[0;34m\u001b[0m\n\u001b[0;32m----> 1\u001b[0;31m \u001b[0;32mfor\u001b[0m \u001b[0mtarget\u001b[0m\u001b[0;34m,\u001b[0m \u001b[0mcontext\u001b[0m \u001b[0;32min\u001b[0m \u001b[0mtarget_v_context\u001b[0m\u001b[0;34m:\u001b[0m\u001b[0;34m\u001b[0m\u001b[0m\n\u001b[0m\u001b[1;32m      2\u001b[0m     \u001b[0mprint\u001b[0m\u001b[0;34m(\u001b[0m\u001b[0mtarget\u001b[0m\u001b[0;34m,\u001b[0m \u001b[0mcontext\u001b[0m\u001b[0;34m)\u001b[0m\u001b[0;34m\u001b[0m\u001b[0m\n",
      "\u001b[0;31mValueError\u001b[0m: too many values to unpack (expected 2)"
     ]
    }
   ],
   "source": [
    "Build the vector"
   ]
  },
  {
   "cell_type": "code",
   "execution_count": 23,
   "metadata": {},
   "outputs": [
    {
     "name": "stdout",
     "output_type": "stream",
     "text": "batman\n{'batman': 0, 'wayne': 1, 'joker': 1, 'batman * wayne': 0, 'joker * wayne': 0}\n\nbe\n{'batman': 2, 'wayne': 1, 'joker': 1, 'batman * wayne': 0, 'joker * wayne': 0}\n\nsupervillain\n{'batman': 0, 'wayne': 0, 'joker': 1, 'batman * wayne': 0, 'joker * wayne': 0}\n\ngotham\n{'batman': 1, 'wayne': 1, 'joker': 0, 'batman * wayne': 0, 'joker * wayne': 0}\n\njoker\n{'batman': 1, 'wayne': 0, 'joker': 0, 'batman * wayne': 0, 'joker * wayne': 0}\n\nwayne\n{'batman': 1, 'wayne': 0, 'joker': 0, 'batman * wayne': 0, 'joker * wayne': 0}\n\nbattle\n{'batman': 1, 'wayne': 0, 'joker': 1, 'batman * wayne': 0, 'joker * wayne': 0}\n\nfight\n{'batman': 1, 'wayne': 0, 'joker': 1, 'batman * wayne': 0, 'joker * wayne': 0}\n\nsuperhero\n{'batman': 1, 'wayne': 0, 'joker': 0, 'batman * wayne': 0, 'joker * wayne': 0}\n\nbillionaire\n{'batman': 0, 'wayne': 1, 'joker': 0, 'batman * wayne': 0, 'joker * wayne': 0}\n\nbruce\n{'batman': 1, 'wayne': 0, 'joker': 0, 'batman * wayne': 0, 'joker * wayne': 0}\n\namerican\n{'batman': 1, 'wayne': 1, 'joker': 0, 'batman * wayne': 0, 'joker * wayne': 0}\n\nsecret\n{'batman': 1, 'wayne': 1, 'joker': 0, 'batman * wayne': 0, 'joker * wayne': 0}\n\nembody\n{'batman': 0, 'wayne': 0, 'joker': 1, 'batman * wayne': 0, 'joker * wayne': 0}\n\nidentity\n{'batman': 1, 'wayne': 1, 'joker': 0, 'batman * wayne': 0, 'joker * wayne': 0}\n\n"
    }
   ],
   "source": [
    "import collections\n",
    "\n",
    "vector = {}\n",
    "features = targets + ['batman * wayne', 'joker * wayne']\n",
    "\n",
    "for cw in context_words:\n",
    "    vector[cw] = {}\n",
    "    for f in features:\n",
    "        vector[cw][f] = 0\n",
    "\n",
    "\n",
    "for target in target_v_context.keys():\n",
    "    c = collections.Counter(target_v_context[target])\n",
    "    \n",
    "    for v in vector.keys():\n",
    "        vector[v][target] = c[v]\n",
    "\n",
    "for v in vector.keys():\n",
    "    print(v)\n",
    "    print(vector[v])\n",
    "    print()"
   ]
  },
  {
   "cell_type": "code",
   "execution_count": 24,
   "metadata": {},
   "outputs": [],
   "source": [
    "def batman_wayne(batman, wayne):\n",
    "    return batman * wayne\n",
    "\n",
    "def joker_wayne(joker, wayne):\n",
    "    return joker * wayne"
   ]
  },
  {
   "cell_type": "code",
   "execution_count": 25,
   "metadata": {},
   "outputs": [],
   "source": [
    "for v in vector.keys():\n",
    "    vector[v]['batman * wayne'] = batman_wayne(vector[v]['batman'], vector[v]['wayne'])\n",
    "    vector[v]['joker * wayne'] = joker_wayne(vector[v]['joker'], vector[v]['wayne'])"
   ]
  },
  {
   "cell_type": "markdown",
   "execution_count": null,
   "metadata": {},
   "outputs": [],
   "source": [
    "Count vector dims"
   ]
  },
  {
   "cell_type": "code",
   "execution_count": 26,
   "metadata": {},
   "outputs": [
    {
     "data": {
      "text/plain": "{'batman': 12, 'wayne': 7, 'joker': 6, 'batman * wayne': 6, 'joker * wayne': 2}"
     },
     "execution_count": 26,
     "metadata": {},
     "output_type": "execute_result"
    }
   ],
   "source": [
    "dim_count = {}\n",
    "\n",
    "for f in features:\n",
    "    dim_count[f] = 0\n",
    "\n",
    "for v in vector.keys():\n",
    "    for d in dim_count.keys():\n",
    "        dim_count[d] = dim_count[d] + vector[v][d]\n",
    "\n",
    "dim_count"
   ]
  },
  {
   "cell_type": "markdown",
   "execution_count": null,
   "metadata": {},
   "outputs": [],
   "source": [
    "Compute Cosines"
   ]
  },
  {
   "cell_type": "code",
   "execution_count": 27,
   "metadata": {},
   "outputs": [],
   "source": [
    "import math\n",
    "\n",
    "def cosine(uv, u, v):\n",
    "    return uv / (math.sqrt(u) * math.sqrt(v))"
   ]
  },
  {
   "cell_type": "markdown",
   "execution_count": null,
   "metadata": {},
   "outputs": [],
   "source": [
    "wayne is batman"
   ]
  },
  {
   "cell_type": "code",
   "execution_count": 28,
   "metadata": {},
   "outputs": [
    {
     "data": {
      "text/plain": "0.6546536707079772"
     },
     "execution_count": 28,
     "metadata": {},
     "output_type": "execute_result"
    }
   ],
   "source": [
    "w_bat = cosine(dim_count['batman * wayne'], dim_count['batman'], dim_count['wayne'])\n",
    "w_bat"
   ]
  },
  {
   "cell_type": "markdown",
   "execution_count": null,
   "metadata": {},
   "outputs": [],
   "source": [
    "wayne is joker"
   ]
  },
  {
   "cell_type": "code",
   "execution_count": 29,
   "metadata": {},
   "outputs": [
    {
     "data": {
      "text/plain": "0.3086066999241838"
     },
     "execution_count": 29,
     "metadata": {},
     "output_type": "execute_result"
    }
   ],
   "source": [
    "w_joker = cosine(dim_count['joker * wayne'], dim_count['joker'], dim_count['wayne'])\n",
    "w_joker"
   ]
  },
  {
   "cell_type": "markdown",
   "execution_count": null,
   "metadata": {},
   "outputs": [],
   "source": [
    "So, who's Wayne actually?"
   ]
  },
  {
   "cell_type": "code",
   "execution_count": 30,
   "metadata": {},
   "outputs": [
    {
     "name": "stdout",
     "output_type": "stream",
     "text": "Wayne is Batman!\n"
    }
   ],
   "source": [
    "print('Wayne is Batman!') if w_bat > w_joker else print('Wayne is the Joker!')"
   ]
  }
 ]
}