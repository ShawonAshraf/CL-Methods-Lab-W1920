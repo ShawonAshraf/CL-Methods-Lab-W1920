{
 "cells": [
  {
   "cell_type": "markdown",
   "metadata": {},
   "source": [
    "# Lab 10 - Word Sense Disambiguation"
   ]
  },
  {
   "cell_type": "markdown",
   "metadata": {},
   "source": [
    "### Load senses and lemmas"
   ]
  },
  {
   "cell_type": "code",
   "execution_count": 1,
   "metadata": {},
   "outputs": [],
   "source": [
    "senses = dict()\n",
    "lemmas = dict()"
   ]
  },
  {
   "cell_type": "markdown",
   "metadata": {},
   "source": [
    "### Define accepted POS"
   ]
  },
  {
   "cell_type": "code",
   "execution_count": 2,
   "metadata": {},
   "outputs": [],
   "source": [
    "accepted=[ 'NN', 'NNS','NNP', 'NNPS', 'MD', 'VB', 'VBD', 'VBG', 'VBN', 'VBZ','JJ', 'JJR', 'JJS'] "
   ]
  },
  {
   "cell_type": "markdown",
   "metadata": {},
   "source": [
    "### Load senses and the target"
   ]
  },
  {
   "cell_type": "code",
   "execution_count": 3,
   "metadata": {},
   "outputs": [],
   "source": [
    "target = 'bank'\n",
    "x = 0 # for iteration"
   ]
  },
  {
   "cell_type": "code",
   "execution_count": 4,
   "metadata": {},
   "outputs": [],
   "source": [
    "# sense generated from Bank-senses.txt and lemmatized via CoreNLP\n",
    "sense_file_name = 'senses.txt.conll'\n",
    "\n",
    "import os\n",
    "sense_file_name = os.path.join(os.getcwd(), sense_file_name)"
   ]
  },
  {
   "cell_type": "code",
   "execution_count": 5,
   "metadata": {},
   "outputs": [],
   "source": [
    "with open(sense_file_name) as f:\n",
    "    for line in f:\n",
    "        items = line.strip().split('\\t')\n",
    "        if len(items) > 1:\n",
    "            lemma = items[2]\n",
    "            pos = items[3]\n",
    "            # check for new sense\n",
    "            if lemma == '#':\n",
    "                senses[x] = lemmas\n",
    "                x += 1\n",
    "                lemmas = set()\n",
    "            elif pos in accepted:\n",
    "                # check if the lemma matches the target, exlclude if true\n",
    "                if lemma != target:\n",
    "                    lemmas.add(lemma)\n",
    "senses[x] = lemmas"
   ]
  },
  {
   "cell_type": "code",
   "execution_count": 6,
   "metadata": {},
   "outputs": [
    {
     "data": {
      "text/plain": [
       "{0: {},\n",
       " 1: {'body',\n",
       "  'canoe',\n",
       "  'current',\n",
       "  'land',\n",
       "  'pull',\n",
       "  'river',\n",
       "  'sit',\n",
       "  'slope',\n",
       "  'sloping',\n",
       "  'watch',\n",
       "  'water'},\n",
       " 2: {'accept',\n",
       "  'activity',\n",
       "  'banking',\n",
       "  'cash',\n",
       "  'channel',\n",
       "  'check',\n",
       "  'company',\n",
       "  'concern',\n",
       "  'deposit',\n",
       "  'depository',\n",
       "  'financial',\n",
       "  'hold',\n",
       "  'home',\n",
       "  'institution',\n",
       "  'lending',\n",
       "  'money',\n",
       "  'mortgage'},\n",
       " 3: {'earth', 'huge', 'long', 'pile', 'ridge'},\n",
       " 4: {'arrangement', 'object', 'operate', 'row', 'similar', 'switch', 'tier'},\n",
       " 5: {'emergency', 'future', 'hold', 'reserve', 'stock', 'supply', 'use'},\n",
       " 6: {'Carlo',\n",
       "  'Monte',\n",
       "  'break',\n",
       "  'dealer',\n",
       "  'fund',\n",
       "  'gambling',\n",
       "  'game',\n",
       "  'hold',\n",
       "  'house',\n",
       "  'try'},\n",
       " 7: {'be',\n",
       "  'camber',\n",
       "  'cant',\n",
       "  'centrifugal',\n",
       "  'effect',\n",
       "  'force',\n",
       "  'higher',\n",
       "  'inside',\n",
       "  'order',\n",
       "  'outside',\n",
       "  'reduce',\n",
       "  'road',\n",
       "  'slope',\n",
       "  'track',\n",
       "  'turn'},\n",
       " 8: {'be',\n",
       "  'box',\n",
       "  'coin',\n",
       "  'container',\n",
       "  'empty',\n",
       "  'home',\n",
       "  'keep',\n",
       "  'money',\n",
       "  'savings',\n",
       "  'slot',\n",
       "  'top'},\n",
       " 9: {'Nassau',\n",
       "  'Witherspoon',\n",
       "  'banking',\n",
       "  'be',\n",
       "  'building',\n",
       "  'business',\n",
       "  'corner',\n",
       "  'transact'},\n",
       " 10: {'aircraft',\n",
       "  'axis',\n",
       "  'flight',\n",
       "  'go',\n",
       "  'longitudinal',\n",
       "  'maneuver',\n",
       "  'plane',\n",
       "  'steep',\n",
       "  'tip',\n",
       "  'turn'}}"
      ]
     },
     "execution_count": 6,
     "metadata": {},
     "output_type": "execute_result"
    }
   ],
   "source": [
    "senses"
   ]
  },
  {
   "cell_type": "markdown",
   "metadata": {},
   "source": [
    "## Task 1\n",
    "\n",
    "Already done using wordnet and corenlp"
   ]
  },
  {
   "cell_type": "markdown",
   "metadata": {},
   "source": [
    "## Task 2"
   ]
  },
  {
   "cell_type": "markdown",
   "metadata": {},
   "source": [
    "### Dice Coefficient\n",
    "\n",
    "$$\n",
    "D = \\frac{2M}{C + I}\n",
    "$$\n",
    "\n",
    "M = number of matching words\n",
    "\n",
    "C = number of words in a context\n",
    "\n",
    "I = number of words in glosses/senses, also known as indicators"
   ]
  },
  {
   "cell_type": "code",
   "execution_count": 7,
   "metadata": {},
   "outputs": [],
   "source": [
    "def get_dice_coefficient(m, c, i):\n",
    "    d = float(2 * m) / float(c + i)\n",
    "    return round(d, 2)"
   ]
  },
  {
   "cell_type": "markdown",
   "metadata": {},
   "source": [
    "### Load sentence for sense disambiguation"
   ]
  },
  {
   "cell_type": "code",
   "execution_count": 8,
   "metadata": {},
   "outputs": [],
   "source": [
    "sentence_file_name = os.path.join(os.getcwd(), 'sentence.txt.conll')\n",
    "\n",
    "sentence = set()\n",
    "\n",
    "with open(sentence_file_name) as f:\n",
    "    for line in f:\n",
    "        items = line.strip().split('\\t')\n",
    "        if len(items) > 1:\n",
    "            lemma = items[2]\n",
    "            pos = items[3]\n",
    "\n",
    "            if pos in accepted:\n",
    "                if lemma != target:\n",
    "                    sentence.add(lemma)"
   ]
  },
  {
   "cell_type": "code",
   "execution_count": 9,
   "metadata": {},
   "outputs": [
    {
     "data": {
      "text/plain": [
       "{'go', 'last', 'money', 'river', 'time', 'watch', 'withdraw'}"
      ]
     },
     "execution_count": 9,
     "metadata": {},
     "output_type": "execute_result"
    }
   ],
   "source": [
    "sentence"
   ]
  },
  {
   "cell_type": "markdown",
   "metadata": {},
   "source": [
    "The most probable sense here for the input sentence `After withdrawing all the money, he went to the bank to watch the river for the last time.` is `senses[1]` which refers to the bank of a river."
   ]
  },
  {
   "cell_type": "code",
   "execution_count": 10,
   "metadata": {},
   "outputs": [
    {
     "name": "stdout",
     "output_type": "stream",
     "text": [
      "sense: 0\n",
      "dice coefficient: 0.0\n",
      "\n",
      "sense: 1\n",
      "-> watch\n",
      "slope\n",
      "land\n",
      "canoe\n",
      "sit\n",
      "water\n",
      "sloping\n",
      "pull\n",
      "-> river\n",
      "current\n",
      "body\n",
      "dice coefficient: 0.22\n",
      "\n",
      "sense: 2\n",
      "check\n",
      "hold\n",
      "activity\n",
      "mortgage\n",
      "concern\n",
      "cash\n",
      "lending\n",
      "channel\n",
      "financial\n",
      "accept\n",
      "institution\n",
      "depository\n",
      "deposit\n",
      "company\n",
      "-> money\n",
      "home\n",
      "banking\n",
      "dice coefficient: 0.08\n",
      "\n",
      "sense: 3\n",
      "ridge\n",
      "huge\n",
      "earth\n",
      "pile\n",
      "long\n",
      "dice coefficient: 0.0\n",
      "\n",
      "sense: 4\n",
      "row\n",
      "similar\n",
      "operate\n",
      "tier\n",
      "object\n",
      "switch\n",
      "arrangement\n",
      "dice coefficient: 0.0\n",
      "\n",
      "sense: 5\n",
      "future\n",
      "emergency\n",
      "supply\n",
      "hold\n",
      "use\n",
      "stock\n",
      "reserve\n",
      "dice coefficient: 0.0\n",
      "\n",
      "sense: 6\n",
      "dealer\n",
      "gambling\n",
      "try\n",
      "Carlo\n",
      "game\n",
      "break\n",
      "house\n",
      "hold\n",
      "Monte\n",
      "fund\n",
      "dice coefficient: 0.0\n",
      "\n",
      "sense: 7\n",
      "centrifugal\n",
      "outside\n",
      "higher\n",
      "slope\n",
      "reduce\n",
      "camber\n",
      "road\n",
      "force\n",
      "inside\n",
      "track\n",
      "order\n",
      "be\n",
      "turn\n",
      "effect\n",
      "cant\n",
      "dice coefficient: 0.0\n",
      "\n",
      "sense: 8\n",
      "top\n",
      "slot\n",
      "savings\n",
      "container\n",
      "empty\n",
      "keep\n",
      "be\n",
      "coin\n",
      "home\n",
      "-> money\n",
      "box\n",
      "dice coefficient: 0.11\n",
      "\n",
      "sense: 9\n",
      "corner\n",
      "Nassau\n",
      "be\n",
      "transact\n",
      "Witherspoon\n",
      "business\n",
      "building\n",
      "banking\n",
      "dice coefficient: 0.0\n",
      "\n",
      "sense: 10\n",
      "-> go\n",
      "flight\n",
      "steep\n",
      "longitudinal\n",
      "plane\n",
      "axis\n",
      "maneuver\n",
      "aircraft\n",
      "tip\n",
      "turn\n",
      "dice coefficient: 0.12\n",
      "\n"
     ]
    }
   ],
   "source": [
    "dices = list()\n",
    "overlaps = list()\n",
    "\n",
    "for x in range(len(senses)):\n",
    "    print('sense: {}'.format(x))\n",
    "    overlap = 0\n",
    "    for indicator in senses[x]:\n",
    "        for word in sentence:\n",
    "            if indicator == word:\n",
    "                overlap += 1\n",
    "                print('-> ', end='')\n",
    "        print(indicator)\n",
    "    d = get_dice_coefficient(overlap, len(sentence), len(senses[x]))\n",
    "    dices.append(d)\n",
    "\n",
    "    print('dice coefficient: {}'.format(d))\n",
    "    print()\n",
    "\n",
    "    # for plotting\n",
    "    overlaps.append(overlap)"
   ]
  },
  {
   "cell_type": "code",
   "execution_count": 11,
   "metadata": {},
   "outputs": [
    {
     "data": {
      "text/plain": [
       "[0.0, 0.22, 0.08, 0.0, 0.0, 0.0, 0.0, 0.0, 0.11, 0.0, 0.12]"
      ]
     },
     "execution_count": 11,
     "metadata": {},
     "output_type": "execute_result"
    }
   ],
   "source": [
    "dices"
   ]
  },
  {
   "cell_type": "markdown",
   "metadata": {},
   "source": [
    "## Task 3\n",
    "Applying Lesk Algorithm : finding the max overlap, which is again the most significant sense found above."
   ]
  },
  {
   "cell_type": "code",
   "execution_count": 12,
   "metadata": {},
   "outputs": [
    {
     "name": "stdout",
     "output_type": "stream",
     "text": [
      "target: bank\t index: 1\n",
      "dice coefficient: 0.22\n",
      "context: {'last', 'go', 'watch', 'time', 'withdraw', 'river', 'money'}\n",
      "indicators/glosses/senses: {'watch', 'slope', 'land', 'canoe', 'sit', 'water', 'sloping', 'pull', 'river', 'current', 'body'}\n",
      "interception: {'river', 'watch'}\n"
     ]
    }
   ],
   "source": [
    "sense_index = dices.index(max(dices))\n",
    "\n",
    "print('target: {}\\t index: {}'.format(target, sense_index))\n",
    "print('dice coefficient: {}'.format(dices[sense_index]))\n",
    "print('context: {}'.format(sentence))\n",
    "print('indicators/glosses/senses: {}'.format(senses[sense_index]))\n",
    "print('interception: {}'.format(senses[sense_index] & sentence))"
   ]
  },
  {
   "cell_type": "markdown",
   "metadata": {},
   "source": [
    "## Extra : Plotting dice-coefficient vs overlap"
   ]
  },
  {
   "cell_type": "code",
   "execution_count": 13,
   "metadata": {},
   "outputs": [],
   "source": [
    "%matplotlib inline\n",
    "\n",
    "import matplotlib.pyplot as plt"
   ]
  },
  {
   "cell_type": "code",
   "execution_count": 14,
   "metadata": {},
   "outputs": [
    {
     "data": {
      "text/plain": [
       "Text(0.5, 0, 'dice-coefficient')"
      ]
     },
     "execution_count": 14,
     "metadata": {},
     "output_type": "execute_result"
    },
    {
     "data": {
      "image/png": "[encoded data removed]",
      "text/plain": [
       "<Figure size 432x288 with 1 Axes>"
      ]
     },
     "metadata": {
      "needs_background": "light"
     },
     "output_type": "display_data"
    }
   ],
   "source": [
    "x_ax = dices\n",
    "y_ax = overlaps\n",
    "\n",
    "plt.plot(x_ax, y_ax, 'r^')\n",
    "plt.ylabel('overlap')\n",
    "plt.xlabel('dice-coefficient')"
   ]
  },
  {
   "cell_type": "markdown",
   "metadata": {},
   "source": [
    "Overlap grows with Dice Coefficient."
   ]
  }
 ],
 "metadata": {
  "file_extension": ".py",
  "kernelspec": {
   "display_name": "Python 3",
   "language": "python",
   "name": "python3"
  },
  "language_info": {
   "codemirror_mode": {
    "name": "ipython",
    "version": 3
   },
   "file_extension": ".py",
   "mimetype": "text/x-python",
   "name": "python",
   "nbconvert_exporter": "python",
   "pygments_lexer": "ipython3",
   "version": "3.6.2"
  },
  "mimetype": "text/x-python",
  "name": "python",
  "npconvert_exporter": "python",
  "pygments_lexer": "ipython3",
  "version": 3
 },
 "nbformat": 4,
 "nbformat_minor": 2
}
