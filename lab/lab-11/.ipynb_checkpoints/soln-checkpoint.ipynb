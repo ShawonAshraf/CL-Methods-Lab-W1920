{
 "cells": [
  {
   "cell_type": "markdown",
   "metadata": {},
   "source": [
    "# Lab 11 - Distributional Semantics"
   ]
  },
  {
   "cell_type": "markdown",
   "metadata": {},
   "source": [
    "## Task 2 "
   ]
  },
  {
   "cell_type": "markdown",
   "metadata": {},
   "source": [
    "### Prepare Corpus"
   ]
  },
  {
   "cell_type": "code",
   "execution_count": 1,
   "metadata": {},
   "outputs": [],
   "source": [
    "targets = ['batman', 'wayne', 'joker']"
   ]
  },
  {
   "cell_type": "code",
   "execution_count": 2,
   "metadata": {},
   "outputs": [],
   "source": [
    "text = 'Batman is an American superhero. The secret identity of Batman is Bruce Wayne, an American billionaire from Gotham City. The Joker is a supervillain that embodies the ideas of anarchy and chaos. The Joker and Batman fight the battle for Gotham’s soul.'"
   ]
  },
  {
   "cell_type": "code",
   "execution_count": 3,
   "metadata": {},
   "outputs": [
    {
     "data": {
      "text/plain": [
       "'batman is an american superhero. the secret identity of batman is bruce wayne, an american billionaire from gotham city. the joker is a supervillain that embodies the ideas of anarchy and chaos. the joker and batman fight the battle for gotham’s soul.'"
      ]
     },
     "execution_count": 3,
     "metadata": {},
     "output_type": "execute_result"
    }
   ],
   "source": [
    "corpus = text.lower()\n",
    "corpus"
   ]
  },
  {
   "cell_type": "markdown",
   "metadata": {},
   "source": [
    "### Init NLTK"
   ]
  },
  {
   "cell_type": "code",
   "execution_count": 4,
   "metadata": {},
   "outputs": [
    {
     "name": "stderr",
     "output_type": "stream",
     "text": [
      "[nltk_data] Downloading package wordnet to /Users/shawon/nltk_data...\n",
      "[nltk_data]   Package wordnet is already up-to-date!\n",
      "[nltk_data] Downloading package punkt to /Users/shawon/nltk_data...\n",
      "[nltk_data]   Package punkt is already up-to-date!\n",
      "[nltk_data] Downloading package averaged_perceptron_tagger to\n",
      "[nltk_data]     /Users/shawon/nltk_data...\n",
      "[nltk_data]   Package averaged_perceptron_tagger is already up-to-\n",
      "[nltk_data]       date!\n"
     ]
    }
   ],
   "source": [
    "import nltk\n",
    "\n",
    "try:\n",
    "    nltk.download('wordnet')\n",
    "    nltk.download('punkt')\n",
    "    nltk.download('averaged_perceptron_tagger')\n",
    "except:\n",
    "    pass"
   ]
  },
  {
   "cell_type": "code",
   "execution_count": 5,
   "metadata": {},
   "outputs": [],
   "source": [
    "from nltk.stem import WordNetLemmatizer\n",
    "from nltk import word_tokenize, pos_tag"
   ]
  },
  {
   "cell_type": "markdown",
   "metadata": {},
   "source": [
    "### Lemmatize"
   ]
  },
  {
   "cell_type": "code",
   "execution_count": 6,
   "metadata": {},
   "outputs": [],
   "source": [
    "lemmatizer = WordNetLemmatizer()"
   ]
  },
  {
   "cell_type": "code",
   "execution_count": 7,
   "metadata": {},
   "outputs": [],
   "source": [
    "def lemmatize_sentence(sentence):\n",
    "    tagged = pos_tag(word_tokenize(sentence))\n",
    "    lemmas = []\n",
    "\n",
    "    for word, tag in tagged:\n",
    "        wntag = tag[0].lower()\n",
    "        wntag = wntag if wntag in ['a', 'n', 'v', 'r'] else None\n",
    "        if not wntag:\n",
    "            lemmas.append(word)\n",
    "        else:\n",
    "            lemmas.append(lemmatizer.lemmatize(word, wntag))\n",
    "\n",
    "    return ' '.join(lemmas)"
   ]
  },
  {
   "cell_type": "code",
   "execution_count": 8,
   "metadata": {},
   "outputs": [
    {
     "data": {
      "text/plain": [
       "['batman is an american superhero',\n",
       " ' the secret identity of batman is bruce wayne, an american billionaire from gotham city',\n",
       " ' the joker is a supervillain that embodies the ideas of anarchy and chaos',\n",
       " ' the joker and batman fight the battle for gotham’s soul',\n",
       " '']"
      ]
     },
     "execution_count": 8,
     "metadata": {},
     "output_type": "execute_result"
    }
   ],
   "source": [
    "sentences = corpus.split('.')\n",
    "sentences"
   ]
  },
  {
   "cell_type": "code",
   "execution_count": 9,
   "metadata": {},
   "outputs": [],
   "source": [
    "lemmatized_sentences = []\n",
    "\n",
    "for sentence in sentences:\n",
    "    lemmatized_sentences.append(lemmatize_sentence(sentence))"
   ]
  },
  {
   "cell_type": "code",
   "execution_count": 10,
   "metadata": {},
   "outputs": [
    {
     "data": {
      "text/plain": [
       "['batman be an american superhero',\n",
       " 'the secret identity of batman be bruce wayne , an american billionaire from gotham city',\n",
       " 'the joker be a supervillain that embody the idea of anarchy and chaos',\n",
       " 'the joker and batman fight the battle for gotham ’ s soul',\n",
       " '']"
      ]
     },
     "execution_count": 10,
     "metadata": {},
     "output_type": "execute_result"
    }
   ],
   "source": [
    "lemmatized_sentences"
   ]
  },
  {
   "cell_type": "markdown",
   "metadata": {},
   "source": [
    "### Target by context matrix"
   ]
  },
  {
   "cell_type": "code",
   "execution_count": 11,
   "metadata": {},
   "outputs": [
    {
     "data": {
      "text/plain": [
       "{'batman': [], 'wayne': [], 'joker': []}"
      ]
     },
     "execution_count": 11,
     "metadata": {},
     "output_type": "execute_result"
    }
   ],
   "source": [
    "target_v_context = {}\n",
    "for target in targets:\n",
    "    target_v_context[target] = []\n",
    "\n",
    "target_v_context"
   ]
  },
  {
   "cell_type": "markdown",
   "metadata": {},
   "source": [
    "Create context words list"
   ]
  },
  {
   "cell_type": "code",
   "execution_count": 12,
   "metadata": {},
   "outputs": [],
   "source": [
    "# build pos tag dictionary\n",
    "tag_dict = {}\n",
    "for sentence in lemmatized_sentences:\n",
    "    tagged = pos_tag(word_tokenize(sentence))\n",
    "\n",
    "    for word, tag in tagged:\n",
    "        tag_dict[word] = tag"
   ]
  },
  {
   "cell_type": "code",
   "execution_count": 13,
   "metadata": {},
   "outputs": [
    {
     "data": {
      "text/plain": [
       "{'batman': 'NN',\n",
       " 'be': 'VB',\n",
       " 'an': 'DT',\n",
       " 'american': 'JJ',\n",
       " 'superhero': 'NN',\n",
       " 'the': 'DT',\n",
       " 'secret': 'JJ',\n",
       " 'identity': 'NN',\n",
       " 'of': 'IN',\n",
       " 'bruce': 'VBN',\n",
       " 'wayne': 'NN',\n",
       " ',': ',',\n",
       " 'billionaire': 'NN',\n",
       " 'from': 'IN',\n",
       " 'gotham': 'JJ',\n",
       " 'city': 'NN',\n",
       " 'joker': 'NN',\n",
       " 'a': 'DT',\n",
       " 'supervillain': 'NN',\n",
       " 'that': 'WDT',\n",
       " 'embody': 'VBP',\n",
       " 'idea': 'NN',\n",
       " 'anarchy': 'NN',\n",
       " 'and': 'CC',\n",
       " 'chaos': 'NN',\n",
       " 'fight': 'VBD',\n",
       " 'battle': 'NN',\n",
       " 'for': 'IN',\n",
       " '’': 'NNP',\n",
       " 's': 'NN',\n",
       " 'soul': 'NN'}"
      ]
     },
     "execution_count": 13,
     "metadata": {},
     "output_type": "execute_result"
    }
   ],
   "source": [
    "tag_dict"
   ]
  },
  {
   "cell_type": "code",
   "execution_count": 14,
   "metadata": {},
   "outputs": [
    {
     "data": {
      "text/plain": [
       "['batman be an american superhero',\n",
       " 'the secret identity of batman be bruce wayne , an american billionaire from gotham city',\n",
       " 'the joker be a supervillain that embody the idea of anarchy and chaos',\n",
       " 'the joker and batman fight the battle for gotham ’ s soul',\n",
       " '']"
      ]
     },
     "execution_count": 14,
     "metadata": {},
     "output_type": "execute_result"
    }
   ],
   "source": [
    "lemmatized_sentences"
   ]
  },
  {
   "cell_type": "code",
   "execution_count": 15,
   "metadata": {},
   "outputs": [],
   "source": [
    "def valid_context_word(word):\n",
    "    return tag_dict[word].lower()[0] in ['j', 'n', 'v']"
   ]
  },
  {
   "cell_type": "code",
   "execution_count": 16,
   "metadata": {},
   "outputs": [],
   "source": [
    "def process_token_subarray(sub, window_limit):\n",
    "    ret = []\n",
    "    i = 0\n",
    "    for s in sub:\n",
    "        if valid_context_word(s) and i <= window_limit:\n",
    "            ret.append(s)\n",
    "            i = i + 1\n",
    "    return ret"
   ]
  },
  {
   "cell_type": "code",
   "execution_count": 17,
   "metadata": {},
   "outputs": [],
   "source": [
    "def process_list(word_list):\n",
    "    for word in word_list:\n",
    "        context_words.add(word)"
   ]
  },
  {
   "cell_type": "code",
   "execution_count": 18,
   "metadata": {},
   "outputs": [
    {
     "name": "stdout",
     "output_type": "stream",
     "text": [
      "\n",
      "# i: 0\n",
      "Sentence: batman be an american superhero\n",
      "Target: batman\n",
      "Captured context words : ['batman', 'be', 'american', 'superhero']\n",
      "\n",
      "# i: 1\n",
      "Sentence: the secret identity of batman be bruce wayne , an american billionaire from gotham city\n",
      "Target: batman\n",
      "Captured context words : ['secret', 'identity', 'batman', 'be', 'bruce', 'wayne']\n",
      "Target: wayne\n",
      "Captured context words : ['secret', 'identity', 'batman', 'be', 'wayne', 'american', 'billionaire', 'gotham']\n",
      "\n",
      "# i: 2\n",
      "Sentence: the joker be a supervillain that embody the idea of anarchy and chaos\n",
      "Target: joker\n",
      "Captured context words : ['joker', 'be', 'supervillain', 'embody']\n",
      "\n",
      "# i: 3\n",
      "Sentence: the joker and batman fight the battle for gotham ’ s soul\n",
      "Target: joker\n",
      "Captured context words : ['joker', 'batman', 'fight', 'battle']\n",
      "Target: batman\n",
      "Captured context words : ['joker', 'batman', 'fight', 'battle', 'gotham']\n"
     ]
    }
   ],
   "source": [
    "word_window = 3\n",
    "context_words = set()\n",
    "\n",
    "for sentence in lemmatized_sentences:\n",
    "    if sentence != '':\n",
    "        print('\\n# i: {}\\nSentence: {}'.format(lemmatized_sentences.index(sentence), sentence))\n",
    "\n",
    "    tokens = sentence.split(' ')\n",
    "    for token in tokens:\n",
    "        if token in targets:\n",
    "            print('Target: {}'.format(token))\n",
    "            context_words.add(token)\n",
    "\n",
    "            i = tokens.index(token)\n",
    "\n",
    "            # split the list into left and right and then process them\n",
    "            left = tokens[:i]\n",
    "            right = tokens[i:]\n",
    "\n",
    "            processed_left = process_token_subarray(left, word_window)\n",
    "            processed_right = process_token_subarray(right, word_window)\n",
    "\n",
    "            process_list(processed_left + processed_right)\n",
    "\n",
    "            print('Captured context words : {}'.format(processed_left + processed_right))\n",
    "            # update the vector\n",
    "            target_v_context[token] = target_v_context[token] + processed_left + processed_right"
   ]
  },
  {
   "cell_type": "code",
   "execution_count": 19,
   "metadata": {},
   "outputs": [
    {
     "data": {
      "text/plain": [
       "{'american',\n",
       " 'batman',\n",
       " 'battle',\n",
       " 'be',\n",
       " 'billionaire',\n",
       " 'bruce',\n",
       " 'embody',\n",
       " 'fight',\n",
       " 'gotham',\n",
       " 'identity',\n",
       " 'joker',\n",
       " 'secret',\n",
       " 'superhero',\n",
       " 'supervillain',\n",
       " 'wayne'}"
      ]
     },
     "execution_count": 19,
     "metadata": {},
     "output_type": "execute_result"
    }
   ],
   "source": [
    "context_words"
   ]
  },
  {
   "cell_type": "code",
   "execution_count": 20,
   "metadata": {},
   "outputs": [
    {
     "data": {
      "text/plain": [
       "15"
      ]
     },
     "execution_count": 20,
     "metadata": {},
     "output_type": "execute_result"
    }
   ],
   "source": [
    "len(context_words)"
   ]
  },
  {
   "cell_type": "code",
   "execution_count": 21,
   "metadata": {},
   "outputs": [
    {
     "data": {
      "text/plain": [
       "{'batman': ['batman',\n",
       "  'be',\n",
       "  'american',\n",
       "  'superhero',\n",
       "  'secret',\n",
       "  'identity',\n",
       "  'batman',\n",
       "  'be',\n",
       "  'bruce',\n",
       "  'wayne',\n",
       "  'joker',\n",
       "  'batman',\n",
       "  'fight',\n",
       "  'battle',\n",
       "  'gotham'],\n",
       " 'wayne': ['secret',\n",
       "  'identity',\n",
       "  'batman',\n",
       "  'be',\n",
       "  'wayne',\n",
       "  'american',\n",
       "  'billionaire',\n",
       "  'gotham'],\n",
       " 'joker': ['joker',\n",
       "  'be',\n",
       "  'supervillain',\n",
       "  'embody',\n",
       "  'joker',\n",
       "  'batman',\n",
       "  'fight',\n",
       "  'battle']}"
      ]
     },
     "execution_count": 21,
     "metadata": {},
     "output_type": "execute_result"
    }
   ],
   "source": [
    "target_v_context"
   ]
  },
  {
   "cell_type": "markdown",
   "metadata": {},
   "source": [
    "Set target to target matches as 0, for example `batman-batman` : 0"
   ]
  },
  {
   "cell_type": "code",
   "execution_count": 22,
   "metadata": {},
   "outputs": [
    {
     "data": {
      "text/plain": [
       "{'batman': ['be',\n",
       "  'american',\n",
       "  'superhero',\n",
       "  'secret',\n",
       "  'identity',\n",
       "  'be',\n",
       "  'bruce',\n",
       "  'wayne',\n",
       "  'joker',\n",
       "  'fight',\n",
       "  'battle',\n",
       "  'gotham'],\n",
       " 'wayne': ['secret',\n",
       "  'identity',\n",
       "  'batman',\n",
       "  'be',\n",
       "  'american',\n",
       "  'billionaire',\n",
       "  'gotham'],\n",
       " 'joker': ['be', 'supervillain', 'embody', 'batman', 'fight', 'battle']}"
      ]
     },
     "execution_count": 22,
     "metadata": {},
     "output_type": "execute_result"
    }
   ],
   "source": [
    "for target in target_v_context.keys():\n",
    "    for cw in target_v_context[target]:\n",
    "        if cw == target:\n",
    "            i = target_v_context[target].index(cw)\n",
    "            target_v_context[target].pop(i)\n",
    "\n",
    "target_v_context"
   ]
  },
  {
   "cell_type": "markdown",
   "metadata": {},
   "source": [
    "Build the vector"
   ]
  },
  {
   "cell_type": "code",
   "execution_count": 23,
   "metadata": {},
   "outputs": [
    {
     "name": "stdout",
     "output_type": "stream",
     "text": [
      "american\n",
      "{'batman': 1, 'wayne': 1, 'joker': 0, 'batman * wayne': 0, 'joker * wayne': 0}\n",
      "\n",
      "be\n",
      "{'batman': 2, 'wayne': 1, 'joker': 1, 'batman * wayne': 0, 'joker * wayne': 0}\n",
      "\n",
      "identity\n",
      "{'batman': 1, 'wayne': 1, 'joker': 0, 'batman * wayne': 0, 'joker * wayne': 0}\n",
      "\n",
      "bruce\n",
      "{'batman': 1, 'wayne': 0, 'joker': 0, 'batman * wayne': 0, 'joker * wayne': 0}\n",
      "\n",
      "fight\n",
      "{'batman': 1, 'wayne': 0, 'joker': 1, 'batman * wayne': 0, 'joker * wayne': 0}\n",
      "\n",
      "batman\n",
      "{'batman': 0, 'wayne': 1, 'joker': 1, 'batman * wayne': 0, 'joker * wayne': 0}\n",
      "\n",
      "battle\n",
      "{'batman': 1, 'wayne': 0, 'joker': 1, 'batman * wayne': 0, 'joker * wayne': 0}\n",
      "\n",
      "gotham\n",
      "{'batman': 1, 'wayne': 1, 'joker': 0, 'batman * wayne': 0, 'joker * wayne': 0}\n",
      "\n",
      "superhero\n",
      "{'batman': 1, 'wayne': 0, 'joker': 0, 'batman * wayne': 0, 'joker * wayne': 0}\n",
      "\n",
      "billionaire\n",
      "{'batman': 0, 'wayne': 1, 'joker': 0, 'batman * wayne': 0, 'joker * wayne': 0}\n",
      "\n",
      "joker\n",
      "{'batman': 1, 'wayne': 0, 'joker': 0, 'batman * wayne': 0, 'joker * wayne': 0}\n",
      "\n",
      "embody\n",
      "{'batman': 0, 'wayne': 0, 'joker': 1, 'batman * wayne': 0, 'joker * wayne': 0}\n",
      "\n",
      "wayne\n",
      "{'batman': 1, 'wayne': 0, 'joker': 0, 'batman * wayne': 0, 'joker * wayne': 0}\n",
      "\n",
      "secret\n",
      "{'batman': 1, 'wayne': 1, 'joker': 0, 'batman * wayne': 0, 'joker * wayne': 0}\n",
      "\n",
      "supervillain\n",
      "{'batman': 0, 'wayne': 0, 'joker': 1, 'batman * wayne': 0, 'joker * wayne': 0}\n",
      "\n"
     ]
    }
   ],
   "source": [
    "import collections\n",
    "\n",
    "vector = {}\n",
    "features = targets + ['batman * wayne', 'joker * wayne']\n",
    "\n",
    "for cw in context_words:\n",
    "    vector[cw] = {}\n",
    "    for f in features:\n",
    "        vector[cw][f] = 0\n",
    "\n",
    "\n",
    "for target in target_v_context.keys():\n",
    "    c = collections.Counter(target_v_context[target])\n",
    "    \n",
    "    for v in vector.keys():\n",
    "        vector[v][target] = c[v]\n",
    "\n",
    "for v in vector.keys():\n",
    "    print(v)\n",
    "    print(vector[v])\n",
    "    print()"
   ]
  },
  {
   "cell_type": "code",
   "execution_count": 24,
   "metadata": {},
   "outputs": [],
   "source": [
    "def batman_wayne(batman, wayne):\n",
    "    return batman * wayne\n",
    "\n",
    "def joker_wayne(joker, wayne):\n",
    "    return joker * wayne"
   ]
  },
  {
   "cell_type": "code",
   "execution_count": 25,
   "metadata": {},
   "outputs": [],
   "source": [
    "for v in vector.keys():\n",
    "    vector[v]['batman * wayne'] = batman_wayne(vector[v]['batman'], vector[v]['wayne'])\n",
    "    vector[v]['joker * wayne'] = joker_wayne(vector[v]['joker'], vector[v]['wayne'])"
   ]
  },
  {
   "cell_type": "markdown",
   "metadata": {},
   "source": [
    "Count vector dims"
   ]
  },
  {
   "cell_type": "code",
   "execution_count": 26,
   "metadata": {},
   "outputs": [
    {
     "data": {
      "text/plain": [
       "{'batman': 12, 'wayne': 7, 'joker': 6, 'batman * wayne': 6, 'joker * wayne': 2}"
      ]
     },
     "execution_count": 26,
     "metadata": {},
     "output_type": "execute_result"
    }
   ],
   "source": [
    "dim_count = {}\n",
    "\n",
    "for f in features:\n",
    "    dim_count[f] = 0\n",
    "\n",
    "for v in vector.keys():\n",
    "    for d in dim_count.keys():\n",
    "        dim_count[d] = dim_count[d] + vector[v][d]\n",
    "\n",
    "dim_count"
   ]
  },
  {
   "cell_type": "markdown",
   "metadata": {},
   "source": [
    "Compute Cosines"
   ]
  },
  {
   "cell_type": "code",
   "execution_count": 27,
   "metadata": {},
   "outputs": [],
   "source": [
    "import math\n",
    "\n",
    "def cosine(uv, u, v):\n",
    "    return uv / (math.sqrt(u) * math.sqrt(v))"
   ]
  },
  {
   "cell_type": "markdown",
   "metadata": {},
   "source": [
    "wayne is batman"
   ]
  },
  {
   "cell_type": "code",
   "execution_count": 28,
   "metadata": {},
   "outputs": [
    {
     "data": {
      "text/plain": [
       "0.6546536707079772"
      ]
     },
     "execution_count": 28,
     "metadata": {},
     "output_type": "execute_result"
    }
   ],
   "source": [
    "w_bat = cosine(dim_count['batman * wayne'], dim_count['batman'], dim_count['wayne'])\n",
    "w_bat"
   ]
  },
  {
   "cell_type": "markdown",
   "metadata": {},
   "source": [
    "wayne is joker"
   ]
  },
  {
   "cell_type": "code",
   "execution_count": 29,
   "metadata": {},
   "outputs": [
    {
     "data": {
      "text/plain": [
       "0.3086066999241838"
      ]
     },
     "execution_count": 29,
     "metadata": {},
     "output_type": "execute_result"
    }
   ],
   "source": [
    "w_joker = cosine(dim_count['joker * wayne'], dim_count['joker'], dim_count['wayne'])\n",
    "w_joker"
   ]
  },
  {
   "cell_type": "markdown",
   "metadata": {},
   "source": [
    "So, who's Wayne actually?\n",
    "\n",
    "The lesser the value of `1-cosine` is, the higher the similarity will be."
   ]
  },
  {
   "cell_type": "code",
   "execution_count": 30,
   "metadata": {},
   "outputs": [
    {
     "name": "stdout",
     "output_type": "stream",
     "text": [
      "Wayne is Batman!\n"
     ]
    }
   ],
   "source": [
    "print('Wayne is Batman!') if (1 - w_bat) < (1 - w_joker) else print('Wayne is the Joker!')"
   ]
  },
  {
   "cell_type": "markdown",
   "metadata": {},
   "source": [
    "## Task 3"
   ]
  },
  {
   "cell_type": "code",
   "execution_count": 31,
   "metadata": {},
   "outputs": [
    {
     "name": "stdout",
     "output_type": "stream",
     "text": [
      "Batman\t0.17089844\t-0.15527344\t-0.06591797\t0.08886719\t0.052978516\t-0.048583984\t0.19140625\t0.08203125\t0.20507812\t-0.052490234\t0.12695312\t0.087402344\t0.23535156\t-0.10058594\t-0.30078125\t-0.006225586\t-0.17480469\t-0.18554688\t-0.010192871\t0.11425781\t-0.024780273\t0.012756348\t0.265625\t0.048095703\t-0.31640625\t-0.05859375\t0.09814453\t0.123046875\t-0.0002975464\t-0.18652344\t0.10449219\t-0.14257812\t-0.052490234\t0.14160156\t0.072265625\t0.29101562\t0.14453125\t0.24023438\t-0.16894531\t0.5546875\t0.35742188\t-0.18847656\t0.103027344\t0.11621094\t-0.087402344\t-0.18652344\t-0.004119873\t-0.15625\t-0.018066406\t0.19921875\t-0.25585938\t-0.013000488\t-0.15332031\t0.19335938\t-0.040527344\t0.075683594\t0.12402344\t-0.13378906\t-0.16015625\t-0.20507812\t0.030029297\t0.24316406\t0.020141602\t0.0043945312\t-0.028076172\t0.07373047\t-0.5625\t-0.13769531\t-0.1484375\t-0.061035156\t0.0036315918\t0.11621094\t-0.12988281\t-0.02355957\t-0.30078125\t-0.059814453\t0.31640625\t0.07080078\t0.09082031\t-0.27929688\t-0.100097656\t-0.13769531\t-0.5546875\t-0.48632812\t-0.020019531\t0.05834961\t-0.18164062\t0.15625\t-0.004852295\t-0.039794922\t0.20605469\t0.1328125\t-0.3046875\t0.059326172\t-0.10546875\t-0.067871094\t0.055908203\t0.05859375\t-0.17382812\t-0.052490234\t0.10595703\t-0.19238281\t0.08544922\t-0.07128906\t0.37304688\t0.028564453\t0.25585938\t-0.092285156\t0.00022792816\t0.09765625\t0.16992188\t-0.09716797\t0.22460938\t0.09814453\t-0.013977051\t0.029541016\t-0.21777344\t0.052001953\t-0.033447266\t-0.013244629\t-0.10253906\t-0.19042969\t-0.048828125\t-0.0859375\t-0.12597656\t-0.14746094\t-0.19433594\t0.44140625\t-0.4765625\t-0.055908203\t-0.21289062\t-0.16113281\t-0.25195312\t0.14648438\t-0.16503906\t-0.056396484\t-0.014160156\t-0.27929688\t0.18359375\t-0.13085938\t0.63671875\t0.2734375\t-0.046875\t0.059326172\t0.22949219\t0.22363281\t0.076660156\t0.32617188\t-0.053466797\t0.025390625\t0.021484375\t-0.18066406\t-0.125\t0.0033569336\t-0.234375\t-0.15332031\t-0.119628906\t-0.42578125\t-0.31054688\t-0.05908203\t-0.1953125\t-0.13574219\t-0.22363281\t0.11816406\t-0.51953125\t-0.25195312\t0.3515625\t0.095703125\t-0.10839844\t0.018554688\t0.028320312\t-0.041992188\t-0.072265625\t-0.063964844\t0.091796875\t-0.036376953\t0.0044555664\t-0.40234375\t-0.20800781\t-0.083984375\t0.011291504\t0.14550781\t0.13769531\t-0.20800781\t-0.037109375\t-0.07421875\t-0.033203125\t0.3359375\t0.3125\t-0.1328125\t-0.09423828\t0.20800781\t-0.123046875\t0.1640625\t0.16894531\t-0.10644531\t-0.1484375\t-0.16113281\t0.041015625\t0.064941406\t0.050048828\t-0.12451172\t-0.125\t0.11621094\t0.26367188\t-0.06298828\t-0.30273438\t-0.44726562\t-0.42578125\t0.09667969\t-0.5546875\t0.26367188\t0.10253906\t-0.15722656\t-0.40429688\t-0.15820312\t-0.16992188\t-0.0625\t-0.024169922\t-0.20996094\t-0.109375\t-0.13378906\t0.103027344\t-0.15625\t0.05517578\t0.25\t-0.19042969\t0.20703125\t-0.265625\t-0.12792969\t0.390625\t-0.12988281\t-0.10058594\t0.05053711\t-0.119628906\t0.26367188\t0.012878418\t-0.16113281\t0.39257812\t0.048095703\t-0.12060547\t-0.44726562\t0.05053711\t0.06542969\t0.0038146973\t0.034179688\t0.21972656\t-0.05053711\t0.122558594\t-0.17382812\t-0.03112793\t0.099609375\t0.20605469\t0.01171875\t0.018188477\t0.21289062\t-0.038330078\t-0.104003906\t-0.048339844\t-0.35742188\t0.057128906\t-0.22460938\t0.0859375\t-0.12988281\t0.26171875\t0.000579834\t-0.046875\t-0.08251953\t0.103027344\t-0.0045776367\t0.064453125\t0.5390625\t0.026489258\t-0.08984375\t0.26171875\t0.021850586\t0.4296875\t-0.26171875\t-0.016235352\t0.09033203\t-0.27148438\t0.24414062\t-0.0022735596\t0.09716797\t0.38867188\t0.023803711\t-0.12988281\t-0.19140625\t0.029418945\t-0.203125\t-0.234375\t0.2265625\t-0.21679688\t0.07128906\t-0.106933594\t-0.3125\t-0.11621094\t0.0068969727\t0.29492188\t-0.022338867\n",
      "Wayne\t0.17285156\t-0.234375\t-0.20410156\t0.05517578\t0.10253906\t-0.13476562\t-0.12792969\t0.04638672\t0.14550781\t0.005218506\t0.12109375\t0.0625\t0.036376953\t0.1953125\t-0.014404297\t0.07519531\t0.0052490234\t0.203125\t0.18847656\t-0.020019531\t-0.1015625\t-0.08984375\t0.088378906\t-0.21386719\t0.16210938\t-0.045410156\t-0.019042969\t0.15917969\t0.03955078\t0.053222656\t-0.08496094\t0.055664062\t0.03125\t-0.08691406\t0.234375\t0.18554688\t-0.008972168\t0.12060547\t-0.012084961\t0.05810547\t-0.028198242\t-0.24414062\t-0.31445312\t-0.18066406\t-0.03149414\t0.018066406\t0.26171875\t0.059814453\t0.09863281\t0.17285156\t-0.10449219\t-0.026611328\t-0.203125\t-0.024291992\t0.17089844\t-0.01940918\t-0.078125\t-0.16308594\t0.060058594\t-0.26757812\t-0.017456055\t0.0034179688\t-0.18554688\t0.005279541\t-0.22167969\t-0.25\t-0.25976562\t-0.17578125\t0.1484375\t-0.29296875\t0.028686523\t-0.27539062\t0.08544922\t0.20507812\t-0.020385742\t0.09033203\t-0.07373047\t0.0038757324\t0.28320312\t-0.063964844\t0.15429688\t-0.18945312\t0.07421875\t-0.024658203\t0.0033874512\t-0.13964844\t0.036865234\t0.1484375\t0.099609375\t-0.07373047\t0.064941406\t-0.057861328\t-0.08203125\t0.05908203\t-0.09863281\t0.020019531\t-0.012023926\t0.17089844\t-0.34375\t-0.04663086\t0.050048828\t-0.16210938\t0.008544922\t-0.25\t0.11279297\t-0.06201172\t0.15136719\t-0.09667969\t-0.17578125\t0.05053711\t0.004699707\t-0.022705078\t-0.10107422\t0.20996094\t-0.057373047\t-0.099121094\t-0.21582031\t-0.012329102\t0.17675781\t0.20703125\t-0.12695312\t0.107910156\t-0.016235352\t0.1171875\t0.111328125\t-0.05029297\t-0.40429688\t0.044433594\t-0.06542969\t0.012939453\t-0.16992188\t-0.07373047\t-0.024047852\t0.057861328\t-0.047607422\t0.12109375\t-0.13867188\t0.5390625\t0.20800781\t0.13085938\t0.044921875\t0.10986328\t0.1640625\t-0.23632812\t0.08984375\t0.10058594\t0.083984375\t-0.104003906\t-0.064941406\t0.15820312\t-0.008850098\t-0.08642578\t0.125\t0.12988281\t-0.18847656\t0.0703125\t0.16796875\t-0.12988281\t0.07861328\t0.007873535\t-0.07080078\t-0.10644531\t-0.011169434\t-0.1328125\t-0.05859375\t-0.29882812\t-0.03125\t-0.091796875\t0.16503906\t-0.14355469\t-0.0012207031\t-0.055419922\t-0.15917969\t-0.096191406\t0.17480469\t-0.12109375\t-0.10205078\t-0.123535156\t-0.29101562\t0.02709961\t-0.2734375\t-0.21191406\t0.18652344\t0.037353516\t-0.2421875\t-0.022705078\t0.011169434\t-0.12792969\t0.12988281\t-0.052001953\t0.079589844\t-0.009338379\t0.11767578\t0.07128906\t0.076171875\t0.080078125\t0.022094727\t-0.13183594\t-0.045166016\t0.018432617\t0.16503906\t-0.23828125\t0.20117188\t0.13867188\t-0.11669922\t0.044677734\t0.010070801\t0.005645752\t-0.203125\t0.049316406\t-0.16796875\t-0.087890625\t0.008422852\t0.17675781\t-0.18554688\t-0.016845703\t-0.24707031\t-0.06640625\t-0.110839844\t-0.028564453\t0.057861328\t-0.11328125\t0.043945312\t-0.38867188\t0.16601562\t-0.048339844\t0.09375\t0.13378906\t-0.1328125\t-0.14746094\t-0.030151367\t-0.012023926\t-0.13378906\t-0.16503906\t-0.028198242\t-0.08300781\t0.22167969\t-0.26367188\t0.026489258\t0.107910156\t0.13378906\t0.0035705566\t-0.15527344\t-0.14941406\t-0.0069274902\t0.14257812\t0.10595703\t0.20605469\t0.041015625\t-0.17675781\t-0.010925293\t0.1953125\t0.029785156\t0.051513672\t-0.0021209717\t0.13964844\t0.22363281\t0.10449219\t-0.053222656\t0.0079956055\t-0.0234375\t0.09326172\t-0.10498047\t-0.18847656\t0.30078125\t0.18652344\t0.031982422\t0.057861328\t-0.01373291\t0.080566406\t0.12695312\t-0.119140625\t-0.095703125\t0.11230469\t-0.016601562\t-0.0859375\t0.203125\t0.05029297\t-0.20410156\t-0.25195312\t-0.014587402\t0.24707031\t0.23242188\t-0.16015625\t-0.23925781\t0.0008010864\t0.076660156\t-0.12890625\t0.32421875\t-0.017944336\t-0.13183594\t0.28710938\t-0.16308594\t0.27929688\t-0.14160156\t-0.09472656\t-0.234375\t-0.048095703\t-0.09667969\t-0.18261719\n",
      "Joker\t0.16796875\t-0.15234375\t0.011474609\t0.15136719\t0.060546875\t0.14160156\t-0.095214844\t0.026855469\t0.27148438\t-0.13671875\t0.109375\t0.10644531\t0.15332031\t-0.05859375\t-0.30859375\t-0.032470703\t-0.060058594\t-0.103515625\t-0.24804688\t-0.13378906\t0.111816406\t0.104003906\t0.29101562\t0.20019531\t-0.21386719\t-0.048095703\t-0.13671875\t-0.10888672\t0.13085938\t0.036376953\t-0.11669922\t0.008361816\t0.11669922\t0.14453125\t-0.0065307617\t0.28125\t0.24121094\t0.1640625\t-0.15820312\t0.3359375\t0.35351562\t-0.29882812\t0.18457031\t0.27148438\t0.07080078\t-0.45117188\t0.05834961\t-0.084472656\t0.16113281\t0.23828125\t-0.24316406\t0.32617188\t-0.11621094\t-0.11669922\t0.38867188\t0.13085938\t0.37695312\t-0.29492188\t-0.009643555\t0.02722168\t0.045654297\t0.34960938\t0.13574219\t0.036132812\t-0.06982422\t0.41992188\t-0.12890625\t-0.20703125\t-0.25976562\t0.20410156\t0.008911133\t0.20019531\t-0.021118164\t-0.1328125\t-0.328125\t-0.21679688\t0.21875\t0.052978516\t0.010314941\t-0.2109375\t-0.21972656\t-0.21875\t-0.33398438\t-0.42578125\t0.047851562\t0.20214844\t-0.16992188\t0.15722656\t0.067871094\t-0.0077209473\t0.18359375\t0.1796875\t-0.060791016\t-0.049804688\t-0.13574219\t-0.17773438\t-0.15136719\t0.31445312\t-0.041748047\t-0.2734375\t0.020996094\t0.12988281\t0.009521484\t-0.24804688\t0.23046875\t-0.15332031\t0.16699219\t-0.16796875\t0.029174805\t-0.012756348\t0.36328125\t-0.22265625\t0.20800781\t0.063964844\t0.17578125\t0.02355957\t-0.16601562\t-0.33203125\t-0.026489258\t-0.28710938\t-0.05883789\t-0.23925781\t-0.16601562\t-0.3359375\t-0.06298828\t-0.15136719\t-0.32617188\t0.34765625\t-0.171875\t-0.10986328\t-0.15820312\t0.18066406\t-0.18164062\t-0.28125\t-0.2578125\t-0.24902344\t-0.046875\t-0.20703125\t0.020507812\t0.051757812\t0.24511719\t0.19238281\t-0.030517578\t-0.052978516\t0.056640625\t0.1328125\t-0.06347656\t0.390625\t-0.2734375\t-0.10644531\t0.26953125\t-0.09667969\t-0.04345703\t-0.099609375\t-0.23144531\t-0.17773438\t-0.12695312\t-0.28515625\t-0.024169922\t-0.12597656\t0.046142578\t-0.25\t-0.08496094\t-0.03930664\t-0.46484375\t-0.22363281\t0.088378906\t-0.0115356445\t-0.15527344\t0.22070312\t0.36523438\t-0.12890625\t0.03149414\t0.20800781\t-0.390625\t-0.075683594\t0.13085938\t-0.14550781\t-0.0051879883\t-0.12890625\t-0.07128906\t0.140625\t-0.075683594\t-0.14355469\t0.072753906\t-0.23144531\t0.21386719\t0.49609375\t0.06225586\t0.033447266\t0.071777344\t0.10986328\t0.025878906\t0.20703125\t0.1484375\t-0.3984375\t-0.010070801\t-0.20507812\t-0.091796875\t0.14160156\t0.25390625\t0.080078125\t-0.123535156\t-0.24023438\t0.484375\t-0.123046875\t0.15429688\t0.080078125\t-0.4609375\t-0.109375\t-0.06689453\t0.012084961\t0.119140625\t-0.31640625\t-0.27929688\t-0.2578125\t-0.38671875\t-0.03955078\t-0.32226562\t-0.36132812\t0.23535156\t-0.12890625\t0.20410156\t-0.34375\t0.064941406\t0.23535156\t-0.20019531\t0.14746094\t-0.14941406\t-0.1953125\t-0.019165039\t0.23339844\t0.36328125\t0.033203125\t0.033447266\t0.1328125\t0.27929688\t0.06225586\t0.29492188\t0.06591797\t0.016723633\t-0.15917969\t-0.08496094\t0.05859375\t0.087890625\t0.107421875\t0.013366699\t0.24511719\t0.05908203\t-0.19824219\t-0.020141602\t-0.076660156\t0.17480469\t0.19140625\t-0.09033203\t0.091308594\t-0.0061950684\t0.08203125\t-0.08496094\t-0.36523438\t-0.12597656\t-0.13574219\t-0.19042969\t-0.12207031\t-0.07324219\t0.041992188\t-0.10449219\t-0.19628906\t-0.2578125\t-0.029907227\t-0.17089844\t0.1875\t-0.04638672\t0.064453125\t0.19628906\t0.052001953\t0.37304688\t-0.02746582\t-0.25\t0.2578125\t-0.13183594\t-0.030029297\t-0.19433594\t0.17480469\t0.21582031\t-0.05029297\t0.0066833496\t-0.20996094\t0.19042969\t-0.09423828\t-0.3046875\t0.0146484375\t-0.3125\t-0.063964844\t-0.114746094\t-0.15625\t0.118652344\t-0.23632812\t0.3203125\t-0.12158203\n"
     ]
    }
   ],
   "source": [
    "!head 'Lab 11/GoogleNews-subset'"
   ]
  },
  {
   "cell_type": "code",
   "execution_count": 32,
   "metadata": {},
   "outputs": [
    {
     "data": {
      "text/plain": [
       "{'Batman': [0.17089844,\n",
       "  -0.15527344,\n",
       "  -0.06591797,\n",
       "  0.08886719,\n",
       "  0.052978516,\n",
       "  -0.048583984,\n",
       "  0.19140625,\n",
       "  0.08203125,\n",
       "  0.20507812,\n",
       "  -0.052490234,\n",
       "  0.12695312,\n",
       "  0.087402344,\n",
       "  0.23535156,\n",
       "  -0.10058594,\n",
       "  -0.30078125,\n",
       "  -0.006225586,\n",
       "  -0.17480469,\n",
       "  -0.18554688,\n",
       "  -0.010192871,\n",
       "  0.11425781,\n",
       "  -0.024780273,\n",
       "  0.012756348,\n",
       "  0.265625,\n",
       "  0.048095703,\n",
       "  -0.31640625,\n",
       "  -0.05859375,\n",
       "  0.09814453,\n",
       "  0.123046875,\n",
       "  -0.0002975464,\n",
       "  -0.18652344,\n",
       "  0.10449219,\n",
       "  -0.14257812,\n",
       "  -0.052490234,\n",
       "  0.14160156,\n",
       "  0.072265625,\n",
       "  0.29101562,\n",
       "  0.14453125,\n",
       "  0.24023438,\n",
       "  -0.16894531,\n",
       "  0.5546875,\n",
       "  0.35742188,\n",
       "  -0.18847656,\n",
       "  0.103027344,\n",
       "  0.11621094,\n",
       "  -0.087402344,\n",
       "  -0.18652344,\n",
       "  -0.004119873,\n",
       "  -0.15625,\n",
       "  -0.018066406,\n",
       "  0.19921875,\n",
       "  -0.25585938,\n",
       "  -0.013000488,\n",
       "  -0.15332031,\n",
       "  0.19335938,\n",
       "  -0.040527344,\n",
       "  0.075683594,\n",
       "  0.12402344,\n",
       "  -0.13378906,\n",
       "  -0.16015625,\n",
       "  -0.20507812,\n",
       "  0.030029297,\n",
       "  0.24316406,\n",
       "  0.020141602,\n",
       "  0.0043945312,\n",
       "  -0.028076172,\n",
       "  0.07373047,\n",
       "  -0.5625,\n",
       "  -0.13769531,\n",
       "  -0.1484375,\n",
       "  -0.061035156,\n",
       "  0.0036315918,\n",
       "  0.11621094,\n",
       "  -0.12988281,\n",
       "  -0.02355957,\n",
       "  -0.30078125,\n",
       "  -0.059814453,\n",
       "  0.31640625,\n",
       "  0.07080078,\n",
       "  0.09082031,\n",
       "  -0.27929688,\n",
       "  -0.100097656,\n",
       "  -0.13769531,\n",
       "  -0.5546875,\n",
       "  -0.48632812,\n",
       "  -0.020019531,\n",
       "  0.05834961,\n",
       "  -0.18164062,\n",
       "  0.15625,\n",
       "  -0.004852295,\n",
       "  -0.039794922,\n",
       "  0.20605469,\n",
       "  0.1328125,\n",
       "  -0.3046875,\n",
       "  0.059326172,\n",
       "  -0.10546875,\n",
       "  -0.067871094,\n",
       "  0.055908203,\n",
       "  0.05859375,\n",
       "  -0.17382812,\n",
       "  -0.052490234,\n",
       "  0.10595703,\n",
       "  -0.19238281,\n",
       "  0.08544922,\n",
       "  -0.07128906,\n",
       "  0.37304688,\n",
       "  0.028564453,\n",
       "  0.25585938,\n",
       "  -0.092285156,\n",
       "  0.00022792816,\n",
       "  0.09765625,\n",
       "  0.16992188,\n",
       "  -0.09716797,\n",
       "  0.22460938,\n",
       "  0.09814453,\n",
       "  -0.013977051,\n",
       "  0.029541016,\n",
       "  -0.21777344,\n",
       "  0.052001953,\n",
       "  -0.033447266,\n",
       "  -0.013244629,\n",
       "  -0.10253906,\n",
       "  -0.19042969,\n",
       "  -0.048828125,\n",
       "  -0.0859375,\n",
       "  -0.12597656,\n",
       "  -0.14746094,\n",
       "  -0.19433594,\n",
       "  0.44140625,\n",
       "  -0.4765625,\n",
       "  -0.055908203,\n",
       "  -0.21289062,\n",
       "  -0.16113281,\n",
       "  -0.25195312,\n",
       "  0.14648438,\n",
       "  -0.16503906,\n",
       "  -0.056396484,\n",
       "  -0.014160156,\n",
       "  -0.27929688,\n",
       "  0.18359375,\n",
       "  -0.13085938,\n",
       "  0.63671875,\n",
       "  0.2734375,\n",
       "  -0.046875,\n",
       "  0.059326172,\n",
       "  0.22949219,\n",
       "  0.22363281,\n",
       "  0.076660156,\n",
       "  0.32617188,\n",
       "  -0.053466797,\n",
       "  0.025390625,\n",
       "  0.021484375,\n",
       "  -0.18066406,\n",
       "  -0.125,\n",
       "  0.0033569336,\n",
       "  -0.234375,\n",
       "  -0.15332031,\n",
       "  -0.119628906,\n",
       "  -0.42578125,\n",
       "  -0.31054688,\n",
       "  -0.05908203,\n",
       "  -0.1953125,\n",
       "  -0.13574219,\n",
       "  -0.22363281,\n",
       "  0.11816406,\n",
       "  -0.51953125,\n",
       "  -0.25195312,\n",
       "  0.3515625,\n",
       "  0.095703125,\n",
       "  -0.10839844,\n",
       "  0.018554688,\n",
       "  0.028320312,\n",
       "  -0.041992188,\n",
       "  -0.072265625,\n",
       "  -0.063964844,\n",
       "  0.091796875,\n",
       "  -0.036376953,\n",
       "  0.0044555664,\n",
       "  -0.40234375,\n",
       "  -0.20800781,\n",
       "  -0.083984375,\n",
       "  0.011291504,\n",
       "  0.14550781,\n",
       "  0.13769531,\n",
       "  -0.20800781,\n",
       "  -0.037109375,\n",
       "  -0.07421875,\n",
       "  -0.033203125,\n",
       "  0.3359375,\n",
       "  0.3125,\n",
       "  -0.1328125,\n",
       "  -0.09423828,\n",
       "  0.20800781,\n",
       "  -0.123046875,\n",
       "  0.1640625,\n",
       "  0.16894531,\n",
       "  -0.10644531,\n",
       "  -0.1484375,\n",
       "  -0.16113281,\n",
       "  0.041015625,\n",
       "  0.064941406,\n",
       "  0.050048828,\n",
       "  -0.12451172,\n",
       "  -0.125,\n",
       "  0.11621094,\n",
       "  0.26367188,\n",
       "  -0.06298828,\n",
       "  -0.30273438,\n",
       "  -0.44726562,\n",
       "  -0.42578125,\n",
       "  0.09667969,\n",
       "  -0.5546875,\n",
       "  0.26367188,\n",
       "  0.10253906,\n",
       "  -0.15722656,\n",
       "  -0.40429688,\n",
       "  -0.15820312,\n",
       "  -0.16992188,\n",
       "  -0.0625,\n",
       "  -0.024169922,\n",
       "  -0.20996094,\n",
       "  -0.109375,\n",
       "  -0.13378906,\n",
       "  0.103027344,\n",
       "  -0.15625,\n",
       "  0.05517578,\n",
       "  0.25,\n",
       "  -0.19042969,\n",
       "  0.20703125,\n",
       "  -0.265625,\n",
       "  -0.12792969,\n",
       "  0.390625,\n",
       "  -0.12988281,\n",
       "  -0.10058594,\n",
       "  0.05053711,\n",
       "  -0.119628906,\n",
       "  0.26367188,\n",
       "  0.012878418,\n",
       "  -0.16113281,\n",
       "  0.39257812,\n",
       "  0.048095703,\n",
       "  -0.12060547,\n",
       "  -0.44726562,\n",
       "  0.05053711,\n",
       "  0.06542969,\n",
       "  0.0038146973,\n",
       "  0.034179688,\n",
       "  0.21972656,\n",
       "  -0.05053711,\n",
       "  0.122558594,\n",
       "  -0.17382812,\n",
       "  -0.03112793,\n",
       "  0.099609375,\n",
       "  0.20605469,\n",
       "  0.01171875,\n",
       "  0.018188477,\n",
       "  0.21289062,\n",
       "  -0.038330078,\n",
       "  -0.104003906,\n",
       "  -0.048339844,\n",
       "  -0.35742188,\n",
       "  0.057128906,\n",
       "  -0.22460938,\n",
       "  0.0859375,\n",
       "  -0.12988281,\n",
       "  0.26171875,\n",
       "  0.000579834,\n",
       "  -0.046875,\n",
       "  -0.08251953,\n",
       "  0.103027344,\n",
       "  -0.0045776367,\n",
       "  0.064453125,\n",
       "  0.5390625,\n",
       "  0.026489258,\n",
       "  -0.08984375,\n",
       "  0.26171875,\n",
       "  0.021850586,\n",
       "  0.4296875,\n",
       "  -0.26171875,\n",
       "  -0.016235352,\n",
       "  0.09033203,\n",
       "  -0.27148438,\n",
       "  0.24414062,\n",
       "  -0.0022735596,\n",
       "  0.09716797,\n",
       "  0.38867188,\n",
       "  0.023803711,\n",
       "  -0.12988281,\n",
       "  -0.19140625,\n",
       "  0.029418945,\n",
       "  -0.203125,\n",
       "  -0.234375,\n",
       "  0.2265625,\n",
       "  -0.21679688,\n",
       "  0.07128906,\n",
       "  -0.106933594,\n",
       "  -0.3125,\n",
       "  -0.11621094,\n",
       "  0.0068969727,\n",
       "  0.29492188,\n",
       "  -0.022338867],\n",
       " 'Wayne': [0.17285156,\n",
       "  -0.234375,\n",
       "  -0.20410156,\n",
       "  0.05517578,\n",
       "  0.10253906,\n",
       "  -0.13476562,\n",
       "  -0.12792969,\n",
       "  0.04638672,\n",
       "  0.14550781,\n",
       "  0.005218506,\n",
       "  0.12109375,\n",
       "  0.0625,\n",
       "  0.036376953,\n",
       "  0.1953125,\n",
       "  -0.014404297,\n",
       "  0.07519531,\n",
       "  0.0052490234,\n",
       "  0.203125,\n",
       "  0.18847656,\n",
       "  -0.020019531,\n",
       "  -0.1015625,\n",
       "  -0.08984375,\n",
       "  0.088378906,\n",
       "  -0.21386719,\n",
       "  0.16210938,\n",
       "  -0.045410156,\n",
       "  -0.019042969,\n",
       "  0.15917969,\n",
       "  0.03955078,\n",
       "  0.053222656,\n",
       "  -0.08496094,\n",
       "  0.055664062,\n",
       "  0.03125,\n",
       "  -0.08691406,\n",
       "  0.234375,\n",
       "  0.18554688,\n",
       "  -0.008972168,\n",
       "  0.12060547,\n",
       "  -0.012084961,\n",
       "  0.05810547,\n",
       "  -0.028198242,\n",
       "  -0.24414062,\n",
       "  -0.31445312,\n",
       "  -0.18066406,\n",
       "  -0.03149414,\n",
       "  0.018066406,\n",
       "  0.26171875,\n",
       "  0.059814453,\n",
       "  0.09863281,\n",
       "  0.17285156,\n",
       "  -0.10449219,\n",
       "  -0.026611328,\n",
       "  -0.203125,\n",
       "  -0.024291992,\n",
       "  0.17089844,\n",
       "  -0.01940918,\n",
       "  -0.078125,\n",
       "  -0.16308594,\n",
       "  0.060058594,\n",
       "  -0.26757812,\n",
       "  -0.017456055,\n",
       "  0.0034179688,\n",
       "  -0.18554688,\n",
       "  0.005279541,\n",
       "  -0.22167969,\n",
       "  -0.25,\n",
       "  -0.25976562,\n",
       "  -0.17578125,\n",
       "  0.1484375,\n",
       "  -0.29296875,\n",
       "  0.028686523,\n",
       "  -0.27539062,\n",
       "  0.08544922,\n",
       "  0.20507812,\n",
       "  -0.020385742,\n",
       "  0.09033203,\n",
       "  -0.07373047,\n",
       "  0.0038757324,\n",
       "  0.28320312,\n",
       "  -0.063964844,\n",
       "  0.15429688,\n",
       "  -0.18945312,\n",
       "  0.07421875,\n",
       "  -0.024658203,\n",
       "  0.0033874512,\n",
       "  -0.13964844,\n",
       "  0.036865234,\n",
       "  0.1484375,\n",
       "  0.099609375,\n",
       "  -0.07373047,\n",
       "  0.064941406,\n",
       "  -0.057861328,\n",
       "  -0.08203125,\n",
       "  0.05908203,\n",
       "  -0.09863281,\n",
       "  0.020019531,\n",
       "  -0.012023926,\n",
       "  0.17089844,\n",
       "  -0.34375,\n",
       "  -0.04663086,\n",
       "  0.050048828,\n",
       "  -0.16210938,\n",
       "  0.008544922,\n",
       "  -0.25,\n",
       "  0.11279297,\n",
       "  -0.06201172,\n",
       "  0.15136719,\n",
       "  -0.09667969,\n",
       "  -0.17578125,\n",
       "  0.05053711,\n",
       "  0.004699707,\n",
       "  -0.022705078,\n",
       "  -0.10107422,\n",
       "  0.20996094,\n",
       "  -0.057373047,\n",
       "  -0.099121094,\n",
       "  -0.21582031,\n",
       "  -0.012329102,\n",
       "  0.17675781,\n",
       "  0.20703125,\n",
       "  -0.12695312,\n",
       "  0.107910156,\n",
       "  -0.016235352,\n",
       "  0.1171875,\n",
       "  0.111328125,\n",
       "  -0.05029297,\n",
       "  -0.40429688,\n",
       "  0.044433594,\n",
       "  -0.06542969,\n",
       "  0.012939453,\n",
       "  -0.16992188,\n",
       "  -0.07373047,\n",
       "  -0.024047852,\n",
       "  0.057861328,\n",
       "  -0.047607422,\n",
       "  0.12109375,\n",
       "  -0.13867188,\n",
       "  0.5390625,\n",
       "  0.20800781,\n",
       "  0.13085938,\n",
       "  0.044921875,\n",
       "  0.10986328,\n",
       "  0.1640625,\n",
       "  -0.23632812,\n",
       "  0.08984375,\n",
       "  0.10058594,\n",
       "  0.083984375,\n",
       "  -0.104003906,\n",
       "  -0.064941406,\n",
       "  0.15820312,\n",
       "  -0.008850098,\n",
       "  -0.08642578,\n",
       "  0.125,\n",
       "  0.12988281,\n",
       "  -0.18847656,\n",
       "  0.0703125,\n",
       "  0.16796875,\n",
       "  -0.12988281,\n",
       "  0.07861328,\n",
       "  0.007873535,\n",
       "  -0.07080078,\n",
       "  -0.10644531,\n",
       "  -0.011169434,\n",
       "  -0.1328125,\n",
       "  -0.05859375,\n",
       "  -0.29882812,\n",
       "  -0.03125,\n",
       "  -0.091796875,\n",
       "  0.16503906,\n",
       "  -0.14355469,\n",
       "  -0.0012207031,\n",
       "  -0.055419922,\n",
       "  -0.15917969,\n",
       "  -0.096191406,\n",
       "  0.17480469,\n",
       "  -0.12109375,\n",
       "  -0.10205078,\n",
       "  -0.123535156,\n",
       "  -0.29101562,\n",
       "  0.02709961,\n",
       "  -0.2734375,\n",
       "  -0.21191406,\n",
       "  0.18652344,\n",
       "  0.037353516,\n",
       "  -0.2421875,\n",
       "  -0.022705078,\n",
       "  0.011169434,\n",
       "  -0.12792969,\n",
       "  0.12988281,\n",
       "  -0.052001953,\n",
       "  0.079589844,\n",
       "  -0.009338379,\n",
       "  0.11767578,\n",
       "  0.07128906,\n",
       "  0.076171875,\n",
       "  0.080078125,\n",
       "  0.022094727,\n",
       "  -0.13183594,\n",
       "  -0.045166016,\n",
       "  0.018432617,\n",
       "  0.16503906,\n",
       "  -0.23828125,\n",
       "  0.20117188,\n",
       "  0.13867188,\n",
       "  -0.11669922,\n",
       "  0.044677734,\n",
       "  0.010070801,\n",
       "  0.005645752,\n",
       "  -0.203125,\n",
       "  0.049316406,\n",
       "  -0.16796875,\n",
       "  -0.087890625,\n",
       "  0.008422852,\n",
       "  0.17675781,\n",
       "  -0.18554688,\n",
       "  -0.016845703,\n",
       "  -0.24707031,\n",
       "  -0.06640625,\n",
       "  -0.110839844,\n",
       "  -0.028564453,\n",
       "  0.057861328,\n",
       "  -0.11328125,\n",
       "  0.043945312,\n",
       "  -0.38867188,\n",
       "  0.16601562,\n",
       "  -0.048339844,\n",
       "  0.09375,\n",
       "  0.13378906,\n",
       "  -0.1328125,\n",
       "  -0.14746094,\n",
       "  -0.030151367,\n",
       "  -0.012023926,\n",
       "  -0.13378906,\n",
       "  -0.16503906,\n",
       "  -0.028198242,\n",
       "  -0.08300781,\n",
       "  0.22167969,\n",
       "  -0.26367188,\n",
       "  0.026489258,\n",
       "  0.107910156,\n",
       "  0.13378906,\n",
       "  0.0035705566,\n",
       "  -0.15527344,\n",
       "  -0.14941406,\n",
       "  -0.0069274902,\n",
       "  0.14257812,\n",
       "  0.10595703,\n",
       "  0.20605469,\n",
       "  0.041015625,\n",
       "  -0.17675781,\n",
       "  -0.010925293,\n",
       "  0.1953125,\n",
       "  0.029785156,\n",
       "  0.051513672,\n",
       "  -0.0021209717,\n",
       "  0.13964844,\n",
       "  0.22363281,\n",
       "  0.10449219,\n",
       "  -0.053222656,\n",
       "  0.0079956055,\n",
       "  -0.0234375,\n",
       "  0.09326172,\n",
       "  -0.10498047,\n",
       "  -0.18847656,\n",
       "  0.30078125,\n",
       "  0.18652344,\n",
       "  0.031982422,\n",
       "  0.057861328,\n",
       "  -0.01373291,\n",
       "  0.080566406,\n",
       "  0.12695312,\n",
       "  -0.119140625,\n",
       "  -0.095703125,\n",
       "  0.11230469,\n",
       "  -0.016601562,\n",
       "  -0.0859375,\n",
       "  0.203125,\n",
       "  0.05029297,\n",
       "  -0.20410156,\n",
       "  -0.25195312,\n",
       "  -0.014587402,\n",
       "  0.24707031,\n",
       "  0.23242188,\n",
       "  -0.16015625,\n",
       "  -0.23925781,\n",
       "  0.0008010864,\n",
       "  0.076660156,\n",
       "  -0.12890625,\n",
       "  0.32421875,\n",
       "  -0.017944336,\n",
       "  -0.13183594,\n",
       "  0.28710938,\n",
       "  -0.16308594,\n",
       "  0.27929688,\n",
       "  -0.14160156,\n",
       "  -0.09472656,\n",
       "  -0.234375,\n",
       "  -0.048095703,\n",
       "  -0.09667969,\n",
       "  -0.18261719],\n",
       " 'Joker': [0.16796875,\n",
       "  -0.15234375,\n",
       "  0.011474609,\n",
       "  0.15136719,\n",
       "  0.060546875,\n",
       "  0.14160156,\n",
       "  -0.095214844,\n",
       "  0.026855469,\n",
       "  0.27148438,\n",
       "  -0.13671875,\n",
       "  0.109375,\n",
       "  0.10644531,\n",
       "  0.15332031,\n",
       "  -0.05859375,\n",
       "  -0.30859375,\n",
       "  -0.032470703,\n",
       "  -0.060058594,\n",
       "  -0.103515625,\n",
       "  -0.24804688,\n",
       "  -0.13378906,\n",
       "  0.111816406,\n",
       "  0.104003906,\n",
       "  0.29101562,\n",
       "  0.20019531,\n",
       "  -0.21386719,\n",
       "  -0.048095703,\n",
       "  -0.13671875,\n",
       "  -0.10888672,\n",
       "  0.13085938,\n",
       "  0.036376953,\n",
       "  -0.11669922,\n",
       "  0.008361816,\n",
       "  0.11669922,\n",
       "  0.14453125,\n",
       "  -0.0065307617,\n",
       "  0.28125,\n",
       "  0.24121094,\n",
       "  0.1640625,\n",
       "  -0.15820312,\n",
       "  0.3359375,\n",
       "  0.35351562,\n",
       "  -0.29882812,\n",
       "  0.18457031,\n",
       "  0.27148438,\n",
       "  0.07080078,\n",
       "  -0.45117188,\n",
       "  0.05834961,\n",
       "  -0.084472656,\n",
       "  0.16113281,\n",
       "  0.23828125,\n",
       "  -0.24316406,\n",
       "  0.32617188,\n",
       "  -0.11621094,\n",
       "  -0.11669922,\n",
       "  0.38867188,\n",
       "  0.13085938,\n",
       "  0.37695312,\n",
       "  -0.29492188,\n",
       "  -0.009643555,\n",
       "  0.02722168,\n",
       "  0.045654297,\n",
       "  0.34960938,\n",
       "  0.13574219,\n",
       "  0.036132812,\n",
       "  -0.06982422,\n",
       "  0.41992188,\n",
       "  -0.12890625,\n",
       "  -0.20703125,\n",
       "  -0.25976562,\n",
       "  0.20410156,\n",
       "  0.008911133,\n",
       "  0.20019531,\n",
       "  -0.021118164,\n",
       "  -0.1328125,\n",
       "  -0.328125,\n",
       "  -0.21679688,\n",
       "  0.21875,\n",
       "  0.052978516,\n",
       "  0.010314941,\n",
       "  -0.2109375,\n",
       "  -0.21972656,\n",
       "  -0.21875,\n",
       "  -0.33398438,\n",
       "  -0.42578125,\n",
       "  0.047851562,\n",
       "  0.20214844,\n",
       "  -0.16992188,\n",
       "  0.15722656,\n",
       "  0.067871094,\n",
       "  -0.0077209473,\n",
       "  0.18359375,\n",
       "  0.1796875,\n",
       "  -0.060791016,\n",
       "  -0.049804688,\n",
       "  -0.13574219,\n",
       "  -0.17773438,\n",
       "  -0.15136719,\n",
       "  0.31445312,\n",
       "  -0.041748047,\n",
       "  -0.2734375,\n",
       "  0.020996094,\n",
       "  0.12988281,\n",
       "  0.009521484,\n",
       "  -0.24804688,\n",
       "  0.23046875,\n",
       "  -0.15332031,\n",
       "  0.16699219,\n",
       "  -0.16796875,\n",
       "  0.029174805,\n",
       "  -0.012756348,\n",
       "  0.36328125,\n",
       "  -0.22265625,\n",
       "  0.20800781,\n",
       "  0.063964844,\n",
       "  0.17578125,\n",
       "  0.02355957,\n",
       "  -0.16601562,\n",
       "  -0.33203125,\n",
       "  -0.026489258,\n",
       "  -0.28710938,\n",
       "  -0.05883789,\n",
       "  -0.23925781,\n",
       "  -0.16601562,\n",
       "  -0.3359375,\n",
       "  -0.06298828,\n",
       "  -0.15136719,\n",
       "  -0.32617188,\n",
       "  0.34765625,\n",
       "  -0.171875,\n",
       "  -0.10986328,\n",
       "  -0.15820312,\n",
       "  0.18066406,\n",
       "  -0.18164062,\n",
       "  -0.28125,\n",
       "  -0.2578125,\n",
       "  -0.24902344,\n",
       "  -0.046875,\n",
       "  -0.20703125,\n",
       "  0.020507812,\n",
       "  0.051757812,\n",
       "  0.24511719,\n",
       "  0.19238281,\n",
       "  -0.030517578,\n",
       "  -0.052978516,\n",
       "  0.056640625,\n",
       "  0.1328125,\n",
       "  -0.06347656,\n",
       "  0.390625,\n",
       "  -0.2734375,\n",
       "  -0.10644531,\n",
       "  0.26953125,\n",
       "  -0.09667969,\n",
       "  -0.04345703,\n",
       "  -0.099609375,\n",
       "  -0.23144531,\n",
       "  -0.17773438,\n",
       "  -0.12695312,\n",
       "  -0.28515625,\n",
       "  -0.024169922,\n",
       "  -0.12597656,\n",
       "  0.046142578,\n",
       "  -0.25,\n",
       "  -0.08496094,\n",
       "  -0.03930664,\n",
       "  -0.46484375,\n",
       "  -0.22363281,\n",
       "  0.088378906,\n",
       "  -0.0115356445,\n",
       "  -0.15527344,\n",
       "  0.22070312,\n",
       "  0.36523438,\n",
       "  -0.12890625,\n",
       "  0.03149414,\n",
       "  0.20800781,\n",
       "  -0.390625,\n",
       "  -0.075683594,\n",
       "  0.13085938,\n",
       "  -0.14550781,\n",
       "  -0.0051879883,\n",
       "  -0.12890625,\n",
       "  -0.07128906,\n",
       "  0.140625,\n",
       "  -0.075683594,\n",
       "  -0.14355469,\n",
       "  0.072753906,\n",
       "  -0.23144531,\n",
       "  0.21386719,\n",
       "  0.49609375,\n",
       "  0.06225586,\n",
       "  0.033447266,\n",
       "  0.071777344,\n",
       "  0.10986328,\n",
       "  0.025878906,\n",
       "  0.20703125,\n",
       "  0.1484375,\n",
       "  -0.3984375,\n",
       "  -0.010070801,\n",
       "  -0.20507812,\n",
       "  -0.091796875,\n",
       "  0.14160156,\n",
       "  0.25390625,\n",
       "  0.080078125,\n",
       "  -0.123535156,\n",
       "  -0.24023438,\n",
       "  0.484375,\n",
       "  -0.123046875,\n",
       "  0.15429688,\n",
       "  0.080078125,\n",
       "  -0.4609375,\n",
       "  -0.109375,\n",
       "  -0.06689453,\n",
       "  0.012084961,\n",
       "  0.119140625,\n",
       "  -0.31640625,\n",
       "  -0.27929688,\n",
       "  -0.2578125,\n",
       "  -0.38671875,\n",
       "  -0.03955078,\n",
       "  -0.32226562,\n",
       "  -0.36132812,\n",
       "  0.23535156,\n",
       "  -0.12890625,\n",
       "  0.20410156,\n",
       "  -0.34375,\n",
       "  0.064941406,\n",
       "  0.23535156,\n",
       "  -0.20019531,\n",
       "  0.14746094,\n",
       "  -0.14941406,\n",
       "  -0.1953125,\n",
       "  -0.019165039,\n",
       "  0.23339844,\n",
       "  0.36328125,\n",
       "  0.033203125,\n",
       "  0.033447266,\n",
       "  0.1328125,\n",
       "  0.27929688,\n",
       "  0.06225586,\n",
       "  0.29492188,\n",
       "  0.06591797,\n",
       "  0.016723633,\n",
       "  -0.15917969,\n",
       "  -0.08496094,\n",
       "  0.05859375,\n",
       "  0.087890625,\n",
       "  0.107421875,\n",
       "  0.013366699,\n",
       "  0.24511719,\n",
       "  0.05908203,\n",
       "  -0.19824219,\n",
       "  -0.020141602,\n",
       "  -0.076660156,\n",
       "  0.17480469,\n",
       "  0.19140625,\n",
       "  -0.09033203,\n",
       "  0.091308594,\n",
       "  -0.0061950684,\n",
       "  0.08203125,\n",
       "  -0.08496094,\n",
       "  -0.36523438,\n",
       "  -0.12597656,\n",
       "  -0.13574219,\n",
       "  -0.19042969,\n",
       "  -0.12207031,\n",
       "  -0.07324219,\n",
       "  0.041992188,\n",
       "  -0.10449219,\n",
       "  -0.19628906,\n",
       "  -0.2578125,\n",
       "  -0.029907227,\n",
       "  -0.17089844,\n",
       "  0.1875,\n",
       "  -0.04638672,\n",
       "  0.064453125,\n",
       "  0.19628906,\n",
       "  0.052001953,\n",
       "  0.37304688,\n",
       "  -0.02746582,\n",
       "  -0.25,\n",
       "  0.2578125,\n",
       "  -0.13183594,\n",
       "  -0.030029297,\n",
       "  -0.19433594,\n",
       "  0.17480469,\n",
       "  0.21582031,\n",
       "  -0.05029297,\n",
       "  0.0066833496,\n",
       "  -0.20996094,\n",
       "  0.19042969,\n",
       "  -0.09423828,\n",
       "  -0.3046875,\n",
       "  0.0146484375,\n",
       "  -0.3125,\n",
       "  -0.063964844,\n",
       "  -0.114746094,\n",
       "  -0.15625,\n",
       "  0.118652344,\n",
       "  -0.23632812,\n",
       "  0.3203125,\n",
       "  -0.12158203]}"
      ]
     },
     "execution_count": 32,
     "metadata": {},
     "output_type": "execute_result"
    }
   ],
   "source": [
    "file_name = 'Lab 11/GoogleNews-subset'\n",
    "\n",
    "\"\"\"\n",
    "Batman : 0\n",
    "Wayne: 1\n",
    "Joker: 2\n",
    "\"\"\"\n",
    "\n",
    "vec = {}\n",
    "\n",
    "with open(file_name, 'r') as f:\n",
    "    for line in f.readlines():\n",
    "        t = line.split()\n",
    "        target = t[0]\n",
    "        vec[target] = [ float(x) for x in t[1:] ]\n",
    "\n",
    "vec"
   ]
  },
  {
   "cell_type": "code",
   "execution_count": 33,
   "metadata": {},
   "outputs": [
    {
     "data": {
      "text/plain": [
       "dict_keys(['Batman', 'Wayne', 'Joker'])"
      ]
     },
     "execution_count": 33,
     "metadata": {},
     "output_type": "execute_result"
    }
   ],
   "source": [
    "vec.keys()"
   ]
  },
  {
   "cell_type": "code",
   "execution_count": 34,
   "metadata": {},
   "outputs": [],
   "source": [
    "import numpy as np\n",
    "\n",
    "batman = np.array(vec['Batman'])\n",
    "wayne = np.array(vec['Wayne'])\n",
    "joker = np.array(vec['Joker'])"
   ]
  },
  {
   "cell_type": "code",
   "execution_count": 35,
   "metadata": {},
   "outputs": [],
   "source": [
    "def get_cosine_sim(u, v):\n",
    "    prod = u.dot(v)\n",
    "    sim = prod / np.linalg.norm(u) * np.linalg.norm(v) \n",
    "\n",
    "    return sim"
   ]
  },
  {
   "cell_type": "code",
   "execution_count": 36,
   "metadata": {},
   "outputs": [
    {
     "data": {
      "text/plain": [
       "1.3051724299819152"
      ]
     },
     "execution_count": 36,
     "metadata": {},
     "output_type": "execute_result"
    }
   ],
   "source": [
    "get_cosine_sim(batman, wayne)"
   ]
  },
  {
   "cell_type": "code",
   "execution_count": 37,
   "metadata": {},
   "outputs": [
    {
     "data": {
      "text/plain": [
       "0.4830780820827692"
      ]
     },
     "execution_count": 37,
     "metadata": {},
     "output_type": "execute_result"
    }
   ],
   "source": [
    "get_cosine_sim(joker, wayne)"
   ]
  },
  {
   "cell_type": "markdown",
   "metadata": {},
   "source": [
    "Still holds!"
   ]
  }
 ],
 "metadata": {
  "file_extension": ".py",
  "kernelspec": {
   "display_name": "Python 3",
   "language": "python",
   "name": "python3"
  },
  "language_info": {
   "codemirror_mode": {
    "name": "ipython",
    "version": 3
   },
   "file_extension": ".py",
   "mimetype": "text/x-python",
   "name": "python",
   "nbconvert_exporter": "python",
   "pygments_lexer": "ipython3",
   "version": "3.6.2"
  },
  "mimetype": "text/x-python",
  "name": "python",
  "npconvert_exporter": "python",
  "pygments_lexer": "ipython3",
  "version": 3
 },
 "nbformat": 4,
 "nbformat_minor": 2
}
