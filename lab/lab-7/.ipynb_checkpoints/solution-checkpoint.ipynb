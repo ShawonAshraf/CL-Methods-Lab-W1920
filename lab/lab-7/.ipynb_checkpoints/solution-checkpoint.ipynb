{
 "cells": [
  {
   "cell_type": "markdown",
   "metadata": {},
   "source": [
    "# Lab 7 : Evaluation"
   ]
  },
  {
   "cell_type": "markdown",
   "metadata": {},
   "source": [
    "## Task 1"
   ]
  },
  {
   "cell_type": "markdown",
   "metadata": {},
   "source": [
    "#### Read the file."
   ]
  },
  {
   "cell_type": "code",
   "execution_count": 1,
   "metadata": {},
   "outputs": [
    {
     "name": "stdout",
     "output_type": "stream",
     "text": [
      "THE,COMPANY,SAID,IT,MADE,THE,PURCHASE,IN,ORDER,TO,LOCALLY,PRODUCE,HYDRAULICALLY,OPERATED,SHOVELS,.\r\n",
      "DT,NN,VBD,PRP,VBD,DT,NN,IN,NN,TO,RB,VB,RB,VBN,NNS,.\r\n",
      "DT,NN,VBD,PRP,VBD,DT,NN,IN,NN,TO,RB,VB,RB,VBN,NNS,.\r\n",
      "DT,NN,VBN,PRP,VBN,DT,-,IN,-,-,-,-,-,-,-,-\r\n",
      "DT,NNS,VBG,PRP,VBG,DT,VBP,IN,-,TO,-,-,-,-,-,-\r\n",
      "DT,NN,VBD,PRP,VBD,DT,NN,IN,NN,TO,RB,VBP,RB,VBN,-,-\r\n",
      "DT,NN,VBD,PRP,VBD,DT,NN,IN,NN,TO,RB,VB,RB,VBN,NNS,-\r\n",
      "DT,-,VBD,PRP,-,-,-,IN,-,TO,-,-,-,-,NN,-\r\n",
      "DT,NNP,VB,PRP,VB,DT,-,IN,-,TO,-,-,-,-,NNS,-\r\n",
      "DT,NN,VBN,PRP,VBD,DT,VB,IN,WDP,CC,RB,VB,JJ,VBD,NN,-\r\n"
     ]
    }
   ],
   "source": [
    "!head 'IAA.csv'"
   ]
  },
  {
   "cell_type": "code",
   "execution_count": 2,
   "metadata": {},
   "outputs": [],
   "source": [
    "import pandas as pd\n",
    "import pprint\n",
    "\n",
    "pp = pprint.PrettyPrinter(width=41, compact=True)"
   ]
  },
  {
   "cell_type": "code",
   "execution_count": 3,
   "metadata": {},
   "outputs": [],
   "source": [
    "def read_data_from_file(file_name):\n",
    "    data = pd.read_csv(file_name, encoding='utf-8')\n",
    "    \n",
    "    return data"
   ]
  },
  {
   "cell_type": "code",
   "execution_count": 4,
   "metadata": {},
   "outputs": [],
   "source": [
    "import os\n",
    "\n",
    "file_name = os.path.join(os.getcwd(), 'IAA.csv')\n",
    "data = read_data_from_file(file_name=file_name)"
   ]
  },
  {
   "cell_type": "code",
   "execution_count": 5,
   "metadata": {},
   "outputs": [
    {
     "data": {
      "text/html": [
       "<div>\n",
       "<style scoped>\n",
       "    .dataframe tbody tr th:only-of-type {\n",
       "        vertical-align: middle;\n",
       "    }\n",
       "\n",
       "    .dataframe tbody tr th {\n",
       "        vertical-align: top;\n",
       "    }\n",
       "\n",
       "    .dataframe thead th {\n",
       "        text-align: right;\n",
       "    }\n",
       "</style>\n",
       "<table border=\"1\" class=\"dataframe\">\n",
       "  <thead>\n",
       "    <tr style=\"text-align: right;\">\n",
       "      <th></th>\n",
       "      <th>THE</th>\n",
       "      <th>COMPANY</th>\n",
       "      <th>SAID</th>\n",
       "      <th>IT</th>\n",
       "      <th>MADE</th>\n",
       "      <th>THE.1</th>\n",
       "      <th>PURCHASE</th>\n",
       "      <th>IN</th>\n",
       "      <th>ORDER</th>\n",
       "      <th>TO</th>\n",
       "      <th>LOCALLY</th>\n",
       "      <th>PRODUCE</th>\n",
       "      <th>HYDRAULICALLY</th>\n",
       "      <th>OPERATED</th>\n",
       "      <th>SHOVELS</th>\n",
       "      <th>.</th>\n",
       "    </tr>\n",
       "  </thead>\n",
       "  <tbody>\n",
       "    <tr>\n",
       "      <th>0</th>\n",
       "      <td>DT</td>\n",
       "      <td>NN</td>\n",
       "      <td>VBD</td>\n",
       "      <td>PRP</td>\n",
       "      <td>VBD</td>\n",
       "      <td>DT</td>\n",
       "      <td>NN</td>\n",
       "      <td>IN</td>\n",
       "      <td>NN</td>\n",
       "      <td>TO</td>\n",
       "      <td>RB</td>\n",
       "      <td>VB</td>\n",
       "      <td>RB</td>\n",
       "      <td>VBN</td>\n",
       "      <td>NNS</td>\n",
       "      <td>.</td>\n",
       "    </tr>\n",
       "    <tr>\n",
       "      <th>1</th>\n",
       "      <td>DT</td>\n",
       "      <td>NN</td>\n",
       "      <td>VBD</td>\n",
       "      <td>PRP</td>\n",
       "      <td>VBD</td>\n",
       "      <td>DT</td>\n",
       "      <td>NN</td>\n",
       "      <td>IN</td>\n",
       "      <td>NN</td>\n",
       "      <td>TO</td>\n",
       "      <td>RB</td>\n",
       "      <td>VB</td>\n",
       "      <td>RB</td>\n",
       "      <td>VBN</td>\n",
       "      <td>NNS</td>\n",
       "      <td>.</td>\n",
       "    </tr>\n",
       "    <tr>\n",
       "      <th>2</th>\n",
       "      <td>DT</td>\n",
       "      <td>NN</td>\n",
       "      <td>VBN</td>\n",
       "      <td>PRP</td>\n",
       "      <td>VBN</td>\n",
       "      <td>DT</td>\n",
       "      <td>-</td>\n",
       "      <td>IN</td>\n",
       "      <td>-</td>\n",
       "      <td>-</td>\n",
       "      <td>-</td>\n",
       "      <td>-</td>\n",
       "      <td>-</td>\n",
       "      <td>-</td>\n",
       "      <td>-</td>\n",
       "      <td>-</td>\n",
       "    </tr>\n",
       "    <tr>\n",
       "      <th>3</th>\n",
       "      <td>DT</td>\n",
       "      <td>NNS</td>\n",
       "      <td>VBG</td>\n",
       "      <td>PRP</td>\n",
       "      <td>VBG</td>\n",
       "      <td>DT</td>\n",
       "      <td>VBP</td>\n",
       "      <td>IN</td>\n",
       "      <td>-</td>\n",
       "      <td>TO</td>\n",
       "      <td>-</td>\n",
       "      <td>-</td>\n",
       "      <td>-</td>\n",
       "      <td>-</td>\n",
       "      <td>-</td>\n",
       "      <td>-</td>\n",
       "    </tr>\n",
       "    <tr>\n",
       "      <th>4</th>\n",
       "      <td>DT</td>\n",
       "      <td>NN</td>\n",
       "      <td>VBD</td>\n",
       "      <td>PRP</td>\n",
       "      <td>VBD</td>\n",
       "      <td>DT</td>\n",
       "      <td>NN</td>\n",
       "      <td>IN</td>\n",
       "      <td>NN</td>\n",
       "      <td>TO</td>\n",
       "      <td>RB</td>\n",
       "      <td>VBP</td>\n",
       "      <td>RB</td>\n",
       "      <td>VBN</td>\n",
       "      <td>-</td>\n",
       "      <td>-</td>\n",
       "    </tr>\n",
       "  </tbody>\n",
       "</table>\n",
       "</div>"
      ],
      "text/plain": [
       "  THE COMPANY SAID   IT MADE THE.1 PURCHASE  IN ORDER  TO LOCALLY PRODUCE  \\\n",
       "0  DT      NN  VBD  PRP  VBD    DT       NN  IN    NN  TO      RB      VB   \n",
       "1  DT      NN  VBD  PRP  VBD    DT       NN  IN    NN  TO      RB      VB   \n",
       "2  DT      NN  VBN  PRP  VBN    DT        -  IN     -   -       -       -   \n",
       "3  DT     NNS  VBG  PRP  VBG    DT      VBP  IN     -  TO       -       -   \n",
       "4  DT      NN  VBD  PRP  VBD    DT       NN  IN    NN  TO      RB     VBP   \n",
       "\n",
       "  HYDRAULICALLY OPERATED SHOVELS  .  \n",
       "0            RB      VBN     NNS  .  \n",
       "1            RB      VBN     NNS  .  \n",
       "2             -        -       -  -  \n",
       "3             -        -       -  -  \n",
       "4            RB      VBN       -  -  "
      ]
     },
     "execution_count": 5,
     "metadata": {},
     "output_type": "execute_result"
    }
   ],
   "source": [
    "data.head()"
   ]
  },
  {
   "cell_type": "code",
   "execution_count": 6,
   "metadata": {},
   "outputs": [
    {
     "name": "stdout",
     "output_type": "stream",
     "text": [
      "Index(['THE', 'COMPANY', 'SAID', 'IT', 'MADE', 'THE.1', 'PURCHASE', 'IN',\n",
      "       'ORDER', 'TO', 'LOCALLY', 'PRODUCE', 'HYDRAULICALLY', 'OPERATED',\n",
      "       'SHOVELS', '.'],\n",
      "      dtype='object')\n"
     ]
    }
   ],
   "source": [
    "sentences = data.columns\n",
    "pp.pprint(sentences)"
   ]
  },
  {
   "cell_type": "code",
   "execution_count": 7,
   "metadata": {},
   "outputs": [
    {
     "data": {
      "text/plain": [
       "16"
      ]
     },
     "execution_count": 7,
     "metadata": {},
     "output_type": "execute_result"
    }
   ],
   "source": [
    "n_tokens = len(data.columns)\n",
    "n_tokens"
   ]
  },
  {
   "cell_type": "code",
   "execution_count": 8,
   "metadata": {},
   "outputs": [
    {
     "data": {
      "text/plain": [
       "15"
      ]
     },
     "execution_count": 8,
     "metadata": {},
     "output_type": "execute_result"
    }
   ],
   "source": [
    "types = set(data.columns)\n",
    "# since pandas renamed THE to THE.1 to avoid column name duplication\n",
    "types.discard('THE.1')\n",
    "\n",
    "n_types = len(types)\n",
    "n_types"
   ]
  },
  {
   "cell_type": "markdown",
   "metadata": {},
   "source": [
    "#### The gold standard annoation?"
   ]
  },
  {
   "cell_type": "code",
   "execution_count": 9,
   "metadata": {},
   "outputs": [
    {
     "name": "stdout",
     "output_type": "stream",
     "text": [
      "['DT', 'NN', 'VBD', 'PRP', 'VBD', 'DT',\n",
      " 'NN', 'IN', 'NN', 'TO', 'RB', 'VB',\n",
      " 'RB', 'VBN', 'NNS', '.']\n"
     ]
    }
   ],
   "source": [
    "gold = list(data.iloc[0])\n",
    "pp.pprint(gold)"
   ]
  },
  {
   "cell_type": "code",
   "execution_count": 10,
   "metadata": {},
   "outputs": [
    {
     "data": {
      "text/plain": [
       "16"
      ]
     },
     "execution_count": 10,
     "metadata": {},
     "output_type": "execute_result"
    }
   ],
   "source": [
    "len(gold)"
   ]
  },
  {
   "cell_type": "markdown",
   "metadata": {},
   "source": [
    "## Task 2"
   ]
  },
  {
   "cell_type": "code",
   "execution_count": 11,
   "metadata": {},
   "outputs": [
    {
     "name": "stdout",
     "output_type": "stream",
     "text": [
      "[['DT', 'NN', 'VBD', 'PRP', 'VBD', 'DT',\n",
      "  'NN', 'IN', 'NN', 'TO', 'RB', 'VB',\n",
      "  'RB', 'VBN', 'NNS', '.'],\n",
      " ['DT', 'NN', 'VBN', 'PRP', 'VBN', 'DT',\n",
      "  '-', 'IN', '-', '-', '-', '-', '-',\n",
      "  '-', '-', '-'],\n",
      " ['DT', 'NNS', 'VBG', 'PRP', 'VBG', 'DT',\n",
      "  'VBP', 'IN', '-', 'TO', '-', '-', '-',\n",
      "  '-', '-', '-'],\n",
      " ['DT', 'NN', 'VBD', 'PRP', 'VBD', 'DT',\n",
      "  'NN', 'IN', 'NN', 'TO', 'RB', 'VBP',\n",
      "  'RB', 'VBN', '-', '-'],\n",
      " ['DT', 'NN', 'VBD', 'PRP', 'VBD', 'DT',\n",
      "  'NN', 'IN', 'NN', 'TO', 'RB', 'VB',\n",
      "  'RB', 'VBN', 'NNS', '-'],\n",
      " ['DT', '-', 'VBD', 'PRP', '-', '-', '-',\n",
      "  'IN', '-', 'TO', '-', '-', '-', '-',\n",
      "  'NN', '-'],\n",
      " ['DT', 'NNP', 'VB', 'PRP', 'VB', 'DT',\n",
      "  '-', 'IN', '-', 'TO', '-', '-', '-',\n",
      "  '-', 'NNS', '-'],\n",
      " ['DT', 'NN', 'VBN', 'PRP', 'VBD', 'DT',\n",
      "  'VB', 'IN', 'WDP', 'CC', 'RB', 'VB',\n",
      "  'JJ', 'VBD', 'NN', '-'],\n",
      " ['DT', 'NN', 'VBD', 'PRP', 'VBD', 'DT',\n",
      "  'NN', 'IN', 'NN', 'IN', 'RB', 'VB',\n",
      "  'RB', 'VBD', 'NNS', '-'],\n",
      " ['DT', 'NN', 'VBD', 'PRP', 'VBD', 'DT',\n",
      "  'VB', 'IN', 'NN', 'TO', 'RB', 'VB',\n",
      "  'RB', 'VBD', 'NNS', '.'],\n",
      " ['DT', 'NN', 'VBD', 'PRP', 'VBD', 'DT',\n",
      "  'VB', 'IN', 'NN', 'TO', 'RB', 'VB',\n",
      "  'RB', 'VBD', 'NNS', '.'],\n",
      " ['DT', 'NN', 'VBD', 'PRP', 'VBD', 'DT',\n",
      "  'NN', 'IN', 'NN', 'TO', 'RB', 'VB',\n",
      "  'VB', 'RB', 'NNS', '.'],\n",
      " ['DT', 'NN', 'VBD', 'PRP', 'VBD', 'DT',\n",
      "  'VB', 'IN', 'NN', 'TO', 'RB', 'VB',\n",
      "  'RB', 'VBN', 'NNS', '.'],\n",
      " ['DT', 'NN', 'VBD', 'PRP', 'VBD', 'DT',\n",
      "  'NN', 'IN', 'NN', 'TO', 'RB', 'VB',\n",
      "  'RB', 'VBD', 'NN', '-'],\n",
      " ['DT', 'NN', 'VBD', 'PRP', 'VBD', 'DT',\n",
      "  'NN', 'IN', 'NN', 'TO', 'RB', 'VB',\n",
      "  'JJ', 'VBN', 'NN', '-'],\n",
      " ['DT', 'NN', 'VBD', 'PRP', 'VBD', 'DT',\n",
      "  'NN', 'IN', 'NN', 'TO', 'RB', 'VB',\n",
      "  'RB', 'VBN', 'NNS', '-'],\n",
      " ['DT', 'NN', 'VBD', 'PRP', 'VBD', 'DT',\n",
      "  'NN', 'IN', '-', 'TO', 'RB', '-', 'RB',\n",
      "  'VBN', 'NNS', '.'],\n",
      " ['DT', 'NN', 'VBD', '-', 'VBD', 'DT',\n",
      "  'NN', 'IN', 'NN', 'IN', 'RB', 'VB',\n",
      "  'RB', 'VBD', 'NNS', '-'],\n",
      " ['DT', 'NN', 'VBD', 'PRP', 'VBD', 'DT',\n",
      "  'NN', 'IN', '-', 'TO', 'RB', 'VB',\n",
      "  'RB', 'JJ', 'NNS', '-'],\n",
      " ['DT', 'NN', 'VBD', 'PRP', 'VBD', 'DT',\n",
      "  'NN', 'IN', 'NN', 'TO', 'RB', 'VB',\n",
      "  'RB', 'VBD', 'NNS', '-'],\n",
      " ['DT', 'NN', 'VBD', 'PRP', 'VBD', 'DT',\n",
      "  'NN', 'IN', '-', '-', 'RB', 'VB', 'RB',\n",
      "  'VBN', 'NNS', '-'],\n",
      " ['DT', 'NNP', 'VBD', 'PRP', 'VBD', 'DT',\n",
      "  'NN', 'IN', 'NN', 'TO', 'RB', 'VBD',\n",
      "  'RB', 'VBN', 'NNS', '-'],\n",
      " ['DT', 'NN', 'VBD', 'PRP', 'VBN', 'DT',\n",
      "  '-', '-', '-', '-', '-', '-', '-', '-',\n",
      "  'NNP', '-'],\n",
      " ['DT', 'NN', 'VBD', 'DT', 'VBN', 'DT',\n",
      "  'NN', 'IN', 'JJ', 'IN', 'RB', 'VB',\n",
      "  'RB', 'JJ', 'NN', '-'],\n",
      " ['-', '-', '-', '-', '-', '-', '-', '-',\n",
      "  '-', '-', '-', '-', '-', '-', '-',\n",
      "  '-'],\n",
      " ['DT', 'NN', 'VBD', 'PRP', 'VBD', 'DT',\n",
      "  'NN', 'IN', 'NN', 'TO', 'RB', 'VB',\n",
      "  'RB', 'VBN', 'NNS', '.'],\n",
      " ['DT', 'NN', 'VBD', 'PRP', 'VBD', 'DT',\n",
      "  'NN', 'IN', 'NN', 'TO', 'RB', 'VB',\n",
      "  'RB', 'VBN', 'NNS', '-'],\n",
      " ['DT', 'NN', 'VBD', 'PRP', 'VBD', 'DT',\n",
      "  'NN', 'IN', '-', 'TO', 'RB', 'VB',\n",
      "  'RB', 'VBD', 'NNS', '-'],\n",
      " ['DT', 'NN', 'VBD', 'PRP', 'VBD', 'DT',\n",
      "  'NNP', 'IN', 'NN', 'TO', 'JJ', 'VB',\n",
      "  'JJ', 'JJ', 'NNS', '-'],\n",
      " ['DT', 'NN', 'VBD', 'PRP', 'VBD', 'DT',\n",
      "  'NN', 'IN', 'NN', 'IN', 'RB', 'VB',\n",
      "  'RB', 'VBN', 'NNS', '-'],\n",
      " ['DET', 'NN', 'VBP', 'PRP', 'VBP',\n",
      "  'DET', 'NN', 'IN', 'NN', 'TO', 'RB',\n",
      "  'VB', 'RB', 'RB', 'NNS', '-'],\n",
      " ['DT', 'NN', 'VBD', 'PRP', 'VBD', 'DT',\n",
      "  'VB', 'IN', 'NN', 'TO', 'RB', 'VB',\n",
      "  'RB', 'VBD', 'NNS', '-']]\n"
     ]
    }
   ],
   "source": [
    "subjects = data.values.tolist()[1:]\n",
    "\n",
    "pp.pprint(subjects)"
   ]
  },
  {
   "cell_type": "code",
   "execution_count": 12,
   "metadata": {},
   "outputs": [
    {
     "data": {
      "text/plain": [
       "32"
      ]
     },
     "execution_count": 12,
     "metadata": {},
     "output_type": "execute_result"
    }
   ],
   "source": [
    "len(subjects)"
   ]
  },
  {
   "cell_type": "markdown",
   "metadata": {},
   "source": [
    "#### Counting the subjects with empty fields."
   ]
  },
  {
   "cell_type": "code",
   "execution_count": 13,
   "metadata": {},
   "outputs": [],
   "source": [
    "import collections"
   ]
  },
  {
   "cell_type": "code",
   "execution_count": 14,
   "metadata": {},
   "outputs": [],
   "source": [
    "def count_empty_fields(data):\n",
    "    store = {}\n",
    "    for i in range(len(subjects)):\n",
    "        counter = collections.Counter(subjects[i])\n",
    "        empty_fields = counter['-']\n",
    "        store[i] = empty_fields\n",
    "            \n",
    "    return store"
   ]
  },
  {
   "cell_type": "code",
   "execution_count": 15,
   "metadata": {},
   "outputs": [
    {
     "data": {
      "text/plain": [
       "{0: 0,\n",
       " 1: 9,\n",
       " 2: 7,\n",
       " 3: 2,\n",
       " 4: 1,\n",
       " 5: 10,\n",
       " 6: 7,\n",
       " 7: 1,\n",
       " 8: 1,\n",
       " 9: 0,\n",
       " 10: 0,\n",
       " 11: 0,\n",
       " 12: 0,\n",
       " 13: 1,\n",
       " 14: 1,\n",
       " 15: 1,\n",
       " 16: 2,\n",
       " 17: 2,\n",
       " 18: 2,\n",
       " 19: 1,\n",
       " 20: 3,\n",
       " 21: 1,\n",
       " 22: 9,\n",
       " 23: 1,\n",
       " 24: 16,\n",
       " 25: 0,\n",
       " 26: 1,\n",
       " 27: 2,\n",
       " 28: 1,\n",
       " 29: 1,\n",
       " 30: 1,\n",
       " 31: 1}"
      ]
     },
     "execution_count": 15,
     "metadata": {},
     "output_type": "execute_result"
    }
   ],
   "source": [
    "empty = count_empty_fields(data)\n",
    "empty"
   ]
  },
  {
   "cell_type": "markdown",
   "metadata": {},
   "source": [
    "#### Counting `subject/count` pairs where `count > 0`"
   ]
  },
  {
   "cell_type": "code",
   "execution_count": 16,
   "metadata": {},
   "outputs": [],
   "source": [
    "def pairs_greater_than_zero():\n",
    "    store = {}\n",
    "    for i in range(len(subjects)):\n",
    "        counter = collections.Counter(subjects[i])\n",
    "        empty_count = counter['-']\n",
    "        if empty_count > 0:\n",
    "            store[i] = empty_count\n",
    "    \n",
    "    return store"
   ]
  },
  {
   "cell_type": "code",
   "execution_count": 17,
   "metadata": {},
   "outputs": [],
   "source": [
    "sub_count_pair = pairs_greater_than_zero()"
   ]
  },
  {
   "cell_type": "code",
   "execution_count": 18,
   "metadata": {},
   "outputs": [
    {
     "name": "stdout",
     "output_type": "stream",
     "text": [
      "{1: 9, 2: 7, 3: 2, 4: 1, 5: 10, 6: 7, 7: 1, 8: 1, 13: 1, 14: 1, 15: 1, 16: 2, 17: 2, 18: 2, 19: 1, 20: 3, 21: 1, 22: 9, 23: 1, 24: 16, 26: 1, 27: 2, 28: 1, 29: 1, 30: 1, 31: 1}\n"
     ]
    }
   ],
   "source": [
    "print(sub_count_pair)"
   ]
  },
  {
   "cell_type": "markdown",
   "metadata": {},
   "source": [
    "#### Check for subjects that missed some fields."
   ]
  },
  {
   "cell_type": "code",
   "execution_count": 19,
   "metadata": {},
   "outputs": [],
   "source": [
    "def stats_task2():\n",
    "    total_subs = len(subjects)\n",
    "    print('Total Subjects = {}'.format(total_subs))\n",
    "    \n",
    "    subs_with_missing_tags = len(sub_count_pair) \n",
    "    print('Subjects missing tags = {}'.format(subs_with_missing_tags))\n",
    "    \n",
    "    perc_missing = (subs_with_missing_tags / total_subs) * 100\n",
    "    print(\n",
    "        'Percentage of subjects missing at least one tag = {}%'\\\n",
    "        .format(perc_missing)\n",
    "    )\n",
    "    "
   ]
  },
  {
   "cell_type": "code",
   "execution_count": 20,
   "metadata": {},
   "outputs": [
    {
     "name": "stdout",
     "output_type": "stream",
     "text": [
      "Total Subjects = 32\n",
      "Subjects missing tags = 26\n",
      "Percentage of subjects missing at least one tag = 81.25%\n"
     ]
    }
   ],
   "source": [
    "stats_task2()"
   ]
  },
  {
   "cell_type": "markdown",
   "metadata": {},
   "source": [
    "#### Sanity Check.  Need to load tree bank first."
   ]
  },
  {
   "cell_type": "code",
   "execution_count": 21,
   "metadata": {},
   "outputs": [],
   "source": [
    "tags=list() #generate an empty list called tags\n",
    "with open(os.path.join(os.getcwd(), 'penntreebank.txt'),'r') as f:\n",
    "    for line in f:\n",
    "        tags.append(line.strip())"
   ]
  },
  {
   "cell_type": "code",
   "execution_count": 22,
   "metadata": {},
   "outputs": [
    {
     "data": {
      "text/plain": [
       "['CC',\n",
       " 'CD',\n",
       " 'DT',\n",
       " 'EX',\n",
       " 'FW',\n",
       " 'IN',\n",
       " 'JJ',\n",
       " 'JJR',\n",
       " 'JJS',\n",
       " 'LS',\n",
       " 'MD',\n",
       " 'NN',\n",
       " 'NNS',\n",
       " 'NNP',\n",
       " 'NNPS',\n",
       " 'PDT',\n",
       " 'POS',\n",
       " 'PRP',\n",
       " 'PRP$',\n",
       " 'RB',\n",
       " 'RBR',\n",
       " 'RBS',\n",
       " 'RP',\n",
       " 'SYM',\n",
       " 'TO',\n",
       " 'UH',\n",
       " 'VB',\n",
       " 'VBD',\n",
       " 'VBG',\n",
       " 'VBN',\n",
       " 'VBP',\n",
       " 'VBZ',\n",
       " 'WDT',\n",
       " 'WP',\n",
       " 'WP$',\n",
       " 'WRB',\n",
       " '$',\n",
       " '#',\n",
       " '\"',\n",
       " '(',\n",
       " ')',\n",
       " ',',\n",
       " '.',\n",
       " ':']"
      ]
     },
     "execution_count": 22,
     "metadata": {},
     "output_type": "execute_result"
    }
   ],
   "source": [
    "tags"
   ]
  },
  {
   "cell_type": "markdown",
   "metadata": {},
   "source": [
    "#### Check for tags that are present in the dataset we're given but not in the `penntreebank`."
   ]
  },
  {
   "cell_type": "code",
   "execution_count": 23,
   "metadata": {},
   "outputs": [],
   "source": [
    "def check_for_valid_tags():\n",
    "    for x in range(0, len(subjects)):\n",
    "        for y in range(0, len(subjects[0])):\n",
    "            if subjects[x][y] not in tags: \n",
    "                if subjects[x][y] != \"-\":\n",
    "                    print('({}, {}) => {}'.format(x, y, subjects[x][y]))"
   ]
  },
  {
   "cell_type": "code",
   "execution_count": 24,
   "metadata": {},
   "outputs": [
    {
     "name": "stdout",
     "output_type": "stream",
     "text": [
      "(7, 8) => WDP\n",
      "(30, 0) => DET\n",
      "(30, 5) => DET\n"
     ]
    }
   ],
   "source": [
    "check_for_valid_tags()"
   ]
  },
  {
   "cell_type": "markdown",
   "metadata": {},
   "source": [
    "## Task 3"
   ]
  },
  {
   "cell_type": "markdown",
   "metadata": {},
   "source": [
    "#### Need to check how many subjects have an exact match with the `gold standard`."
   ]
  },
  {
   "cell_type": "code",
   "execution_count": 25,
   "metadata": {},
   "outputs": [],
   "source": [
    "def compare_with_gold_standard():\n",
    "    exact_matches = []\n",
    "    for i in range(len(subjects)):\n",
    "        if subjects[i] == gold:\n",
    "            exact_matches.append(i)\n",
    "            \n",
    "    return exact_matches"
   ]
  },
  {
   "cell_type": "code",
   "execution_count": 26,
   "metadata": {},
   "outputs": [
    {
     "data": {
      "text/plain": [
       "[0, 25]"
      ]
     },
     "execution_count": 26,
     "metadata": {},
     "output_type": "execute_result"
    }
   ],
   "source": [
    "exact_matches = compare_with_gold_standard()\n",
    "exact_matches"
   ]
  },
  {
   "cell_type": "markdown",
   "metadata": {},
   "source": [
    "#### Count the `subject/count` pairs that have wrong tags compared to the `gold standard`."
   ]
  },
  {
   "cell_type": "code",
   "execution_count": 27,
   "metadata": {},
   "outputs": [],
   "source": [
    "def count_wrong_tag_pairs():\n",
    "    store = {}\n",
    "    for i in range(len(subjects)):\n",
    "        wrong_tags = 0\n",
    "        \n",
    "        # check for all tags in gold\n",
    "        for j in range(len(gold)):\n",
    "            if subjects[i][j] != gold[j]:\n",
    "                wrong_tags = wrong_tags + 1\n",
    "                \n",
    "        store[i] = wrong_tags\n",
    "        \n",
    "    return store"
   ]
  },
  {
   "cell_type": "code",
   "execution_count": 28,
   "metadata": {},
   "outputs": [],
   "source": [
    "wrong_pairs = count_wrong_tag_pairs()"
   ]
  },
  {
   "cell_type": "code",
   "execution_count": 29,
   "metadata": {},
   "outputs": [
    {
     "data": {
      "text/plain": [
       "{0: 0,\n",
       " 1: 11,\n",
       " 2: 11,\n",
       " 3: 3,\n",
       " 4: 1,\n",
       " 5: 11,\n",
       " 6: 10,\n",
       " 7: 8,\n",
       " 8: 3,\n",
       " 9: 2,\n",
       " 10: 2,\n",
       " 11: 2,\n",
       " 12: 1,\n",
       " 13: 3,\n",
       " 14: 3,\n",
       " 15: 1,\n",
       " 16: 2,\n",
       " 17: 4,\n",
       " 18: 3,\n",
       " 19: 2,\n",
       " 20: 3,\n",
       " 21: 3,\n",
       " 22: 11,\n",
       " 23: 7,\n",
       " 24: 16,\n",
       " 25: 0,\n",
       " 26: 1,\n",
       " 27: 3,\n",
       " 28: 5,\n",
       " 29: 2,\n",
       " 30: 6,\n",
       " 31: 3}"
      ]
     },
     "execution_count": 29,
     "metadata": {},
     "output_type": "execute_result"
    }
   ],
   "source": [
    "wrong_pairs"
   ]
  },
  {
   "cell_type": "markdown",
   "metadata": {},
   "source": [
    "#### How many subjects got it right. Stats"
   ]
  },
  {
   "cell_type": "code",
   "execution_count": 30,
   "metadata": {},
   "outputs": [],
   "source": [
    "def stats_task3():\n",
    "    total_subs = len(subjects)\n",
    "    print('Total Subjects = {}'.format(total_subs))\n",
    "    \n",
    "    correct = len(exact_matches)\n",
    "    print('Exact Matches = {}'.format(correct))\n",
    "    \n",
    "    perc = (correct / total_subs) * 100\n",
    "    print('{}% subjects got the correct answer compared to the gold standard.'\\\n",
    "         .format(perc))"
   ]
  },
  {
   "cell_type": "code",
   "execution_count": 31,
   "metadata": {},
   "outputs": [
    {
     "name": "stdout",
     "output_type": "stream",
     "text": [
      "Total Subjects = 32\n",
      "Exact Matches = 2\n",
      "6.25% subjects got the correct answer compared to the gold standard.\n"
     ]
    }
   ],
   "source": [
    "stats_task3()"
   ]
  },
  {
   "cell_type": "markdown",
   "metadata": {},
   "source": [
    "#### Check the subjects that are missing only one tag."
   ]
  },
  {
   "cell_type": "markdown",
   "metadata": {},
   "source": [
    "#### Find indices of subjects that have only one miss."
   ]
  },
  {
   "cell_type": "code",
   "execution_count": 32,
   "metadata": {},
   "outputs": [
    {
     "data": {
      "text/plain": [
       "[4, 12, 15, 26]"
      ]
     },
     "execution_count": 32,
     "metadata": {},
     "output_type": "execute_result"
    }
   ],
   "source": [
    "indices_one_miss = []\n",
    "for k in wrong_pairs:\n",
    "    if wrong_pairs[k] == 1:\n",
    "        indices_one_miss.append(k)\n",
    "        \n",
    "indices_one_miss"
   ]
  },
  {
   "cell_type": "markdown",
   "metadata": {},
   "source": [
    "#### Which tag did they miss?"
   ]
  },
  {
   "cell_type": "code",
   "execution_count": 33,
   "metadata": {},
   "outputs": [
    {
     "data": {
      "text/plain": [
       "{4: '.', 15: '.', 26: '.'}"
      ]
     },
     "execution_count": 33,
     "metadata": {},
     "output_type": "execute_result"
    }
   ],
   "source": [
    "missed_tags = {}\n",
    "for i in indices_one_miss:\n",
    "    sub = subjects[i]\n",
    "    \n",
    "    for tag in gold:\n",
    "        if tag not in sub:\n",
    "            missed_tags[i] = tag\n",
    "            \n",
    "missed_tags"
   ]
  },
  {
   "cell_type": "markdown",
   "metadata": {},
   "source": [
    "#### Most frequently missed tag among the ones missing only one tag?"
   ]
  },
  {
   "cell_type": "code",
   "execution_count": 34,
   "metadata": {},
   "outputs": [],
   "source": [
    "def most_frequent_one_miss():\n",
    "    counter = collections.Counter(missed_tags.values())\n",
    "    return counter.most_common()"
   ]
  },
  {
   "cell_type": "code",
   "execution_count": 35,
   "metadata": {},
   "outputs": [
    {
     "data": {
      "text/plain": [
       "[('.', 3)]"
      ]
     },
     "execution_count": 35,
     "metadata": {},
     "output_type": "execute_result"
    }
   ],
   "source": [
    "most_frequent_one_miss()"
   ]
  },
  {
   "cell_type": "markdown",
   "metadata": {},
   "source": [
    "## Task 4"
   ]
  },
  {
   "cell_type": "markdown",
   "metadata": {},
   "source": [
    "#### Accuracy\n",
    "\n",
    "$$\n",
    "Accuracy = OverlapingAnswers / TotalCorrectAnswers\n",
    "$$"
   ]
  },
  {
   "cell_type": "code",
   "execution_count": 36,
   "metadata": {},
   "outputs": [],
   "source": [
    "def accuracy_per_sub():\n",
    "    accuracy_dict = {}\n",
    "    exact = len(gold)\n",
    "    \n",
    "    for k in wrong_pairs:\n",
    "        correct = exact - wrong_pairs[k]\n",
    "        \n",
    "        accuracy = correct / exact\n",
    "        accuracy_dict[k] = accuracy\n",
    "        \n",
    "    return accuracy_dict"
   ]
  },
  {
   "cell_type": "code",
   "execution_count": 37,
   "metadata": {},
   "outputs": [
    {
     "data": {
      "text/plain": [
       "{0: 1.0,\n",
       " 1: 0.3125,\n",
       " 2: 0.3125,\n",
       " 3: 0.8125,\n",
       " 4: 0.9375,\n",
       " 5: 0.3125,\n",
       " 6: 0.375,\n",
       " 7: 0.5,\n",
       " 8: 0.8125,\n",
       " 9: 0.875,\n",
       " 10: 0.875,\n",
       " 11: 0.875,\n",
       " 12: 0.9375,\n",
       " 13: 0.8125,\n",
       " 14: 0.8125,\n",
       " 15: 0.9375,\n",
       " 16: 0.875,\n",
       " 17: 0.75,\n",
       " 18: 0.8125,\n",
       " 19: 0.875,\n",
       " 20: 0.8125,\n",
       " 21: 0.8125,\n",
       " 22: 0.3125,\n",
       " 23: 0.5625,\n",
       " 24: 0.0,\n",
       " 25: 1.0,\n",
       " 26: 0.9375,\n",
       " 27: 0.8125,\n",
       " 28: 0.6875,\n",
       " 29: 0.875,\n",
       " 30: 0.625,\n",
       " 31: 0.8125}"
      ]
     },
     "execution_count": 37,
     "metadata": {},
     "output_type": "execute_result"
    }
   ],
   "source": [
    "accuracy_p_sub = accuracy_per_sub()\n",
    "accuracy_p_sub"
   ]
  },
  {
   "cell_type": "markdown",
   "metadata": {},
   "source": [
    "#### Average accuracy."
   ]
  },
  {
   "cell_type": "code",
   "execution_count": 38,
   "metadata": {},
   "outputs": [],
   "source": [
    "avg_accuracy = sum(accuracy_p_sub.values()) / len(accuracy_p_sub) "
   ]
  },
  {
   "cell_type": "code",
   "execution_count": 39,
   "metadata": {},
   "outputs": [
    {
     "data": {
      "text/plain": [
       "0.720703125"
      ]
     },
     "execution_count": 39,
     "metadata": {},
     "output_type": "execute_result"
    }
   ],
   "source": [
    "avg_accuracy"
   ]
  },
  {
   "cell_type": "markdown",
   "metadata": {},
   "source": [
    "## Task 5"
   ]
  },
  {
   "cell_type": "markdown",
   "metadata": {},
   "source": [
    "#### IAA"
   ]
  },
  {
   "cell_type": "code",
   "execution_count": 40,
   "metadata": {},
   "outputs": [],
   "source": [
    "def iaa():\n",
    "    iaas = []\n",
    "    \n",
    "    for i in range(len(subjects)):\n",
    "        for j in range(i + 1, len(subjects)):\n",
    "            correct = 0.0\n",
    "            for k in range(len(gold)):\n",
    "                if subjects[i][k] == subjects[j][k] \\\n",
    "                and subjects[j][k] != '-':\n",
    "                    correct = correct + 1\n",
    "                    \n",
    "            iaa = correct / len(gold)\n",
    "            iaas.append(iaa)\n",
    "            \n",
    "    return iaas     "
   ]
  },
  {
   "cell_type": "code",
   "execution_count": 41,
   "metadata": {},
   "outputs": [],
   "source": [
    "iaas = iaa()"
   ]
  },
  {
   "cell_type": "code",
   "execution_count": 42,
   "metadata": {},
   "outputs": [
    {
     "data": {
      "text/plain": [
       "[0.3125,\n",
       " 0.3125,\n",
       " 0.8125,\n",
       " 0.9375,\n",
       " 0.3125,\n",
       " 0.375,\n",
       " 0.5,\n",
       " 0.8125,\n",
       " 0.875,\n",
       " 0.875,\n",
       " 0.875,\n",
       " 0.9375,\n",
       " 0.8125,\n",
       " 0.8125,\n",
       " 0.9375,\n",
       " 0.875,\n",
       " 0.75,\n",
       " 0.8125,\n",
       " 0.875,\n",
       " 0.8125,\n",
       " 0.8125,\n",
       " 0.3125,\n",
       " 0.5625,\n",
       " 0.0,\n",
       " 1.0,\n",
       " 0.9375,\n",
       " 0.8125,\n",
       " 0.6875,\n",
       " 0.875,\n",
       " 0.625,\n",
       " 0.8125,\n",
       " 0.25,\n",
       " 0.3125,\n",
       " 0.3125,\n",
       " 0.1875,\n",
       " 0.25,\n",
       " 0.375,\n",
       " 0.3125,\n",
       " 0.3125,\n",
       " 0.3125,\n",
       " 0.3125,\n",
       " 0.3125,\n",
       " 0.3125,\n",
       " 0.3125,\n",
       " 0.3125,\n",
       " 0.3125,\n",
       " 0.25,\n",
       " 0.3125,\n",
       " 0.3125,\n",
       " 0.3125,\n",
       " 0.25,\n",
       " 0.3125,\n",
       " 0.3125,\n",
       " 0.0,\n",
       " 0.3125,\n",
       " 0.3125,\n",
       " 0.3125,\n",
       " 0.3125,\n",
       " 0.3125,\n",
       " 0.1875,\n",
       " 0.3125,\n",
       " 0.3125,\n",
       " 0.3125,\n",
       " 0.25,\n",
       " 0.3125,\n",
       " 0.25,\n",
       " 0.25,\n",
       " 0.3125,\n",
       " 0.3125,\n",
       " 0.3125,\n",
       " 0.3125,\n",
       " 0.3125,\n",
       " 0.3125,\n",
       " 0.3125,\n",
       " 0.3125,\n",
       " 0.1875,\n",
       " 0.3125,\n",
       " 0.3125,\n",
       " 0.25,\n",
       " 0.3125,\n",
       " 0.1875,\n",
       " 0.1875,\n",
       " 0.0,\n",
       " 0.3125,\n",
       " 0.3125,\n",
       " 0.3125,\n",
       " 0.3125,\n",
       " 0.25,\n",
       " 0.1875,\n",
       " 0.3125,\n",
       " 0.8125,\n",
       " 0.3125,\n",
       " 0.3125,\n",
       " 0.4375,\n",
       " 0.6875,\n",
       " 0.6875,\n",
       " 0.6875,\n",
       " 0.6875,\n",
       " 0.75,\n",
       " 0.75,\n",
       " 0.75,\n",
       " 0.8125,\n",
       " 0.75,\n",
       " 0.625,\n",
       " 0.6875,\n",
       " 0.75,\n",
       " 0.6875,\n",
       " 0.75,\n",
       " 0.3125,\n",
       " 0.5,\n",
       " 0.0,\n",
       " 0.8125,\n",
       " 0.8125,\n",
       " 0.6875,\n",
       " 0.5625,\n",
       " 0.75,\n",
       " 0.5,\n",
       " 0.6875,\n",
       " 0.3125,\n",
       " 0.375,\n",
       " 0.5,\n",
       " 0.8125,\n",
       " 0.8125,\n",
       " 0.8125,\n",
       " 0.8125,\n",
       " 0.875,\n",
       " 0.8125,\n",
       " 0.8125,\n",
       " 0.9375,\n",
       " 0.8125,\n",
       " 0.75,\n",
       " 0.8125,\n",
       " 0.875,\n",
       " 0.8125,\n",
       " 0.8125,\n",
       " 0.3125,\n",
       " 0.5625,\n",
       " 0.0,\n",
       " 0.9375,\n",
       " 0.9375,\n",
       " 0.8125,\n",
       " 0.6875,\n",
       " 0.875,\n",
       " 0.625,\n",
       " 0.8125,\n",
       " 0.25,\n",
       " 0.25,\n",
       " 0.25,\n",
       " 0.3125,\n",
       " 0.3125,\n",
       " 0.3125,\n",
       " 0.3125,\n",
       " 0.375,\n",
       " 0.375,\n",
       " 0.3125,\n",
       " 0.3125,\n",
       " 0.1875,\n",
       " 0.3125,\n",
       " 0.3125,\n",
       " 0.25,\n",
       " 0.3125,\n",
       " 0.1875,\n",
       " 0.25,\n",
       " 0.0,\n",
       " 0.3125,\n",
       " 0.3125,\n",
       " 0.3125,\n",
       " 0.3125,\n",
       " 0.25,\n",
       " 0.1875,\n",
       " 0.3125,\n",
       " 0.25,\n",
       " 0.3125,\n",
       " 0.375,\n",
       " 0.375,\n",
       " 0.375,\n",
       " 0.375,\n",
       " 0.3125,\n",
       " 0.3125,\n",
       " 0.375,\n",
       " 0.375,\n",
       " 0.25,\n",
       " 0.375,\n",
       " 0.375,\n",
       " 0.3125,\n",
       " 0.4375,\n",
       " 0.1875,\n",
       " 0.1875,\n",
       " 0.0,\n",
       " 0.375,\n",
       " 0.375,\n",
       " 0.375,\n",
       " 0.375,\n",
       " 0.3125,\n",
       " 0.25,\n",
       " 0.375,\n",
       " 0.5625,\n",
       " 0.625,\n",
       " 0.625,\n",
       " 0.5,\n",
       " 0.5625,\n",
       " 0.625,\n",
       " 0.625,\n",
       " 0.5,\n",
       " 0.4375,\n",
       " 0.5,\n",
       " 0.5,\n",
       " 0.5625,\n",
       " 0.5,\n",
       " 0.375,\n",
       " 0.25,\n",
       " 0.4375,\n",
       " 0.0,\n",
       " 0.5,\n",
       " 0.5,\n",
       " 0.5625,\n",
       " 0.5,\n",
       " 0.5,\n",
       " 0.3125,\n",
       " 0.625,\n",
       " 0.8125,\n",
       " 0.8125,\n",
       " 0.75,\n",
       " 0.75,\n",
       " 0.8125,\n",
       " 0.6875,\n",
       " 0.8125,\n",
       " 0.6875,\n",
       " 0.875,\n",
       " 0.75,\n",
       " 0.875,\n",
       " 0.75,\n",
       " 0.6875,\n",
       " 0.3125,\n",
       " 0.625,\n",
       " 0.0,\n",
       " 0.8125,\n",
       " 0.8125,\n",
       " 0.8125,\n",
       " 0.625,\n",
       " 0.875,\n",
       " 0.5625,\n",
       " 0.8125,\n",
       " 1.0,\n",
       " 0.8125,\n",
       " 0.9375,\n",
       " 0.8125,\n",
       " 0.6875,\n",
       " 0.8125,\n",
       " 0.75,\n",
       " 0.75,\n",
       " 0.75,\n",
       " 0.875,\n",
       " 0.6875,\n",
       " 0.6875,\n",
       " 0.3125,\n",
       " 0.5,\n",
       " 0.0,\n",
       " 0.875,\n",
       " 0.8125,\n",
       " 0.8125,\n",
       " 0.6875,\n",
       " 0.75,\n",
       " 0.5625,\n",
       " 0.9375,\n",
       " 0.8125,\n",
       " 0.9375,\n",
       " 0.8125,\n",
       " 0.6875,\n",
       " 0.8125,\n",
       " 0.75,\n",
       " 0.75,\n",
       " 0.75,\n",
       " 0.875,\n",
       " 0.6875,\n",
       " 0.6875,\n",
       " 0.3125,\n",
       " 0.5,\n",
       " 0.0,\n",
       " 0.875,\n",
       " 0.8125,\n",
       " 0.8125,\n",
       " 0.6875,\n",
       " 0.75,\n",
       " 0.5625,\n",
       " 0.9375,\n",
       " 0.8125,\n",
       " 0.75,\n",
       " 0.75,\n",
       " 0.8125,\n",
       " 0.75,\n",
       " 0.6875,\n",
       " 0.75,\n",
       " 0.8125,\n",
       " 0.6875,\n",
       " 0.6875,\n",
       " 0.3125,\n",
       " 0.5,\n",
       " 0.0,\n",
       " 0.875,\n",
       " 0.8125,\n",
       " 0.75,\n",
       " 0.6875,\n",
       " 0.75,\n",
       " 0.625,\n",
       " 0.75,\n",
       " 0.75,\n",
       " 0.75,\n",
       " 0.875,\n",
       " 0.8125,\n",
       " 0.6875,\n",
       " 0.75,\n",
       " 0.8125,\n",
       " 0.75,\n",
       " 0.75,\n",
       " 0.3125,\n",
       " 0.5,\n",
       " 0.0,\n",
       " 0.9375,\n",
       " 0.875,\n",
       " 0.75,\n",
       " 0.6875,\n",
       " 0.8125,\n",
       " 0.5625,\n",
       " 0.875,\n",
       " 0.8125,\n",
       " 0.8125,\n",
       " 0.6875,\n",
       " 0.75,\n",
       " 0.75,\n",
       " 0.875,\n",
       " 0.6875,\n",
       " 0.6875,\n",
       " 0.3125,\n",
       " 0.625,\n",
       " 0.0,\n",
       " 0.8125,\n",
       " 0.8125,\n",
       " 0.8125,\n",
       " 0.625,\n",
       " 0.75,\n",
       " 0.5625,\n",
       " 0.8125,\n",
       " 0.8125,\n",
       " 0.6875,\n",
       " 0.625,\n",
       " 0.6875,\n",
       " 0.75,\n",
       " 0.6875,\n",
       " 0.6875,\n",
       " 0.3125,\n",
       " 0.5625,\n",
       " 0.0,\n",
       " 0.8125,\n",
       " 0.8125,\n",
       " 0.6875,\n",
       " 0.6875,\n",
       " 0.75,\n",
       " 0.5,\n",
       " 0.6875,\n",
       " 0.8125,\n",
       " 0.75,\n",
       " 0.8125,\n",
       " 0.875,\n",
       " 0.8125,\n",
       " 0.8125,\n",
       " 0.3125,\n",
       " 0.5625,\n",
       " 0.0,\n",
       " 0.9375,\n",
       " 0.9375,\n",
       " 0.8125,\n",
       " 0.6875,\n",
       " 0.875,\n",
       " 0.625,\n",
       " 0.8125,\n",
       " 0.625,\n",
       " 0.75,\n",
       " 0.75,\n",
       " 0.75,\n",
       " 0.75,\n",
       " 0.3125,\n",
       " 0.5,\n",
       " 0.0,\n",
       " 0.875,\n",
       " 0.8125,\n",
       " 0.75,\n",
       " 0.5625,\n",
       " 0.75,\n",
       " 0.5,\n",
       " 0.6875,\n",
       " 0.6875,\n",
       " 0.8125,\n",
       " 0.6875,\n",
       " 0.625,\n",
       " 0.25,\n",
       " 0.625,\n",
       " 0.0,\n",
       " 0.75,\n",
       " 0.75,\n",
       " 0.75,\n",
       " 0.5625,\n",
       " 0.8125,\n",
       " 0.5,\n",
       " 0.75,\n",
       " 0.8125,\n",
       " 0.75,\n",
       " 0.6875,\n",
       " 0.3125,\n",
       " 0.625,\n",
       " 0.0,\n",
       " 0.8125,\n",
       " 0.8125,\n",
       " 0.8125,\n",
       " 0.6875,\n",
       " 0.75,\n",
       " 0.5625,\n",
       " 0.75,\n",
       " 0.75,\n",
       " 0.75,\n",
       " 0.3125,\n",
       " 0.5625,\n",
       " 0.0,\n",
       " 0.875,\n",
       " 0.875,\n",
       " 0.875,\n",
       " 0.6875,\n",
       " 0.8125,\n",
       " 0.625,\n",
       " 0.875,\n",
       " 0.6875,\n",
       " 0.3125,\n",
       " 0.5625,\n",
       " 0.0,\n",
       " 0.8125,\n",
       " 0.8125,\n",
       " 0.75,\n",
       " 0.5625,\n",
       " 0.8125,\n",
       " 0.5,\n",
       " 0.6875,\n",
       " 0.25,\n",
       " 0.4375,\n",
       " 0.0,\n",
       " 0.8125,\n",
       " 0.8125,\n",
       " 0.6875,\n",
       " 0.5625,\n",
       " 0.75,\n",
       " 0.5,\n",
       " 0.6875,\n",
       " 0.3125,\n",
       " 0.0,\n",
       " 0.3125,\n",
       " 0.3125,\n",
       " 0.3125,\n",
       " 0.3125,\n",
       " 0.3125,\n",
       " 0.125,\n",
       " 0.3125,\n",
       " 0.0,\n",
       " 0.5625,\n",
       " 0.5625,\n",
       " 0.5625,\n",
       " 0.4375,\n",
       " 0.625,\n",
       " 0.375,\n",
       " 0.5,\n",
       " 0.0,\n",
       " 0.0,\n",
       " 0.0,\n",
       " 0.0,\n",
       " 0.0,\n",
       " 0.0,\n",
       " 0.0,\n",
       " 0.9375,\n",
       " 0.8125,\n",
       " 0.6875,\n",
       " 0.875,\n",
       " 0.625,\n",
       " 0.8125,\n",
       " 0.8125,\n",
       " 0.6875,\n",
       " 0.875,\n",
       " 0.625,\n",
       " 0.8125,\n",
       " 0.625,\n",
       " 0.75,\n",
       " 0.5625,\n",
       " 0.8125,\n",
       " 0.625,\n",
       " 0.4375,\n",
       " 0.6875,\n",
       " 0.5625,\n",
       " 0.75,\n",
       " 0.5625]"
      ]
     },
     "execution_count": 42,
     "metadata": {},
     "output_type": "execute_result"
    }
   ],
   "source": [
    "iaas"
   ]
  },
  {
   "cell_type": "markdown",
   "metadata": {},
   "source": [
    "#### Average."
   ]
  },
  {
   "cell_type": "code",
   "execution_count": 43,
   "metadata": {},
   "outputs": [
    {
     "data": {
      "text/plain": [
       "0.5598538306451613"
      ]
     },
     "execution_count": 43,
     "metadata": {},
     "output_type": "execute_result"
    }
   ],
   "source": [
    "avg_iaa = sum(iaas) / len(iaas)\n",
    "avg_iaa"
   ]
  },
  {
   "cell_type": "markdown",
   "metadata": {},
   "source": [
    "#### Comparison"
   ]
  },
  {
   "cell_type": "code",
   "execution_count": 44,
   "metadata": {},
   "outputs": [
    {
     "name": "stdout",
     "output_type": "stream",
     "text": [
      "AVG Accuracy = 0.720703125\n",
      "AVG IAA = 0.5598538306451613\n"
     ]
    }
   ],
   "source": [
    "print('AVG Accuracy = {}'.format(avg_accuracy))\n",
    "print('AVG IAA = {}'.format(avg_iaa))"
   ]
  }
 ],
 "metadata": {
  "kernelspec": {
   "display_name": "Python 3",
   "language": "python",
   "name": "python3"
  },
  "language_info": {
   "codemirror_mode": {
    "name": "ipython",
    "version": 3
   },
   "file_extension": ".py",
   "mimetype": "text/x-python",
   "name": "python",
   "nbconvert_exporter": "python",
   "pygments_lexer": "ipython3",
   "version": "3.6.2"
  }
 },
 "nbformat": 4,
 "nbformat_minor": 2
}
