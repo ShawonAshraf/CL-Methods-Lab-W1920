{
 "cells": [
  {
   "cell_type": "markdown",
   "metadata": {},
   "source": [
    "# Exercise - Language Model"
   ]
  },
  {
   "cell_type": "markdown",
   "metadata": {},
   "source": [
    "## n-Grams and Language Models"
   ]
  },
  {
   "cell_type": "markdown",
   "metadata": {},
   "source": [
    "### Tokenise the corpus"
   ]
  },
  {
   "cell_type": "code",
   "execution_count": 1,
   "metadata": {},
   "outputs": [],
   "source": [
    "# tokenize\n",
    "!cat wiki-en-flower.txt | tr ' ' '\\n' > wiki-en-flower-token.txt"
   ]
  },
  {
   "cell_type": "markdown",
   "metadata": {},
   "source": [
    "### Determine the number of word tokens and the number of word types in the corpus."
   ]
  },
  {
   "cell_type": "code",
   "execution_count": 2,
   "metadata": {},
   "outputs": [
    {
     "name": "stdout",
     "output_type": "stream",
     "text": [
      "    7454\r\n"
     ]
    }
   ],
   "source": [
    "# word types\n",
    "!sort wiki-en-flower-token.txt | uniq -c | wc -l"
   ]
  },
  {
   "cell_type": "code",
   "execution_count": 3,
   "metadata": {},
   "outputs": [
    {
     "name": "stdout",
     "output_type": "stream",
     "text": [
      "   33584\r\n"
     ]
    }
   ],
   "source": [
    "# tokens\n",
    "!cat wiki-en-flower-token.txt | wc -l"
   ]
  },
  {
   "cell_type": "markdown",
   "metadata": {},
   "source": [
    "### Generate the bigrams and the trigrams that appear in the corpus."
   ]
  },
  {
   "cell_type": "code",
   "execution_count": 4,
   "metadata": {},
   "outputs": [],
   "source": [
    "!tail -n+2 wiki-en-flower-token.txt > tmp1.txt\n",
    "!paste -d ' ' wiki-en-flower-token.txt tmp1.txt > bigram.txt"
   ]
  },
  {
   "cell_type": "code",
   "execution_count": 5,
   "metadata": {},
   "outputs": [],
   "source": [
    "!tail -n+2 tmp1.txt > tmp2.txt\n",
    "!paste -d ' ' wiki-en-flower-token.txt tmp1.txt tmp2.txt > trigram.txt"
   ]
  },
  {
   "cell_type": "code",
   "execution_count": 6,
   "metadata": {},
   "outputs": [],
   "source": [
    "# clean up\n",
    "!rm tmp1.txt\n",
    "!rm tmp2.txt"
   ]
  },
  {
   "cell_type": "markdown",
   "metadata": {},
   "source": [
    "### How many bigram and trigram types and tokens does the corpus have?"
   ]
  },
  {
   "cell_type": "code",
   "execution_count": 7,
   "metadata": {},
   "outputs": [
    {
     "name": "stdout",
     "output_type": "stream",
     "text": [
      "   21878\r\n"
     ]
    }
   ],
   "source": [
    "# bigrams\n",
    "!sort bigram.txt | uniq -c | wc -l"
   ]
  },
  {
   "cell_type": "code",
   "execution_count": 8,
   "metadata": {},
   "outputs": [
    {
     "name": "stdout",
     "output_type": "stream",
     "text": [
      "   29588\r\n"
     ]
    }
   ],
   "source": [
    "# trigrams\n",
    "!sort trigram.txt | uniq -c | wc -l"
   ]
  },
  {
   "cell_type": "markdown",
   "metadata": {},
   "source": [
    "### Name two bigrams and two trigrams that contain the word sunflower and appear more often than once in the corpus. How often do these bigrams and trigrams appear in the corpus?"
   ]
  },
  {
   "cell_type": "code",
   "execution_count": 9,
   "metadata": {},
   "outputs": [
    {
     "name": "stdout",
     "output_type": "stream",
     "text": [
      "   1 \" 'sunflower\r\n",
      "   2 \" sunflower\r\n",
      "   1 'sunflower family\r\n",
      "   1 ( sunflower\r\n",
      "   1 ( sunflowers\r\n",
      "  14 , sunflower\r\n",
      "   3 , sunflowers\r\n",
      "   1 ; sunflower\r\n",
      "   1 Angeles sunflower\r\n",
      "   2 a sunflower\r\n",
      "   3 and sunflower\r\n",
      "   2 and sunflowers\r\n",
      "   3 as sunflower\r\n",
      "   1 domestic sunflower\r\n",
      "   1 from sunflower\r\n",
      "   1 in sunflowers\r\n",
      "   1 including sunflower\r\n",
      "   1 its sunflower\r\n",
      "   2 of sunflower\r\n",
      "   1 or sunflower\r\n",
      "   1 sunflower 's\r\n",
      "   2 sunflower (\r\n",
      "   2 sunflower )\r\n",
      "   9 sunflower ,\r\n",
      "   1 sunflower 1196.6\r\n",
      "   2 sunflower and\r\n",
      "   1 sunflower capital\r\n",
      "   1 sunflower capitol\r\n",
      "   1 sunflower family\r\n",
      "   1 sunflower oil\r\n",
      "   1 sunflower oils\r\n",
      "   2 sunflower production\r\n",
      "   6 sunflower seed\r\n",
      "   5 sunflower seeds\r\n",
      "   1 sunflower was\r\n",
      "   1 sunflowers )\r\n",
      "   6 sunflowers ,\r\n",
      "   1 sunflowers .\r\n",
      "   1 sunflowers and\r\n",
      "   1 that sunflowers\r\n",
      "   1 the sunflower\r\n",
      "   1 to sunflower\r\n",
      "   1 with sunflowers\r\n"
     ]
    }
   ],
   "source": [
    "!cat bigram.txt | grep \"sunflower\" | sort | uniq -c "
   ]
  },
  {
   "cell_type": "code",
   "execution_count": 10,
   "metadata": {},
   "outputs": [
    {
     "name": "stdout",
     "output_type": "stream",
     "text": [
      "   1 \" 'sunflower family\r\n",
      "   1 \" ( sunflower\r\n",
      "   1 \" sunflower capital\r\n",
      "   1 \" sunflower capitol\r\n",
      "   1 'sunflower family )\r\n",
      "   1 ( domestic sunflower\r\n",
      "   1 ( sunflower )\r\n",
      "   1 ( sunflowers ,\r\n",
      "   1 , and sunflower\r\n",
      "   1 , and sunflowers\r\n",
      "   1 , including sunflower\r\n",
      "   1 , sunflower (\r\n",
      "   5 , sunflower ,\r\n",
      "   4 , sunflower seed\r\n",
      "   4 , sunflower seeds\r\n",
      "   3 , sunflowers ,\r\n",
      "   1 3301.9 ; sunflower\r\n",
      "   1 3â13:1 , sunflower\r\n",
      "   1 ; sunflower 1196.6\r\n",
      "   1 Angeles sunflower ,\r\n",
      "   1 Asteraceae ( sunflowers\r\n",
      "   1 Los Angeles sunflower\r\n",
      "   1 a sunflower 's\r\n",
      "   1 a sunflower was\r\n",
      "   1 and sunflower oils\r\n",
      "   2 and sunflower production\r\n",
      "   1 and sunflowers )\r\n",
      "   1 and sunflowers .\r\n",
      "   1 as sunflower ,\r\n",
      "   1 as sunflower and\r\n",
      "   1 as sunflower oil\r\n",
      "   1 barley , sunflower\r\n",
      "   1 bean , sunflower\r\n",
      "   2 beets , sunflower\r\n",
      "   1 came from sunflower\r\n",
      "   1 chlorophyll to sunflower\r\n",
      "   1 corn , sunflowers\r\n",
      "   1 cotton , sunflower\r\n",
      "   1 dandelion , sunflower\r\n",
      "   1 domestic sunflower )\r\n",
      "   1 eggs , sunflower\r\n",
      "   1 for its sunflower\r\n",
      "   1 from sunflower ,\r\n",
      "   1 grape and sunflower\r\n",
      "   1 heliotrope or sunflower\r\n",
      "   1 hemp and sunflowers\r\n",
      "   1 home with sunflowers\r\n",
      "   1 in a sunflower\r\n",
      "   1 in sunflowers ,\r\n",
      "   1 including sunflower (\r\n",
      "   1 its sunflower seeds\r\n",
      "   1 lilies , sunflowers\r\n",
      "   1 linseed , sunflower\r\n",
      "   1 oat , sunflower\r\n",
      "   1 of a sunflower\r\n",
      "   2 of sunflower seed\r\n",
      "   1 of the sunflower\r\n",
      "   1 oil , sunflower\r\n",
      "   1 or \" 'sunflower\r\n",
      "   1 or sunflower ,\r\n",
      "   2 producer of sunflower\r\n",
      "   1 safflower , sunflower\r\n",
      "   1 said that sunflowers\r\n",
      "   1 seeds , sunflower\r\n",
      "   1 seen in sunflowers\r\n",
      "   1 soybean and sunflower\r\n",
      "   1 spurge , sunflower\r\n",
      "   1 squash , sunflowers\r\n",
      "   3 such as sunflower\r\n",
      "   1 sunflower 's head\r\n",
      "   1 sunflower ( \"\r\n",
      "   1 sunflower ( no\r\n",
      "   2 sunflower ) ,\r\n",
      "   2 sunflower , and\r\n",
      "   1 sunflower , have\r\n",
      "   1 sunflower , honeysuckle\r\n",
      "   1 sunflower , poppy\r\n",
      "   1 sunflower , pumpkins\r\n",
      "   1 sunflower , rapeseed\r\n",
      "   1 sunflower , sesame\r\n",
      "   1 sunflower , which\r\n",
      "   1 sunflower 1196.6 ;\r\n",
      "   1 sunflower and peanuts\r\n",
      "   1 sunflower and soybean\r\n",
      "   1 sunflower capital of\r\n",
      "   1 sunflower capitol of\r\n",
      "   1 sunflower family ,\r\n",
      "   1 sunflower oil ,\r\n",
      "   1 sunflower oils .\r\n",
      "   1 sunflower production .\r\n",
      "   1 sunflower production most\r\n",
      "   3 sunflower seed ,\r\n",
      "   2 sunflower seed and\r\n",
      "   1 sunflower seed oil\r\n",
      "   5 sunflower seeds ,\r\n",
      "   1 sunflower was proposed\r\n",
      "   1 sunflowers ) is\r\n",
      "   2 sunflowers , and\r\n",
      "   1 sunflowers , asters\r\n",
      "   1 sunflowers , beans\r\n",
      "   1 sunflowers , blue\r\n",
      "   1 sunflowers , daisies\r\n",
      "   1 sunflowers . \r\n",
      "   1 sunflowers and similar\r\n",
      "   1 that sunflowers and\r\n",
      "   2 the \" sunflower\r\n",
      "   1 the sunflower family\r\n",
      "   1 to sunflower and\r\n",
      "   1 with sunflowers ,\r\n"
     ]
    }
   ],
   "source": [
    "!cat trigram.txt | grep \"sunflower\" | sort | uniq -c "
   ]
  },
  {
   "cell_type": "markdown",
   "metadata": {},
   "source": [
    "From here we select two bigrams appearing more than once:\n",
    "\n",
    "i. `\" sunflower` = 2\n",
    "\n",
    "ii. `, sunflower` = 14\n",
    "\n",
    "And two trigrams appearing more than once:\n",
    "\n",
    "i. `, sunflower ,` = 5\n",
    "\n",
    "ii. `, sunflower seed` = 4"
   ]
  },
  {
   "cell_type": "markdown",
   "metadata": {},
   "source": [
    "#### Estimate the probability of the bigram `sunflower seeds` using maximum likelihood estimation."
   ]
  },
  {
   "cell_type": "code",
   "execution_count": 11,
   "metadata": {},
   "outputs": [
    {
     "name": "stdout",
     "output_type": "stream",
     "text": [
      "      92\r\n"
     ]
    }
   ],
   "source": [
    "# count sunflower appearences in bigrams\n",
    "!cat bigram.txt | grep \"sunflower\" | wc -l "
   ]
  },
  {
   "cell_type": "code",
   "execution_count": 12,
   "metadata": {},
   "outputs": [
    {
     "name": "stdout",
     "output_type": "stream",
     "text": [
      "       5\r\n"
     ]
    }
   ],
   "source": [
    "# count 'sunflower seeds' appearences in bigrams\n",
    "!cat bigram.txt | grep \"sunflower seeds\" | wc -l "
   ]
  },
  {
   "cell_type": "code",
   "execution_count": 13,
   "metadata": {},
   "outputs": [
    {
     "data": {
      "text/plain": [
       "0.05434782608695652"
      ]
     },
     "execution_count": 13,
     "metadata": {},
     "output_type": "execute_result"
    }
   ],
   "source": [
    "# maximum likelihood estimation\n",
    "5 / 92"
   ]
  },
  {
   "cell_type": "markdown",
   "metadata": {},
   "source": [
    "So bigram probability for a bigram \"a b\" using MLE will be \n",
    "\n",
    "p(a | b) = count of \"a b\" in bigrams / count of b in bigrams"
   ]
  },
  {
   "cell_type": "markdown",
   "metadata": {},
   "source": [
    "#### Calculate the probability of the sentence `Manitoba is the largest producer of sunflower seeds` using the bigram probabilities.\n",
    "\n",
    "__Just add the bigram probability values__\n",
    "\n",
    "![prob_without_result](./IMG_0120.JPG)"
   ]
  },
  {
   "cell_type": "markdown",
   "metadata": {},
   "source": [
    "## Smoothing\n",
    "\n",
    "#### Determine the unigram frequencies for the four word forms and, of, sunflower, seeds, and the bigram frequencies for the 16 bigram combinations of these four word forms."
   ]
  },
  {
   "cell_type": "code",
   "execution_count": 14,
   "metadata": {},
   "outputs": [
    {
     "name": "stdout",
     "output_type": "stream",
     "text": [
      "    1093\r\n"
     ]
    }
   ],
   "source": [
    "!cat wiki-en-flower-token.txt | grep \"and\" | wc -l"
   ]
  },
  {
   "cell_type": "code",
   "execution_count": 15,
   "metadata": {},
   "outputs": [
    {
     "name": "stdout",
     "output_type": "stream",
     "text": [
      "    1138\r\n"
     ]
    }
   ],
   "source": [
    "!cat wiki-en-flower-token.txt | grep \"of\" | wc -l"
   ]
  },
  {
   "cell_type": "code",
   "execution_count": 16,
   "metadata": {},
   "outputs": [
    {
     "name": "stdout",
     "output_type": "stream",
     "text": [
      "      46\r\n"
     ]
    }
   ],
   "source": [
    "!cat wiki-en-flower-token.txt | grep \"sunflower\" | wc -l"
   ]
  },
  {
   "cell_type": "code",
   "execution_count": 17,
   "metadata": {},
   "outputs": [
    {
     "name": "stdout",
     "output_type": "stream",
     "text": [
      "      32\r\n"
     ]
    }
   ],
   "source": [
    "!cat wiki-en-flower-token.txt | grep \"seeds\" | wc -l"
   ]
  },
  {
   "cell_type": "code",
   "execution_count": 18,
   "metadata": {},
   "outputs": [],
   "source": [
    "# bigram combination frequencies\n",
    "unigram_freq = {\"and\": 1093, \"of\": 1138, \"sunflower\": 46, \"seeds\": 32}\n",
    "unigrams = list(unigram_freq.keys())"
   ]
  },
  {
   "cell_type": "code",
   "execution_count": 19,
   "metadata": {},
   "outputs": [
    {
     "data": {
      "text/plain": [
       "['and and',\n",
       " 'and of',\n",
       " 'and sunflower',\n",
       " 'and seeds',\n",
       " 'of and',\n",
       " 'of of',\n",
       " 'of sunflower',\n",
       " 'of seeds',\n",
       " 'sunflower and',\n",
       " 'sunflower of',\n",
       " 'sunflower sunflower',\n",
       " 'sunflower seeds',\n",
       " 'seeds and',\n",
       " 'seeds of',\n",
       " 'seeds sunflower',\n",
       " 'seeds seeds']"
      ]
     },
     "execution_count": 19,
     "metadata": {},
     "output_type": "execute_result"
    }
   ],
   "source": [
    "# create combinations\n",
    "bigram_combinations = []\n",
    "\n",
    "for i in range(len(unigrams)):\n",
    "    x = unigrams[i]\n",
    "    for u in unigrams:\n",
    "        bigram = x + \" \" + u\n",
    "        bigram_combinations.append(bigram)    \n",
    "            \n",
    "bigram_combinations"
   ]
  },
  {
   "cell_type": "code",
   "execution_count": 20,
   "metadata": {},
   "outputs": [
    {
     "data": {
      "text/plain": [
       "16"
      ]
     },
     "execution_count": 20,
     "metadata": {},
     "output_type": "execute_result"
    }
   ],
   "source": [
    "len(bigram_combinations)"
   ]
  },
  {
   "cell_type": "markdown",
   "metadata": {},
   "source": [
    "#### Calculate the bigram probabilities for the 16 bigram combinations."
   ]
  },
  {
   "cell_type": "code",
   "execution_count": 21,
   "metadata": {},
   "outputs": [],
   "source": [
    "with open(\"bigram.txt\", encoding=\"utf-8\") as f:\n",
    "    lines = f.readlines()\n",
    "    \n",
    "    # remove the newline\n",
    "    for i in range(len(lines)):\n",
    "        lines[i] = lines[i].replace(\"\\n\", \"\")"
   ]
  },
  {
   "cell_type": "code",
   "execution_count": 22,
   "metadata": {},
   "outputs": [],
   "source": [
    "import collections\n",
    "\n",
    "counts = collections.Counter(lines)"
   ]
  },
  {
   "cell_type": "code",
   "execution_count": 23,
   "metadata": {},
   "outputs": [],
   "source": [
    "def bigram_probability_mle(bigram):\n",
    "    ab =  bigram\n",
    "    b = bigram.split(\" \")[0]\n",
    "    \n",
    "    ab_count = counts[ab]\n",
    "    b_count = unigram_freq[b]\n",
    "    \n",
    "    return ab_count / b_count"
   ]
  },
  {
   "cell_type": "code",
   "execution_count": 24,
   "metadata": {},
   "outputs": [
    {
     "name": "stdout",
     "output_type": "stream",
     "text": [
      "P_MLE(and and) => 0.0\n",
      "P_MLE(and of) => 0.0\n",
      "P_MLE(and sunflower) => 0.0027447392497712718\n",
      "P_MLE(and seeds) => 0.0018298261665141812\n",
      "P_MLE(of and) => 0.0\n",
      "P_MLE(of of) => 0.0\n",
      "P_MLE(of sunflower) => 0.0017574692442882249\n",
      "P_MLE(of seeds) => 0.0017574692442882249\n",
      "P_MLE(sunflower and) => 0.043478260869565216\n",
      "P_MLE(sunflower of) => 0.0\n",
      "P_MLE(sunflower sunflower) => 0.0\n",
      "P_MLE(sunflower seeds) => 0.10869565217391304\n",
      "P_MLE(seeds and) => 0.0625\n",
      "P_MLE(seeds of) => 0.03125\n",
      "P_MLE(seeds sunflower) => 0.0\n",
      "P_MLE(seeds seeds) => 0.0\n"
     ]
    }
   ],
   "source": [
    "for bgc in bigram_combinations:\n",
    "    print(\"P_MLE({}) => {}\".format(bgc, bigram_probability_mle(bgc)))"
   ]
  },
  {
   "cell_type": "markdown",
   "metadata": {},
   "source": [
    "#### Apply Laplace smoothing to the bigram frequencies and the bigram probabilities."
   ]
  },
  {
   "cell_type": "code",
   "execution_count": 25,
   "metadata": {},
   "outputs": [],
   "source": [
    "v = 7454 # from tokenization\n",
    "\n",
    "def adjust_counts_laplace(bigram):    \n",
    "    ab =  bigram\n",
    "    b = bigram.split(\" \")[0]\n",
    "    \n",
    "    ab_count = counts[ab]\n",
    "    b_count = unigram_freq[b]\n",
    "    \n",
    "    adjusted = ((ab_count + 1) * b_count) / (b_count + v)\n",
    "    return adjusted"
   ]
  },
  {
   "cell_type": "code",
   "execution_count": 26,
   "metadata": {},
   "outputs": [
    {
     "name": "stdout",
     "output_type": "stream",
     "text": [
      "Laplace Smoothing applied COUNT\n",
      "\n",
      "and and => 0.12788112788112788\n",
      "and of => 0.12788112788112788\n",
      "and sunflower => 0.5115245115245115\n",
      "and seeds => 0.38364338364338363\n",
      "of and => 0.1324487895716946\n",
      "of of => 0.1324487895716946\n",
      "of sunflower => 0.3973463687150838\n",
      "of seeds => 0.3973463687150838\n",
      "sunflower and => 0.0184\n",
      "sunflower of => 0.0061333333333333335\n",
      "sunflower sunflower => 0.0061333333333333335\n",
      "sunflower seeds => 0.0368\n",
      "seeds and => 0.012823938017632914\n",
      "seeds of => 0.008549292011755277\n",
      "seeds sunflower => 0.004274646005877639\n",
      "seeds seeds => 0.004274646005877639\n"
     ]
    }
   ],
   "source": [
    "print(\"Laplace Smoothing applied COUNT\\n\")\n",
    "for bigram in bigram_combinations:\n",
    "    print(\"{} => {}\".format(bigram, adjust_counts_laplace(bigram)))"
   ]
  },
  {
   "cell_type": "code",
   "execution_count": 27,
   "metadata": {},
   "outputs": [],
   "source": [
    "def laplace_smooth_proba(bigram):\n",
    "    ab =  bigram\n",
    "    b = bigram.split(\" \")[0]\n",
    "    \n",
    "    ab_count = counts[ab]\n",
    "    b_count = unigram_freq[b]\n",
    "    \n",
    "    return (ab_count + 1) / (b_count + v)"
   ]
  },
  {
   "cell_type": "code",
   "execution_count": 28,
   "metadata": {},
   "outputs": [
    {
     "name": "stdout",
     "output_type": "stream",
     "text": [
      "Laplace Smoothing applied PROBABILITY\n",
      "\n",
      "and and => 0.000117000117000117\n",
      "and of => 0.000117000117000117\n",
      "and sunflower => 0.000468000468000468\n",
      "and seeds => 0.000351000351000351\n",
      "of and => 0.00011638733705772812\n",
      "of of => 0.00011638733705772812\n",
      "of sunflower => 0.00034916201117318437\n",
      "of seeds => 0.00034916201117318437\n",
      "sunflower and => 0.0004\n",
      "sunflower of => 0.00013333333333333334\n",
      "sunflower sunflower => 0.00013333333333333334\n",
      "sunflower seeds => 0.0008\n",
      "seeds and => 0.00040074806305102857\n",
      "seeds of => 0.0002671653753673524\n",
      "seeds sunflower => 0.0001335826876836762\n",
      "seeds seeds => 0.0001335826876836762\n"
     ]
    }
   ],
   "source": [
    "print(\"Laplace Smoothing applied PROBABILITY\\n\")\n",
    "for bigram in bigram_combinations:\n",
    "    print(\"{} => {}\".format(bigram, laplace_smooth_proba(bigram)))"
   ]
  },
  {
   "cell_type": "markdown",
   "metadata": {},
   "source": [
    "#### Compare the following two language models using perplexity on the basis of bigrams. The test set contains only one sentence: \n",
    "`That is complete nonsense!`\n",
    "\n",
    "\n",
    "Assume that the bigram probability that a sentence starts with That is 1.\n",
    "\n",
    "_For data check the handout_"
   ]
  },
  {
   "cell_type": "code",
   "execution_count": 29,
   "metadata": {},
   "outputs": [
    {
     "data": {
      "text/plain": [
       "0.00833448"
      ]
     },
     "execution_count": 29,
     "metadata": {},
     "output_type": "execute_result"
    }
   ],
   "source": [
    "pw = 1 * 0.28 * 0.22 * 0.33 * 0.41\n",
    "pw"
   ]
  },
  {
   "cell_type": "code",
   "execution_count": 30,
   "metadata": {},
   "outputs": [
    {
     "data": {
      "text/plain": [
       "119.9834902717386"
      ]
     },
     "execution_count": 30,
     "metadata": {},
     "output_type": "execute_result"
    }
   ],
   "source": [
    "p = 1 / pw\n",
    "p"
   ]
  },
  {
   "cell_type": "code",
   "execution_count": 31,
   "metadata": {},
   "outputs": [
    {
     "data": {
      "text/plain": [
       "119.9835"
      ]
     },
     "execution_count": 31,
     "metadata": {},
     "output_type": "execute_result"
    }
   ],
   "source": [
    "rounded_p = round(p, 4)\n",
    "rounded_p"
   ]
  },
  {
   "cell_type": "code",
   "execution_count": 32,
   "metadata": {},
   "outputs": [
    {
     "data": {
      "text/plain": [
       "2.6050994385518766"
      ]
     },
     "execution_count": 32,
     "metadata": {},
     "output_type": "execute_result"
    }
   ],
   "source": [
    "perplexity_1 = rounded_p ** (1/float(5))\n",
    "perplexity_1"
   ]
  },
  {
   "cell_type": "code",
   "execution_count": 33,
   "metadata": {},
   "outputs": [
    {
     "data": {
      "text/plain": [
       "2.6051"
      ]
     },
     "execution_count": 33,
     "metadata": {},
     "output_type": "execute_result"
    }
   ],
   "source": [
    "round(perplexity_1, 4)"
   ]
  },
  {
   "cell_type": "code",
   "execution_count": 34,
   "metadata": {},
   "outputs": [
    {
     "data": {
      "text/plain": [
       "0.0022730399999999996"
      ]
     },
     "execution_count": 34,
     "metadata": {},
     "output_type": "execute_result"
    }
   ],
   "source": [
    "pw2 = 1 * 0.22 * 0.12 * 0.21 * 0.41\n",
    "pw2 "
   ]
  },
  {
   "cell_type": "code",
   "execution_count": 35,
   "metadata": {},
   "outputs": [
    {
     "data": {
      "text/plain": [
       "0.0023"
      ]
     },
     "execution_count": 35,
     "metadata": {},
     "output_type": "execute_result"
    }
   ],
   "source": [
    "round(pw2, 4)"
   ]
  },
  {
   "cell_type": "code",
   "execution_count": 36,
   "metadata": {},
   "outputs": [
    {
     "data": {
      "text/plain": [
       "439.9394643297083"
      ]
     },
     "execution_count": 36,
     "metadata": {},
     "output_type": "execute_result"
    }
   ],
   "source": [
    "p2 = 1 / pw2\n",
    "p2"
   ]
  },
  {
   "cell_type": "code",
   "execution_count": 37,
   "metadata": {},
   "outputs": [
    {
     "data": {
      "text/plain": [
       "439.9395"
      ]
     },
     "execution_count": 37,
     "metadata": {},
     "output_type": "execute_result"
    }
   ],
   "source": [
    "rounded_p2 = round(p2, 4)\n",
    "rounded_p2"
   ]
  },
  {
   "cell_type": "code",
   "execution_count": 38,
   "metadata": {},
   "outputs": [
    {
     "data": {
      "text/plain": [
       "3.37814736882272"
      ]
     },
     "execution_count": 38,
     "metadata": {},
     "output_type": "execute_result"
    }
   ],
   "source": [
    "perplexity_2 = rounded_p2 ** (1/float(5))\n",
    "perplexity_2"
   ]
  },
  {
   "cell_type": "code",
   "execution_count": 39,
   "metadata": {},
   "outputs": [
    {
     "data": {
      "text/plain": [
       "3.3781"
      ]
     },
     "execution_count": 39,
     "metadata": {},
     "output_type": "execute_result"
    }
   ],
   "source": [
    "round(perplexity_2, 4)"
   ]
  },
  {
   "cell_type": "markdown",
   "metadata": {},
   "source": [
    "![perplexity](./IMG_0121.JPG)"
   ]
  },
  {
   "cell_type": "markdown",
   "metadata": {},
   "source": [
    "#### Explain why an improved language model within a statistical machine translation system might improve the overall quality of the automatic translations.\n",
    "\n",
    "* Improved language model will have higher bigram probability.\n",
    "* Higher bigram probablity means better context probablility, words with similar contexts will be nearby or will have more chances of being in a bigram.\n",
    "* Improved language model means less perplexity which in turn means the model will perform well on test sets.\n",
    "* Increases the probability of sentences generated by the model to be valid in the language (source and target).\n",
    "* Can predict which word will be more suitable in a sentence (N-Gram model objective)\n",
    "\n",
    "Read: \n",
    "- [Statistical Machine Translation - Language Models](https://albertusk95.github.io/posts/2017/01/smt-language-models/)\n",
    "- [Ch 07 Language Models - Statistical Machine Translation](http://www.statmt.org/book/slides/07-language-models.pdf)"
   ]
  }
 ],
 "metadata": {
  "file_extension": ".py",
  "kernelspec": {
   "display_name": "Python 3.6.2 64-bit ('venv': virtualenv)",
   "language": "python",
   "name": "python36264bitvenvvirtualenv00234b392389491895b47a4dcc7944d8"
  },
  "language_info": {
   "codemirror_mode": {
    "name": "ipython",
    "version": 3
   },
   "file_extension": ".py",
   "mimetype": "text/x-python",
   "name": "python",
   "nbconvert_exporter": "python",
   "pygments_lexer": "ipython3",
   "version": "3.6.2"
  },
  "mimetype": "text/x-python",
  "name": "python",
  "npconvert_exporter": "python",
  "pygments_lexer": "ipython3",
  "version": 3
 },
 "nbformat": 4,
 "nbformat_minor": 2
}
