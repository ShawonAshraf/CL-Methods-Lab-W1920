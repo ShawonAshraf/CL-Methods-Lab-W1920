{
 "nbformat": 4,
 "nbformat_minor": 2,
 "metadata": {
  "language_info": {
   "name": "python",
   "codemirror_mode": {
    "name": "ipython",
    "version": 3
   },
   "version": "3.6.2-final"
  },
  "orig_nbformat": 2,
  "file_extension": ".py",
  "mimetype": "text/x-python",
  "name": "python",
  "npconvert_exporter": "python",
  "pygments_lexer": "ipython3",
  "version": 3,
  "kernelspec": {
   "name": "python36264bitvenvvirtualenv00234b392389491895b47a4dcc7944d8",
   "display_name": "Python 3.6.2 64-bit ('venv': virtualenv)"
  }
 },
 "cells": [
  {
   "cell_type": "markdown",
   "execution_count": null,
   "metadata": {},
   "outputs": [],
   "source": [
    "# Exercise - Language Model"
   ]
  },
  {
   "cell_type": "markdown",
   "execution_count": null,
   "metadata": {},
   "outputs": [],
   "source": [
    "## n-Grams and Language Models"
   ]
  },
  {
   "cell_type": "markdown",
   "execution_count": null,
   "metadata": {},
   "outputs": [],
   "source": [
    "### Tokenise the corpus"
   ]
  },
  {
   "cell_type": "code",
   "execution_count": 26,
   "metadata": {},
   "outputs": [],
   "source": [
    "# tokenize\n",
    "!cat wiki-en-flower.txt | tr ' ' '\\n' > wiki-en-flower-token.txt"
   ]
  },
  {
   "cell_type": "markdown",
   "execution_count": null,
   "metadata": {},
   "outputs": [],
   "source": [
    "### Determine the number of word tokens and the number of word types in the corpus."
   ]
  },
  {
   "cell_type": "code",
   "execution_count": 28,
   "metadata": {},
   "outputs": [
    {
     "name": "stdout",
     "output_type": "stream",
     "text": "7454\n"
    }
   ],
   "source": [
    "# word types\n",
    "!sort wiki-en-flower-token.txt | uniq -c | wc -l"
   ]
  },
  {
   "cell_type": "code",
   "execution_count": 29,
   "metadata": {},
   "outputs": [
    {
     "name": "stdout",
     "output_type": "stream",
     "text": "33584\n"
    }
   ],
   "source": [
    "# tokens\n",
    "!cat wiki-en-flower-token.txt | wc -l"
   ]
  },
  {
   "cell_type": "markdown",
   "execution_count": null,
   "metadata": {},
   "outputs": [],
   "source": [
    "### Generate the bigrams and the trigrams that appear in the corpus."
   ]
  },
  {
   "cell_type": "code",
   "execution_count": 7,
   "metadata": {},
   "outputs": [],
   "source": [
    "!tail -n+2 wiki-en-flower-token.txt > tmp1.txt\n",
    "!paste -d ' ' wiki-en-flower-token.txt tmp1.txt > bigram.txt"
   ]
  },
  {
   "cell_type": "code",
   "execution_count": 10,
   "metadata": {},
   "outputs": [],
   "source": [
    "!tail -n+2 tmp1.txt > tmp2.txt\n",
    "!paste -d ' ' wiki-en-flower-token.txt tmp1.txt tmp2.txt > trigram.txt"
   ]
  },
  {
   "cell_type": "code",
   "execution_count": 11,
   "metadata": {},
   "outputs": [],
   "source": [
    "# clean up\n",
    "!rm tmp1.txt\n",
    "!rm tmp2.txt"
   ]
  },
  {
   "cell_type": "markdown",
   "execution_count": null,
   "metadata": {},
   "outputs": [],
   "source": [
    "### How many bigram and trigram types and tokens does the corpus have?"
   ]
  },
  {
   "cell_type": "code",
   "execution_count": 8,
   "metadata": {},
   "outputs": [
    {
     "name": "stdout",
     "output_type": "stream",
     "text": "21878\n"
    }
   ],
   "source": [
    "# bigrams\n",
    "!sort bigram.txt | uniq -c | wc -l"
   ]
  },
  {
   "cell_type": "code",
   "execution_count": 12,
   "metadata": {},
   "outputs": [
    {
     "name": "stdout",
     "output_type": "stream",
     "text": "29588\n"
    }
   ],
   "source": [
    "# trigrams\n",
    "!sort trigram.txt | uniq -c | wc -l"
   ]
  },
  {
   "cell_type": "markdown",
   "execution_count": null,
   "metadata": {},
   "outputs": [],
   "source": [
    "### Name two bigrams and two trigrams that contain the word sunflower and appear more often than once in the corpus. How often do these bigrams and trigrams appear in the corpus?"
   ]
  },
  {
   "cell_type": "code",
   "execution_count": 13,
   "metadata": {},
   "outputs": [],
   "source": [
    "with open(\"bigram.txt\", \"r\", encoding=\"utf-8\") as f:\n",
    "    bigrams = f.readlines()\n",
    "with open(\"trigram.txt\", \"r\", encoding=\"utf-8\") as f:\n",
    "    trigrams = f.readlines()"
   ]
  },
  {
   "cell_type": "code",
   "execution_count": 14,
   "metadata": {},
   "outputs": [],
   "source": [
    "sunflower = []\n",
    "\n",
    "for gram in bigrams + trigrams:\n",
    "    if \"sunflower\" in gram:\n",
    "        sunflower.append(gram)"
   ]
  },
  {
   "cell_type": "code",
   "execution_count": 15,
   "metadata": {},
   "outputs": [
    {
     "name": "stdout",
     "output_type": "stream",
     "text": "['or sunflower\\n', 'sunflower ,\\n', 'the sunflower\\n', 'sunflower family\\n', '( sunflowers\\n', 'sunflowers ,\\n', 'including sunflower\\n', 'sunflower (\\n', '\" \\'sunflower\\n', \"'sunflower family\\n\", '( sunflower\\n', 'sunflower )\\n', 'domestic sunflower\\n', 'sunflower )\\n', ', sunflower\\n', 'sunflower seeds\\n', 'as sunflower\\n', 'sunflower and\\n', '; sunflower\\n', 'sunflower 1196.6\\n', 'in sunflowers\\n', 'sunflowers ,\\n', 'as sunflower\\n', 'sunflower oil\\n', ', sunflower\\n', 'sunflower seed\\n', 'and sunflowers\\n', 'sunflowers .\\n', 'a sunflower\\n', \"sunflower 's\\n\", 'as sunflower\\n', 'sunflower ,\\n', 'a sunflower\\n', 'sunflower was\\n', 'that sunflowers\\n', 'sunflowers and\\n', 'from sunflower\\n', 'sunflower ,\\n', ', sunflower\\n', 'sunflower ,\\n', ', sunflower\\n', 'sunflower seed\\n', 'with sunflowers\\n', 'sunflowers ,\\n', ', sunflower\\n', 'sunflower ,\\n', ', sunflower\\n', 'sunflower ,\\n', 'and sunflower\\n', 'sunflower production\\n', ', sunflower\\n', 'sunflower ,\\n', ', sunflower\\n', 'sunflower seed\\n', 'Angeles sunflower\\n', 'sunflower ,\\n', 'of sunflower\\n', 'sunflower seed\\n', '\" sunflower\\n', 'sunflower capitol\\n', 'of sunflower\\n', 'sunflower seed\\n', '\" sunflower\\n', 'sunflower capital\\n', ', sunflower\\n', 'sunflower seeds\\n', 'and sunflower\\n', 'sunflower production\\n', 'its sunflower\\n', 'sunflower seeds\\n', ', sunflower\\n', 'sunflower seed\\n', 'and sunflowers\\n', 'sunflowers )\\n', ', sunflower\\n', 'sunflower ,\\n', ', sunflower\\n', 'sunflower seeds\\n', ', sunflower\\n', 'sunflower seeds\\n', ', sunflowers\\n', 'sunflowers ,\\n', ', sunflowers\\n', 'sunflowers ,\\n', 'to sunflower\\n', 'sunflower and\\n', ', sunflower\\n', 'sunflower (\\n', 'and sunflower\\n', 'sunflower oils\\n', ', sunflowers\\n', 'sunflowers ,\\n', 'heliotrope or sunflower\\n', 'or sunflower ,\\n', 'sunflower , which\\n', 'of the sunflower\\n', 'the sunflower family\\n', 'sunflower family ,\\n', 'Asteraceae ( sunflowers\\n', '( sunflowers ,\\n', 'sunflowers , daisies\\n', ', including sunflower\\n', 'including sunflower (\\n', 'sunflower ( \"\\n', 'or \" \\'sunflower\\n', '\" \\'sunflower family\\n', \"'sunflower family )\\n\", '\" ( sunflower\\n', '( sunflower )\\n', 'sunflower ) ,\\n', '( domestic sunflower\\n', 'domestic sunflower )\\n', 'sunflower ) ,\\n', 'spurge , sunflower\\n', ', sunflower seeds\\n', 'sunflower seeds ,\\n', 'such as sunflower\\n', 'as sunflower and\\n', 'sunflower and peanuts\\n', '3301.9 ; sunflower\\n', '; sunflower 1196.6\\n', 'sunflower 1196.6 ;\\n', 'seen in sunflowers\\n', 'in sunflowers ,\\n', 'sunflowers , asters\\n', 'such as sunflower\\n', 'as sunflower oil\\n', 'sunflower oil ,\\n', 'beets , sunflower\\n', ', sunflower seed\\n', 'sunflower seed ,\\n', 'hemp and sunflowers\\n', 'and sunflowers .\\n', 'sunflowers . \\n', 'in a sunflower\\n', \"a sunflower 's\\n\", \"sunflower 's head\\n\", 'such as sunflower\\n', 'as sunflower ,\\n', 'sunflower , rapeseed\\n', 'of a sunflower\\n', 'a sunflower was\\n', 'sunflower was proposed\\n', 'said that sunflowers\\n', 'that sunflowers and\\n', 'sunflowers and similar\\n', 'came from sunflower\\n', 'from sunflower ,\\n', 'sunflower , and\\n', 'bean , sunflower\\n', ', sunflower ,\\n', 'sunflower , sesame\\n', 'linseed , sunflower\\n', ', sunflower seed\\n', 'sunflower seed ,\\n', 'home with sunflowers\\n', 'with sunflowers ,\\n', 'sunflowers , and\\n', 'oat , sunflower\\n', ', sunflower ,\\n', 'sunflower , poppy\\n', 'dandelion , sunflower\\n', ', sunflower ,\\n', 'sunflower , honeysuckle\\n', ', and sunflower\\n', 'and sunflower production\\n', 'sunflower production most\\n', 'safflower , sunflower\\n', ', sunflower ,\\n', 'sunflower , and\\n', 'oil , sunflower\\n', ', sunflower seed\\n', 'sunflower seed oil\\n', 'Los Angeles sunflower\\n', 'Angeles sunflower ,\\n', 'sunflower , have\\n', 'producer of sunflower\\n', 'of sunflower seed\\n', 'sunflower seed and\\n', 'the \" sunflower\\n', '\" sunflower capitol\\n', 'sunflower capitol of\\n', 'producer of sunflower\\n', 'of sunflower seed\\n', 'sunflower seed and\\n', 'the \" sunflower\\n', '\" sunflower capital\\n', 'sunflower capital of\\n', 'eggs , sunflower\\n', ', sunflower seeds\\n', 'sunflower seeds ,\\n', 'grape and sunflower\\n', 'and sunflower production\\n', 'sunflower production .\\n', 'for its sunflower\\n', 'its sunflower seeds\\n', 'sunflower seeds ,\\n', 'beets , sunflower\\n', ', sunflower seed\\n', 'sunflower seed ,\\n', ', and sunflowers\\n', 'and sunflowers )\\n', 'sunflowers ) is\\n', 'cotton , sunflower\\n', ', sunflower ,\\n', 'sunflower , pumpkins\\n', 'seeds , sunflower\\n', ', sunflower seeds\\n', 'sunflower seeds ,\\n', 'barley , sunflower\\n', ', sunflower seeds\\n', 'sunflower seeds ,\\n', 'squash , sunflowers\\n', ', sunflowers ,\\n', 'sunflowers , and\\n', 'corn , sunflowers\\n', ', sunflowers ,\\n', 'sunflowers , beans\\n', 'chlorophyll to sunflower\\n', 'to sunflower and\\n', 'sunflower and soybean\\n', '3â13:1 , sunflower\\n', ', sunflower (\\n', 'sunflower ( no\\n', 'soybean and sunflower\\n', 'and sunflower oils\\n', 'sunflower oils .\\n', 'lilies , sunflowers\\n', ', sunflowers ,\\n', 'sunflowers , blue\\n']\n"
    }
   ],
   "source": [
    "print(sunflower)"
   ]
  },
  {
   "cell_type": "code",
   "execution_count": 16,
   "metadata": {},
   "outputs": [],
   "source": [
    "import collections\n",
    "\n",
    "c = collections.Counter(sunflower)\n",
    "# appears more than once\n",
    "significants = []\n",
    "for k in c.keys():\n",
    "    if c[k] > 1:\n",
    "        significants.append(k)"
   ]
  },
  {
   "cell_type": "code",
   "execution_count": 17,
   "metadata": {},
   "outputs": [
    {
     "data": {
      "text/plain": "['sunflower ,\\n',\n 'sunflowers ,\\n',\n 'sunflower (\\n',\n 'sunflower )\\n',\n ', sunflower\\n',\n 'sunflower seeds\\n',\n 'as sunflower\\n',\n 'sunflower and\\n',\n 'sunflower seed\\n',\n 'and sunflowers\\n',\n 'a sunflower\\n',\n 'and sunflower\\n',\n 'sunflower production\\n',\n 'of sunflower\\n',\n '\" sunflower\\n',\n ', sunflowers\\n',\n 'sunflower ) ,\\n',\n ', sunflower seeds\\n',\n 'sunflower seeds ,\\n',\n 'such as sunflower\\n',\n 'beets , sunflower\\n',\n ', sunflower seed\\n',\n 'sunflower seed ,\\n',\n 'sunflower , and\\n',\n ', sunflower ,\\n',\n 'sunflowers , and\\n',\n 'and sunflower production\\n',\n 'producer of sunflower\\n',\n 'of sunflower seed\\n',\n 'sunflower seed and\\n',\n 'the \" sunflower\\n',\n ', sunflowers ,\\n']"
     },
     "execution_count": 17,
     "metadata": {},
     "output_type": "execute_result"
    }
   ],
   "source": [
    "significants"
   ]
  },
  {
   "cell_type": "code",
   "execution_count": 18,
   "metadata": {},
   "outputs": [
    {
     "data": {
      "text/plain": "32"
     },
     "execution_count": 18,
     "metadata": {},
     "output_type": "execute_result"
    }
   ],
   "source": [
    "# frequency of appearing\n",
    "n_appearence = len(significants)\n",
    "n_appearence"
   ]
  },
  {
   "cell_type": "markdown",
   "execution_count": null,
   "metadata": {},
   "outputs": [],
   "source": [
    "### Estimate the probability of the bigram sunflower seeds using maximum likelihood estimation."
   ]
  },
  {
   "cell_type": "code",
   "execution_count": 21,
   "metadata": {},
   "outputs": [],
   "source": [
    "sun_seeds = \"sunflower seeds\\n\""
   ]
  },
  {
   "cell_type": "code",
   "execution_count": 22,
   "metadata": {},
   "outputs": [
    {
     "data": {
      "text/plain": "0.15625"
     },
     "execution_count": 22,
     "metadata": {},
     "output_type": "execute_result"
    }
   ],
   "source": [
    "mle = c[sun_seeds] / n_appearence\n",
    "mle"
   ]
  },
  {
   "cell_type": "markdown",
   "execution_count": null,
   "metadata": {},
   "outputs": [],
   "source": [
    "## Smoothing"
   ]
  },
  {
   "cell_type": "markdown",
   "execution_count": null,
   "metadata": {},
   "outputs": [],
   "source": [
    "### Determine the unigram frequencies for the four word forms and, of, sunflower, seeds, and the bigram frequencies for the 16 bigram combinations of these four word forms."
   ]
  },
  {
   "cell_type": "code",
   "execution_count": 23,
   "metadata": {},
   "outputs": [
    {
     "data": {
      "text/plain": "33584"
     },
     "execution_count": 23,
     "metadata": {},
     "output_type": "execute_result"
    }
   ],
   "source": [
    "with open(\"wiki-en-flower-token.txt\", encoding=\"utf-8\") as f:\n",
    "    tokens = f.readlines()\n",
    "\n",
    "len(tokens)"
   ]
  },
  {
   "cell_type": "code",
   "execution_count": 24,
   "metadata": {},
   "outputs": [],
   "source": [
    "word_freqs = collections.Counter(tokens)"
   ]
  },
  {
   "cell_type": "code",
   "execution_count": 25,
   "metadata": {},
   "outputs": [
    {
     "name": "stdout",
     "output_type": "stream",
     "text": "and\n => 952\nof\n => 1034\nsunflower\n => 36\nseeds\n => 30\n"
    }
   ],
   "source": [
    "unigrams = [\"and\\n\", \"of\\n\", \"sunflower\\n\", \"seeds\\n\"]\n",
    "for u in unigrams:\n",
    "    print(\"{} => {}\".format(u, word_freqs[u]))"
   ]
  },
  {
   "cell_type": "code",
   "execution_count": 26,
   "metadata": {},
   "outputs": [],
   "source": [
    "from itertools import chain, combinations\n",
    "\n",
    "combos = list(chain.from_iterable(combinations(unigrams, r) for r in range(len(unigrams) + 1)))"
   ]
  },
  {
   "cell_type": "code",
   "execution_count": 27,
   "metadata": {},
   "outputs": [
    {
     "data": {
      "text/plain": "16"
     },
     "execution_count": 27,
     "metadata": {},
     "output_type": "execute_result"
    }
   ],
   "source": [
    "len(combos)"
   ]
  },
  {
   "cell_type": "code",
   "execution_count": 28,
   "metadata": {},
   "outputs": [
    {
     "data": {
      "text/plain": "[(),\n ('and\\n',),\n ('of\\n',),\n ('sunflower\\n',),\n ('seeds\\n',),\n ('and\\n', 'of\\n'),\n ('and\\n', 'sunflower\\n'),\n ('and\\n', 'seeds\\n'),\n ('of\\n', 'sunflower\\n'),\n ('of\\n', 'seeds\\n'),\n ('sunflower\\n', 'seeds\\n'),\n ('and\\n', 'of\\n', 'sunflower\\n'),\n ('and\\n', 'of\\n', 'seeds\\n'),\n ('and\\n', 'sunflower\\n', 'seeds\\n'),\n ('of\\n', 'sunflower\\n', 'seeds\\n'),\n ('and\\n', 'of\\n', 'sunflower\\n', 'seeds\\n')]"
     },
     "execution_count": 28,
     "metadata": {},
     "output_type": "execute_result"
    }
   ],
   "source": [
    "combos"
   ]
  },
  {
   "cell_type": "code",
   "execution_count": null,
   "metadata": {},
   "outputs": [],
   "source": []
  }
 ]
}